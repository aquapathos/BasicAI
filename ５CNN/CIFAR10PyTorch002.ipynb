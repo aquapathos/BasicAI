{
  "cells": [
    {
      "cell_type": "markdown",
      "metadata": {
        "id": "view-in-github",
        "colab_type": "text"
      },
      "source": [
        "<a href=\"https://colab.research.google.com/github/aquapathos/BasicAI/blob/master/%EF%BC%95CNN/CIFAR10PyTorch002.ipynb\" target=\"_parent\"><img src=\"https://colab.research.google.com/assets/colab-badge.svg\" alt=\"Open In Colab\"/></a>"
      ]
    },
    {
      "cell_type": "code",
      "source": [
        "# 動作環境の確認\n",
        "import torch\n",
        "device = torch.device('cuda:0' if torch.cuda.is_available() else 'cpu')\n",
        "print(device)\n",
        "if device.type != 'cpu':\n",
        "  print(torch.cuda.get_device_name())\n",
        "  print(torch.cuda.get_device_capability())"
      ],
      "metadata": {
        "colab": {
          "base_uri": "https://localhost:8080/"
        },
        "id": "eAVM9-ASRcur",
        "outputId": "1fe1caae-d0dd-403c-d59a-8431e0c19204"
      },
      "execution_count": null,
      "outputs": [
        {
          "output_type": "stream",
          "name": "stdout",
          "text": [
            "cuda:0\n",
            "Tesla P100-PCIE-16GB\n",
            "(6, 0)\n"
          ]
        }
      ]
    },
    {
      "cell_type": "markdown",
      "source": [
        "（注）最後にcuda:0 と表示されれば、GPUが有効です。cpu なら gpu が無効で cpu だけでの計算となります。"
      ],
      "metadata": {
        "id": "0m4wgxcgSyoU"
      }
    },
    {
      "cell_type": "markdown",
      "source": [
        "# 画像の収集\n",
        "画像を認識するためには、まず事前にたくさんの事例をAIに機械学習させておく必要がありますが、\n",
        "大量の画像を自分で用意するのは大変なので、プログラムで収集することにします。\n",
        "\n",
        "以下、重要な指示は<font color='blue'>青字</font>にしてありますので、見落とさないように演習を進めていってください。"
      ],
      "metadata": {
        "id": "nvxGm2J1GVZB"
      }
    },
    {
      "cell_type": "markdown",
      "source": [
        "# 1. Google Drive をマウント\n",
        "Google Colaboratory は一定時間経過すると作業内容が削除されてしまいます。消したくないデータや後日再利用したいデータは Google Drive に保存するようにプログラムすることで、残すことができます。\n",
        "\n",
        "\n",
        "1. <font color='blue'>この説明の下のセルを実行する\n",
        "2. アクセス許可の確認ダイアログが出る。「Googleドライブに接続」をクリック。\n",
        "3. アカウントを選択する。\n",
        "4. アクセスリクエストのダイアログに変わる。一番下までスクロールし「許可」をクリック。\n",
        "5. 左のファイル一覧エリアで「更新アイコン」（回転マーク）をクリック（エリアが表示されていないなら「ファイルアイコン」（フォルダ型）をクリック）</font>\n",
        "\n",
        "\n",
        "<img width=\"390\" alt=\"googlecolab\" src=\"https://user-images.githubusercontent.com/5820803/94802343-739cff00-0422-11eb-8c0d-affa919f8e58.png\">\n",
        "\n",
        "　<font color=blue>次のセルを実行してください</font>\n",
        "\n",
        "\n"
      ],
      "metadata": {
        "id": "A3mdVCniM_QT"
      }
    },
    {
      "cell_type": "code",
      "source": [
        "from google.colab import drive\n",
        "drive.mount('/content/drive')"
      ],
      "metadata": {
        "colab": {
          "base_uri": "https://localhost:8080/"
        },
        "id": "2tJ9sNVUNHpL",
        "outputId": "4020e3ce-f203-448c-89cf-426e588a648d"
      },
      "execution_count": null,
      "outputs": [
        {
          "output_type": "stream",
          "name": "stdout",
          "text": [
            "Drive already mounted at /content/drive; to attempt to forcibly remount, call drive.mount(\"/content/drive\", force_remount=True).\n"
          ]
        }
      ]
    },
    {
      "cell_type": "markdown",
      "source": [
        "# 1. 画像の収集と選別\n",
        "\n",
        "自分で収集した画像を使って独自のデータセットを作り、先と同様の実験をやってみましょう。\n",
        "\n",
        "## 1-1 画像の収集\n",
        "\n",
        "画像を収集するために必要なライブラリを準備します。  <font color='blue'>次のセルを実行してください</font>"
      ],
      "metadata": {
        "id": "h4Mdz0p8NYjd"
      }
    },
    {
      "cell_type": "code",
      "source": [
        "import glob\n",
        "import cv2\n",
        "import matplotlib.pyplot as plt\n",
        "from PIL import Image\n",
        "import numpy as np\n",
        "!pip -q install icrawler\n",
        "from icrawler.builtin import BingImageCrawler\n",
        "import warnings\n",
        "warnings.simplefilter('ignore')\n",
        "\n",
        "ViewSIZE = 128 # 表示用画像サイズ高さと幅\n",
        "SIZE = 32 # モデルに入力する際の画像サイズ"
      ],
      "metadata": {
        "id": "4WnO7WkwNHbP"
      },
      "execution_count": null,
      "outputs": []
    },
    {
      "cell_type": "markdown",
      "source": [
        "機械学習の際に画像のサイズをすべて同じに揃えます。ViewSIZEは表示用の画像サイズ、SIZEは学習・認識時のサイズです。  \n",
        "CIFAR10に合わせるためにSIZE = 32としています。\n",
        "\n",
        "次に、収集する画像のカテゴリを決めましょう。"
      ],
      "metadata": {
        "id": "q8w-Woc3NtRD"
      }
    },
    {
      "cell_type": "markdown",
      "metadata": {
        "id": "qEfwOxDSdIL2"
      },
      "source": [
        "\n",
        "\n",
        "--\n",
        "CIFAR-10 のカテゴリは\n",
        "- airplane (飛行機)\n",
        "- automobile (自動車）\n",
        "- bird (鳥類）\n",
        "- cat （ネコ)\n",
        "- deer (シカ）\n",
        "- dog （イヌ）\n",
        "- frog （カエル）\n",
        "- horse（ウマ）\n",
        "- ship（船舶）\n",
        "- truck（トラック） \n",
        "\n",
        "でした。比較したいので、ここに含まれるの中から「ネコ」とネコ以外のカテゴリを１つ、さらに、ここに含まれないカテゴリを２つ考えましょう。\n",
        "以下では、CIFAR10のカテゴリから「ネコ」と「イヌ」、追加カテゴリとして「カメ」「スクータ」を選んだものとして説明していきます。"
      ]
    },
    {
      "cell_type": "markdown",
      "source": [
        "下のセルのカテゴリ名と検索用の同義語リストを自分で選んだものに書き換えて実行してください。  \n",
        "書いてあるものから選んでも構いません。\n",
        "\n",
        "  <font color='blue'>次のセルを実行してください</font>"
      ],
      "metadata": {
        "id": "W-Uh6b70F6S4"
      }
    },
    {
      "cell_type": "code",
      "source": [
        "synonyms = {'ネコ':['猫','cat'],  # 検索用の同義語を追加\n",
        "            'イヌ':['犬','dog'],\n",
        "            'カメ':['亀','turtle'],\n",
        "            'カエル':['蛙','flog'],\n",
        "            'サル':['monkey','猿','ゴリラ','メガネザル','チンパンジー'],\n",
        "            '自転車':['bicycle','シマノ自転車','アサヒ自転車','チャリ'],\n",
        "            '船舶':['船','ship','ボート','boat','ヨット','クルーザ'],\n",
        "            '灯台':['とうだい','lighthouse'],\n",
        "            '城':['castle','大阪城','姫路城','天守閣'],\n",
        "            'スクータ':['スクーター','ホンダスクーター','ヤマハスクーター','スズキスクーター'] # 'scooter'だとキックスクータがたくさんでてくる\n",
        "            } # 自分で追加してください。\n",
        "myclasses = ['ネコ','イヌ','灯台','スクータ']"
      ],
      "metadata": {
        "id": "Qt0hYq6mEooS"
      },
      "execution_count": null,
      "outputs": []
    },
    {
      "cell_type": "markdown",
      "source": [
        "\n",
        "ネット上で公開されている画像を収集するためのライブラリ、icrawler を使って画像を収集します。 今回は Bing から画像を拾ってくることにします。\n",
        "\n",
        "次のセルは、猫の画像を最大３００枚まで収集して、一旦 Google Drive の　マイドライブ内の 'tmp/ネコ'　という名のフォルダに保存するプログラムです。　　（ \"drive/MyDrive\" が Google Driveのマイドライブを表しています）\n",
        "\n",
        "keyword= [\"ネコ\",\"猫\",\"cat\"] で検索ワードをしてしています。\n",
        "\n",
        "次のセルを実行 　　（５分ぐらいかかります）"
      ],
      "metadata": {
        "id": "WvGuibj9Ysjw"
      }
    },
    {
      "cell_type": "code",
      "source": [
        "%%time\n",
        "max_num = 300 # 収集枚数\n",
        "TMPFOLDER = 'drive/MyDrive/tmp/' # Google ドライブの マイドライブ内の tmp フォルダ\n",
        "def collectPictures(folderName = \"\", keywords = [], max_num = max_num):\n",
        "    crawler = BingImageCrawler(storage={\"root_dir\":TMPFOLDER+folderName})\n",
        "    crawler.crawl(keyword= keywords, max_num=max_num)\n",
        "\n",
        "for categ in myclasses:\n",
        "  print(categ)\n",
        "  collectPictures(folderName = categ, keywords = [categ]+synonyms[categ])"
      ],
      "metadata": {
        "id": "6UPwd8c3Y3rF"
      },
      "execution_count": null,
      "outputs": []
    },
    {
      "cell_type": "markdown",
      "source": [
        "ERRORが出るのはリンク切れ、プログラムのエラーではなので気にしなくても構いません。\n",
        "\n",
        "## 1.2 画像の選別\n",
        "\n",
        "![Google Drive](https://raw.githubusercontent.com/aquapathos/pictures/gh-pages/BasicAIFig001.png)　　　　　　 ![Google Drive](https://raw.githubusercontent.com/aquapathos/pictures/gh-pages/BasicAIFig002.png)   \n",
        "\n",
        "![Google Drive](https://github.com/aquapathos/pictures/blob/gh-pages/BasicAIFig003.png?raw=true)\n",
        "\n",
        "1. <font color='blue'>ブラウザで新しいタブをつくり、[ドライブ](https://drive.google.com/) を開きます。\n",
        "2. **マイドライブ**の中の**tmp**フォルダを開いてみてください。 自分が決めたカテゴリのフォルダが並んでいるはずです。\n",
        "3.「ネコ」を例として説明します。**ネコ** フォルダを開きます。\n",
        "4. リストレイアウトからグリッドレイアウトに切り替えて不適だと思われる画像を削除してください。\n",
        "5. 同様にして、ほかのカテゴリ（例ではイヌとカメ）についても不要画像を削除してください。</font>\n",
        "\n",
        "不適なのは、次のような画像です。\n",
        "- ネコが写っていない画像。写っていても小さすぎる画像\n",
        "- 主要被写体がネコではない画像、つまりネコ以外のものが目立っている画像\n",
        "- 文字が目立つ画像。できれば文字は入っていないことが望ましいですが、目立たなければOK\n",
        "- デフォルメされたぬいぐるみやイラスト。\n",
        "- GIF 動画\n",
        "- 同一の写真\n",
        "\n",
        "パッと見て、これは「ネコ」が主題の写真だと感じられるものを残して、そうでないもの、他のモノが多くの面積を占めているものは削除してください。(厳密なルールはありません。あなた自身がこれは何かと問われて「ネコ」と答える写真を選べばいいです。あなたの選んだものが教師データとなります。)\n",
        "\n",
        "# 2.3　画像のリサイズ\n",
        "\n",
        "何度も使うので関数を定義しておきます。  <font color='blue'>次のセルを実行してください。</font>　　（コードは非表示になっていますが、実行する必要があります。）"
      ],
      "metadata": {
        "id": "gqymBGpNbcPd"
      }
    },
    {
      "cell_type": "code",
      "source": [
        "#@title リサイズ関数の定義\n",
        "def resize(foldername, size=ViewSIZE):\n",
        "    imgnames = glob.glob(foldername+\"/*\") # 画像ファイル名のリスト\n",
        "    images = []\n",
        "    for imgname in imgnames:\n",
        "        img = cv2.cvtColor(np.array(Image.open(imgname).convert('RGBA')),cv2.COLOR_RGBA2RGB)\n",
        "        height = img.shape[0]\n",
        "        width = img.shape[1]\n",
        "        if height > width :\n",
        "            m = (height - width)//2 \n",
        "            img = img[m:m+width]\n",
        "        else:\n",
        "            m = (width - height)//2\n",
        "            img = img[:,m:m+height]\n",
        "        img = cv2.resize(img, (size,size))\n",
        "        images.append(img)\n",
        "        img = cv2.cvtColor(img,cv2.COLOR_RGB2BGR)\n",
        "        cv2.imwrite(imgname,img)\n",
        "    return images"
      ],
      "metadata": {
        "id": "2NBYmlB2b85L",
        "colab": {
          "base_uri": "https://localhost:8080/",
          "height": 236
        },
        "cellView": "form",
        "outputId": "87d1d6e8-3e70-46d4-d1c3-2a03dd57d9e8"
      },
      "execution_count": 1,
      "outputs": [
        {
          "output_type": "error",
          "ename": "NameError",
          "evalue": "ignored",
          "traceback": [
            "\u001b[0;31m---------------------------------------------------------------------------\u001b[0m",
            "\u001b[0;31mNameError\u001b[0m                                 Traceback (most recent call last)",
            "\u001b[0;32m<ipython-input-1-b4b271470c21>\u001b[0m in \u001b[0;36m<module>\u001b[0;34m()\u001b[0m\n\u001b[1;32m      1\u001b[0m \u001b[0;31m#@title リサイズ関数の定義\u001b[0m\u001b[0;34m\u001b[0m\u001b[0;34m\u001b[0m\u001b[0;34m\u001b[0m\u001b[0m\n\u001b[0;32m----> 2\u001b[0;31m \u001b[0;32mdef\u001b[0m \u001b[0mresize\u001b[0m\u001b[0;34m(\u001b[0m\u001b[0mfoldername\u001b[0m\u001b[0;34m,\u001b[0m \u001b[0msize\u001b[0m\u001b[0;34m=\u001b[0m\u001b[0mViewSIZE\u001b[0m\u001b[0;34m)\u001b[0m\u001b[0;34m:\u001b[0m\u001b[0;34m\u001b[0m\u001b[0;34m\u001b[0m\u001b[0m\n\u001b[0m\u001b[1;32m      3\u001b[0m     \u001b[0mimgnames\u001b[0m \u001b[0;34m=\u001b[0m \u001b[0mglob\u001b[0m\u001b[0;34m.\u001b[0m\u001b[0mglob\u001b[0m\u001b[0;34m(\u001b[0m\u001b[0mfoldername\u001b[0m\u001b[0;34m+\u001b[0m\u001b[0;34m\"/*\"\u001b[0m\u001b[0;34m)\u001b[0m \u001b[0;31m# 画像ファイル名のリスト\u001b[0m\u001b[0;34m\u001b[0m\u001b[0;34m\u001b[0m\u001b[0m\n\u001b[1;32m      4\u001b[0m     \u001b[0mimages\u001b[0m \u001b[0;34m=\u001b[0m \u001b[0;34m[\u001b[0m\u001b[0;34m]\u001b[0m\u001b[0;34m\u001b[0m\u001b[0;34m\u001b[0m\u001b[0m\n\u001b[1;32m      5\u001b[0m     \u001b[0;32mfor\u001b[0m \u001b[0mimgname\u001b[0m \u001b[0;32min\u001b[0m \u001b[0mimgnames\u001b[0m\u001b[0;34m:\u001b[0m\u001b[0;34m\u001b[0m\u001b[0;34m\u001b[0m\u001b[0m\n",
            "\u001b[0;31mNameError\u001b[0m: name 'ViewSIZE' is not defined"
          ]
        }
      ]
    },
    {
      "cell_type": "markdown",
      "source": [
        "さっそくリサイズしてみましょう。　　<font color='blue'>次のセルを実行してください。</font>\n",
        "\n",
        "\n"
      ],
      "metadata": {
        "id": "Jg41GoTmnqb6"
      }
    },
    {
      "cell_type": "code",
      "source": [
        "# リサイズを実行\n",
        "images = []\n",
        "for i,categ in enumerate(myclasses):\n",
        "  images.append(resize(TMPFOLDER+categ))\n",
        "  print(f\"{categ} - {len(images[i])} 枚の画像がリサイズされました\")\n",
        "images = np.array(images)"
      ],
      "metadata": {
        "id": "nhRak6dVb8YB"
      },
      "execution_count": null,
      "outputs": []
    },
    {
      "cell_type": "markdown",
      "source": [
        "表示用関数を定義し、表示して確認してみます。　　<font color='blue'>次のセルを実行してください。</font>"
      ],
      "metadata": {
        "id": "ZaC3zB64st95"
      }
    },
    {
      "cell_type": "code",
      "source": [
        "import math\n",
        "# start番からnpic枚表示する関数を定義\n",
        "plt.rcParams['figure.figsize'] = (12.0, 7.0)\n",
        "def showimg(images, start = 0, npic = 48):\n",
        "    n = npic if len(images) >= start+npic else len(images) - start\n",
        "    plt.figure(figsize=(8,7.5*(math.ceil(n/8))/6),dpi=150)\n",
        "    i = 0\n",
        "    while True:\n",
        "        if i < n :  \n",
        "            plt.subplot((n-1)//8+1,8,i+1)\n",
        "            plt.xticks([])\n",
        "            plt.yticks([])\n",
        "            plt.imshow(images[start+i])\n",
        "            plt.title(\"{}\".format(start+i))\n",
        "            i += 1\n",
        "        else:\n",
        "            break"
      ],
      "metadata": {
        "id": "uHkausWAs0uq"
      },
      "execution_count": null,
      "outputs": []
    },
    {
      "cell_type": "markdown",
      "source": [
        "さっそく表示させてみましょう。　　<font color='blue'>次のセルを実行してください。</font>"
      ],
      "metadata": {
        "id": "BnOHc5C2s7pk"
      }
    },
    {
      "cell_type": "code",
      "source": [
        "for i in range(len(images)):\n",
        "  showimg(images = images[i],start=0,npic=8) # 各カテゴリ16枚ずつ表示"
      ],
      "metadata": {
        "id": "ZEpFpOLBtCDb"
      },
      "execution_count": null,
      "outputs": []
    },
    {
      "cell_type": "markdown",
      "source": [
        "## 2.4 学習用画像データの保存と読み込み\n",
        "python にはメモリ上に置かれた変数の値をそっくりそのままファイルとして保存する関数が用意されていますので、その関数を使って変数の中身を Google ドライブに保存したり、読み出したりできるようにしておきます。　　<font color='blue'>次のセルを実行してください。</font>\n"
      ],
      "metadata": {
        "id": "9Mbv_Nz0vAW3"
      }
    },
    {
      "cell_type": "code",
      "source": [
        "import pickle\n",
        "import os\n",
        "\n",
        "# 画像データを pickle 形式で保存\n",
        "def storeCategoryImages(cat, fname, folder = \".\"):\n",
        "    os.makedirs(folder, exist_ok=True)\n",
        "    f = open(folder+\"/\"+fname,'wb')\n",
        "    pickle.dump(cat,f)\n",
        "    f.close\n",
        "    \n",
        "# pickle 形式で保存された画像データの読み込み\n",
        "def loadCategoryImages(fname, folder = \".\"):\n",
        "    f = open(folder+\"/\"+fname,'rb')\n",
        "    cat = pickle.load(f)\n",
        "    f.close\n",
        "    return cat"
      ],
      "metadata": {
        "id": "c2D9gkvmvc2B"
      },
      "execution_count": null,
      "outputs": []
    },
    {
      "cell_type": "markdown",
      "source": [
        "さっそくリサイズした画像をpickle 形式で保存しましょう。　　<font color='blue'>次のセルを実行してください。</font>"
      ],
      "metadata": {
        "id": "mW9oB5LwvsF1"
      }
    },
    {
      "cell_type": "code",
      "source": [
        "GFOLDER = \"drive/MyDrive/CIFAR10\"  # データ保存用のフォルダ名\n",
        "for i,categ in enumerate(myclasses):\n",
        "  print(i,categ)\n",
        "  storeCategoryImages(images[i],f\"{categ}.pkl\",folder=GFOLDER)"
      ],
      "metadata": {
        "id": "5LU-sIppv1lt",
        "colab": {
          "base_uri": "https://localhost:8080/"
        },
        "outputId": "b099b700-3e66-4869-a7b8-d55fb6dc4272"
      },
      "execution_count": null,
      "outputs": [
        {
          "output_type": "stream",
          "name": "stdout",
          "text": [
            "0 ネコ\n",
            "1 イヌ\n",
            "2 灯台\n",
            "3 スクータ\n"
          ]
        }
      ]
    },
    {
      "cell_type": "markdown",
      "source": [
        "今度は逆に pickle 形式で保存されたデータを変数に読み込み、正しく復元できるか確認しておきましょう。一つ目のカテゴリだけ試してみます。　　<font color='blue'>次のセルを実行してください。</font>"
      ],
      "metadata": {
        "id": "E5F_iuJ1wrzX"
      }
    },
    {
      "cell_type": "code",
      "source": [
        "testimg = loadCategoryImages(\"ネコ.pkl\", folder=GFOLDER) \n",
        "showimg(images = testimg,start = 4,npic=8)"
      ],
      "metadata": {
        "id": "xFr-rspjxImU"
      },
      "execution_count": null,
      "outputs": []
    },
    {
      "cell_type": "markdown",
      "source": [
        "# CIFAR10PyTorch003 に進んでください。"
      ],
      "metadata": {
        "id": "iqW4ws4PaKFP"
      }
    },
    {
      "cell_type": "markdown",
      "source": [
        "------"
      ],
      "metadata": {
        "id": "uz1Ht1bhaFtQ"
      }
    }
  ],
  "metadata": {
    "accelerator": "GPU",
    "colab": {
      "collapsed_sections": [],
      "name": "CIFAR10PyTorch002",
      "provenance": [],
      "include_colab_link": true
    },
    "gpuClass": "standard",
    "kernelspec": {
      "display_name": "Python 3",
      "name": "python3"
    }
  },
  "nbformat": 4,
  "nbformat_minor": 0
}