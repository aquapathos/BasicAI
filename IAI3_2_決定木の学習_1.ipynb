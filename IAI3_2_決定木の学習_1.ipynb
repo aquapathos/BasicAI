{
  "nbformat": 4,
  "nbformat_minor": 0,
  "metadata": {
    "kernelspec": {
      "display_name": "Python 3",
      "language": "python",
      "name": "python3"
    },
    "language_info": {
      "codemirror_mode": {
        "name": "ipython",
        "version": 3
      },
      "file_extension": ".py",
      "mimetype": "text/x-python",
      "name": "python",
      "nbconvert_exporter": "python",
      "pygments_lexer": "ipython3",
      "version": "3.7.3"
    },
    "colab": {
      "name": "IAI3_2_決定木の学習_1.ipynb",
      "provenance": [],
      "collapsed_sections": [],
      "include_colab_link": true
    }
  },
  "cells": [
    {
      "cell_type": "markdown",
      "metadata": {
        "id": "view-in-github",
        "colab_type": "text"
      },
      "source": [
        "<a href=\"https://colab.research.google.com/github/aquapathos/BasicAI/blob/master/IAI3_2_%E6%B1%BA%E5%AE%9A%E6%9C%A8%E3%81%AE%E5%AD%A6%E7%BF%92_1.ipynb\" target=\"_parent\"><img src=\"https://colab.research.google.com/assets/colab-badge.svg\" alt=\"Open In Colab\"/></a>"
      ]
    },
    {
      "cell_type": "code",
      "metadata": {
        "id": "3TGGyt0Xp0Pi"
      },
      "source": [
        "# モジュールのインポート\n",
        "!apt-get -qq -y install fonts-ipafont-gothic > /dev/null\n",
        "import pandas as pd\n",
        "import numpy as np\n",
        "from sklearn import tree\n",
        "from graphviz import Digraph,Source\n",
        "import pydotplus as pdp"
      ],
      "execution_count": 1,
      "outputs": []
    },
    {
      "cell_type": "markdown",
      "metadata": {
        "id": "AZ86ZijdDNTx"
      },
      "source": [
        "# 1. アルビノ判定の決定木\n",
        "\n",
        "講義で例として挙げた、アルビノ判定の決定木をプログラムで作ってみます。"
      ]
    },
    {
      "cell_type": "code",
      "metadata": {
        "colab": {
          "base_uri": "https://localhost:8080/",
          "height": 299
        },
        "id": "ghPZ0p2Cp0Pj",
        "outputId": "20d36fe7-488b-44a2-e88d-bdfde63509f2"
      },
      "source": [
        "rawdata=np.array([\n",
        "    # 4つの成分の意味\n",
        "    # 第0成分: 動物種　　０:ウサギ、1:ゾウ\n",
        "    # 第1成分: 体の色　0:白、1:茶、2:灰色\n",
        "    # 第2成分: 目の色　　０:赤、1:黒　　\n",
        "    # 第3成分: アルビノ判定　　負：アルビノではない　　　正：アルビノ\n",
        "    [0,1,1,\"負\"],\n",
        "    [0,0,0,\"正\"],\n",
        "    [0,2,0,\"負\"],\n",
        "    [0,0,0,\"正\"],\n",
        "    [0,0,1,\"負\"],\n",
        "    [1,0,0,\"正\"],\n",
        "    [1,2,0,\"負\"],\n",
        "    [1,2,1,\"負\"],\n",
        "    ])\n",
        "\n",
        "items=['動物種','体の色','目の色']\n",
        "results=['アルビノ判定']\n",
        "df = pd.DataFrame(rawdata,columns=np.r_[items,results])\n",
        "df"
      ],
      "execution_count": 2,
      "outputs": [
        {
          "output_type": "execute_result",
          "data": {
            "text/html": [
              "<div>\n",
              "<style scoped>\n",
              "    .dataframe tbody tr th:only-of-type {\n",
              "        vertical-align: middle;\n",
              "    }\n",
              "\n",
              "    .dataframe tbody tr th {\n",
              "        vertical-align: top;\n",
              "    }\n",
              "\n",
              "    .dataframe thead th {\n",
              "        text-align: right;\n",
              "    }\n",
              "</style>\n",
              "<table border=\"1\" class=\"dataframe\">\n",
              "  <thead>\n",
              "    <tr style=\"text-align: right;\">\n",
              "      <th></th>\n",
              "      <th>動物種</th>\n",
              "      <th>体の色</th>\n",
              "      <th>目の色</th>\n",
              "      <th>アルビノ判定</th>\n",
              "    </tr>\n",
              "  </thead>\n",
              "  <tbody>\n",
              "    <tr>\n",
              "      <th>0</th>\n",
              "      <td>0</td>\n",
              "      <td>1</td>\n",
              "      <td>1</td>\n",
              "      <td>負</td>\n",
              "    </tr>\n",
              "    <tr>\n",
              "      <th>1</th>\n",
              "      <td>0</td>\n",
              "      <td>0</td>\n",
              "      <td>0</td>\n",
              "      <td>正</td>\n",
              "    </tr>\n",
              "    <tr>\n",
              "      <th>2</th>\n",
              "      <td>0</td>\n",
              "      <td>2</td>\n",
              "      <td>0</td>\n",
              "      <td>負</td>\n",
              "    </tr>\n",
              "    <tr>\n",
              "      <th>3</th>\n",
              "      <td>0</td>\n",
              "      <td>0</td>\n",
              "      <td>0</td>\n",
              "      <td>正</td>\n",
              "    </tr>\n",
              "    <tr>\n",
              "      <th>4</th>\n",
              "      <td>0</td>\n",
              "      <td>0</td>\n",
              "      <td>1</td>\n",
              "      <td>負</td>\n",
              "    </tr>\n",
              "    <tr>\n",
              "      <th>5</th>\n",
              "      <td>1</td>\n",
              "      <td>0</td>\n",
              "      <td>0</td>\n",
              "      <td>正</td>\n",
              "    </tr>\n",
              "    <tr>\n",
              "      <th>6</th>\n",
              "      <td>1</td>\n",
              "      <td>2</td>\n",
              "      <td>0</td>\n",
              "      <td>負</td>\n",
              "    </tr>\n",
              "    <tr>\n",
              "      <th>7</th>\n",
              "      <td>1</td>\n",
              "      <td>2</td>\n",
              "      <td>1</td>\n",
              "      <td>負</td>\n",
              "    </tr>\n",
              "  </tbody>\n",
              "</table>\n",
              "</div>"
            ],
            "text/plain": [
              "  動物種 体の色 目の色 アルビノ判定\n",
              "0   0   1   1      負\n",
              "1   0   0   0      正\n",
              "2   0   2   0      負\n",
              "3   0   0   0      正\n",
              "4   0   0   1      負\n",
              "5   1   0   0      正\n",
              "6   1   2   0      負\n",
              "7   1   2   1      負"
            ]
          },
          "metadata": {
            "tags": []
          },
          "execution_count": 2
        }
      ]
    },
    {
      "cell_type": "markdown",
      "metadata": {
        "id": "w9Oo9Ukrp0Pv"
      },
      "source": [
        "### 訓練データをもとに決定木を構成する\n"
      ]
    },
    {
      "cell_type": "code",
      "metadata": {
        "id": "jIKPi6IWp0Pw"
      },
      "source": [
        "# 決定木学習器の準備\n",
        "classifier = tree.DecisionTreeClassifier(criterion='entropy') # 評価基準を情報量基準（entropy)とする。\n",
        "# 訓練データをもとに学習の実行\n",
        "classifier.fit(df[items],df[results]);"
      ],
      "execution_count": 3,
      "outputs": []
    },
    {
      "cell_type": "markdown",
      "metadata": {
        "id": "q5UCitfXp0Pw"
      },
      "source": [
        "### 完成した決定木をpng画像として出力\n",
        "\n",
        "\n"
      ]
    },
    {
      "cell_type": "code",
      "metadata": {
        "colab": {
          "base_uri": "https://localhost:8080/",
          "height": 439
        },
        "id": "nzs3oD2dp0Px",
        "outputId": "0504dd61-77b8-49e5-ecb3-bb09cd5b28d4"
      },
      "source": [
        "# Graphviz 用の dot データを作成する\n",
        "dot_data = tree.export_graphviz(classifier, \n",
        "            out_file=None, # 出力ファイル名 None なら出力しない\n",
        "            filled=True, # ノードを色づけする\n",
        "            rounded=True, # ノードの角を丸く\n",
        "            class_names=['アルビノ','非アルビノ'],\n",
        "            feature_names=items) \n",
        "\n",
        "# 画像の保存\n",
        "graph = pdp.graph_from_dot_data(dot_data)\n",
        "for node in graph.get_nodes():\n",
        "    node.set_fontname(\"IPAGothic\")\n",
        "graph.write_png(\"アルビノ判定.png\")\n",
        "\n",
        "# 画面表示用データの作成\n",
        "Source(dot_data)"
      ],
      "execution_count": 4,
      "outputs": [
        {
          "output_type": "execute_result",
          "data": {
            "text/plain": [
              "<graphviz.files.Source at 0x7f4daea23b50>"
            ],
            "image/svg+xml": "<?xml version=\"1.0\" encoding=\"UTF-8\" standalone=\"no\"?>\n<!DOCTYPE svg PUBLIC \"-//W3C//DTD SVG 1.1//EN\"\n \"http://www.w3.org/Graphics/SVG/1.1/DTD/svg11.dtd\">\n<!-- Generated by graphviz version 2.40.1 (20161225.0304)\n -->\n<!-- Title: Tree Pages: 1 -->\n<svg width=\"360pt\" height=\"314pt\"\n viewBox=\"0.00 0.00 360.00 314.00\" xmlns=\"http://www.w3.org/2000/svg\" xmlns:xlink=\"http://www.w3.org/1999/xlink\">\n<g id=\"graph0\" class=\"graph\" transform=\"scale(1 1) rotate(0) translate(4 310)\">\n<title>Tree</title>\n<polygon fill=\"#ffffff\" stroke=\"transparent\" points=\"-4,4 -4,-310 356,-310 356,4 -4,4\"/>\n<!-- 0 -->\n<g id=\"node1\" class=\"node\">\n<title>0</title>\n<path fill=\"#b0d8f5\" stroke=\"#000000\" d=\"M266,-306C266,-306 153,-306 153,-306 147,-306 141,-300 141,-294 141,-294 141,-235 141,-235 141,-229 147,-223 153,-223 153,-223 266,-223 266,-223 272,-223 278,-229 278,-235 278,-235 278,-294 278,-294 278,-300 272,-306 266,-306\"/>\n<text text-anchor=\"middle\" x=\"209.5\" y=\"-290.8\" font-family=\"Helvetica,sans-Serif\" font-size=\"14.00\" fill=\"#000000\">体の色 &lt;= 0.5</text>\n<text text-anchor=\"middle\" x=\"209.5\" y=\"-275.8\" font-family=\"Helvetica,sans-Serif\" font-size=\"14.00\" fill=\"#000000\">entropy = 0.954</text>\n<text text-anchor=\"middle\" x=\"209.5\" y=\"-260.8\" font-family=\"Helvetica,sans-Serif\" font-size=\"14.00\" fill=\"#000000\">samples = 8</text>\n<text text-anchor=\"middle\" x=\"209.5\" y=\"-245.8\" font-family=\"Helvetica,sans-Serif\" font-size=\"14.00\" fill=\"#000000\">value = [3, 5]</text>\n<text text-anchor=\"middle\" x=\"209.5\" y=\"-230.8\" font-family=\"Helvetica,sans-Serif\" font-size=\"14.00\" fill=\"#000000\">class = 非アルビノ</text>\n</g>\n<!-- 1 -->\n<g id=\"node2\" class=\"node\">\n<title>1</title>\n<path fill=\"#eeab7b\" stroke=\"#000000\" d=\"M185,-187C185,-187 86,-187 86,-187 80,-187 74,-181 74,-175 74,-175 74,-116 74,-116 74,-110 80,-104 86,-104 86,-104 185,-104 185,-104 191,-104 197,-110 197,-116 197,-116 197,-175 197,-175 197,-181 191,-187 185,-187\"/>\n<text text-anchor=\"middle\" x=\"135.5\" y=\"-171.8\" font-family=\"Helvetica,sans-Serif\" font-size=\"14.00\" fill=\"#000000\">目の色 &lt;= 0.5</text>\n<text text-anchor=\"middle\" x=\"135.5\" y=\"-156.8\" font-family=\"Helvetica,sans-Serif\" font-size=\"14.00\" fill=\"#000000\">entropy = 0.811</text>\n<text text-anchor=\"middle\" x=\"135.5\" y=\"-141.8\" font-family=\"Helvetica,sans-Serif\" font-size=\"14.00\" fill=\"#000000\">samples = 4</text>\n<text text-anchor=\"middle\" x=\"135.5\" y=\"-126.8\" font-family=\"Helvetica,sans-Serif\" font-size=\"14.00\" fill=\"#000000\">value = [3, 1]</text>\n<text text-anchor=\"middle\" x=\"135.5\" y=\"-111.8\" font-family=\"Helvetica,sans-Serif\" font-size=\"14.00\" fill=\"#000000\">class = アルビノ</text>\n</g>\n<!-- 0&#45;&gt;1 -->\n<g id=\"edge1\" class=\"edge\">\n<title>0&#45;&gt;1</title>\n<path fill=\"none\" stroke=\"#000000\" d=\"M183.6184,-222.8796C178.1858,-214.1434 172.4008,-204.8404 166.7947,-195.8253\"/>\n<polygon fill=\"#000000\" stroke=\"#000000\" points=\"169.7451,-193.9418 161.4921,-187.2981 163.8007,-197.6383 169.7451,-193.9418\"/>\n<text text-anchor=\"middle\" x=\"155.8153\" y=\"-207.945\" font-family=\"Helvetica,sans-Serif\" font-size=\"14.00\" fill=\"#000000\">True</text>\n</g>\n<!-- 4 -->\n<g id=\"node5\" class=\"node\">\n<title>4</title>\n<path fill=\"#399de5\" stroke=\"#000000\" d=\"M340,-179.5C340,-179.5 227,-179.5 227,-179.5 221,-179.5 215,-173.5 215,-167.5 215,-167.5 215,-123.5 215,-123.5 215,-117.5 221,-111.5 227,-111.5 227,-111.5 340,-111.5 340,-111.5 346,-111.5 352,-117.5 352,-123.5 352,-123.5 352,-167.5 352,-167.5 352,-173.5 346,-179.5 340,-179.5\"/>\n<text text-anchor=\"middle\" x=\"283.5\" y=\"-164.3\" font-family=\"Helvetica,sans-Serif\" font-size=\"14.00\" fill=\"#000000\">entropy = 0.0</text>\n<text text-anchor=\"middle\" x=\"283.5\" y=\"-149.3\" font-family=\"Helvetica,sans-Serif\" font-size=\"14.00\" fill=\"#000000\">samples = 4</text>\n<text text-anchor=\"middle\" x=\"283.5\" y=\"-134.3\" font-family=\"Helvetica,sans-Serif\" font-size=\"14.00\" fill=\"#000000\">value = [0, 4]</text>\n<text text-anchor=\"middle\" x=\"283.5\" y=\"-119.3\" font-family=\"Helvetica,sans-Serif\" font-size=\"14.00\" fill=\"#000000\">class = 非アルビノ</text>\n</g>\n<!-- 0&#45;&gt;4 -->\n<g id=\"edge4\" class=\"edge\">\n<title>0&#45;&gt;4</title>\n<path fill=\"none\" stroke=\"#000000\" d=\"M235.3816,-222.8796C242.2879,-211.7735 249.7639,-199.7513 256.7175,-188.5691\"/>\n<polygon fill=\"#000000\" stroke=\"#000000\" points=\"259.8527,-190.1552 262.1613,-179.8149 253.9083,-186.4587 259.8527,-190.1552\"/>\n<text text-anchor=\"middle\" x=\"267.8381\" y=\"-200.4619\" font-family=\"Helvetica,sans-Serif\" font-size=\"14.00\" fill=\"#000000\">False</text>\n</g>\n<!-- 2 -->\n<g id=\"node3\" class=\"node\">\n<title>2</title>\n<path fill=\"#e58139\" stroke=\"#000000\" d=\"M111,-68C111,-68 12,-68 12,-68 6,-68 0,-62 0,-56 0,-56 0,-12 0,-12 0,-6 6,0 12,0 12,0 111,0 111,0 117,0 123,-6 123,-12 123,-12 123,-56 123,-56 123,-62 117,-68 111,-68\"/>\n<text text-anchor=\"middle\" x=\"61.5\" y=\"-52.8\" font-family=\"Helvetica,sans-Serif\" font-size=\"14.00\" fill=\"#000000\">entropy = 0.0</text>\n<text text-anchor=\"middle\" x=\"61.5\" y=\"-37.8\" font-family=\"Helvetica,sans-Serif\" font-size=\"14.00\" fill=\"#000000\">samples = 3</text>\n<text text-anchor=\"middle\" x=\"61.5\" y=\"-22.8\" font-family=\"Helvetica,sans-Serif\" font-size=\"14.00\" fill=\"#000000\">value = [3, 0]</text>\n<text text-anchor=\"middle\" x=\"61.5\" y=\"-7.8\" font-family=\"Helvetica,sans-Serif\" font-size=\"14.00\" fill=\"#000000\">class = アルビノ</text>\n</g>\n<!-- 1&#45;&gt;2 -->\n<g id=\"edge2\" class=\"edge\">\n<title>1&#45;&gt;2</title>\n<path fill=\"none\" stroke=\"#000000\" d=\"M107.9451,-103.9815C102.0285,-95.0666 95.7665,-85.6313 89.8213,-76.6734\"/>\n<polygon fill=\"#000000\" stroke=\"#000000\" points=\"92.686,-74.6602 84.24,-68.2637 86.8536,-78.5311 92.686,-74.6602\"/>\n</g>\n<!-- 3 -->\n<g id=\"node4\" class=\"node\">\n<title>3</title>\n<path fill=\"#399de5\" stroke=\"#000000\" d=\"M266,-68C266,-68 153,-68 153,-68 147,-68 141,-62 141,-56 141,-56 141,-12 141,-12 141,-6 147,0 153,0 153,0 266,0 266,0 272,0 278,-6 278,-12 278,-12 278,-56 278,-56 278,-62 272,-68 266,-68\"/>\n<text text-anchor=\"middle\" x=\"209.5\" y=\"-52.8\" font-family=\"Helvetica,sans-Serif\" font-size=\"14.00\" fill=\"#000000\">entropy = 0.0</text>\n<text text-anchor=\"middle\" x=\"209.5\" y=\"-37.8\" font-family=\"Helvetica,sans-Serif\" font-size=\"14.00\" fill=\"#000000\">samples = 1</text>\n<text text-anchor=\"middle\" x=\"209.5\" y=\"-22.8\" font-family=\"Helvetica,sans-Serif\" font-size=\"14.00\" fill=\"#000000\">value = [0, 1]</text>\n<text text-anchor=\"middle\" x=\"209.5\" y=\"-7.8\" font-family=\"Helvetica,sans-Serif\" font-size=\"14.00\" fill=\"#000000\">class = 非アルビノ</text>\n</g>\n<!-- 1&#45;&gt;3 -->\n<g id=\"edge3\" class=\"edge\">\n<title>1&#45;&gt;3</title>\n<path fill=\"none\" stroke=\"#000000\" d=\"M163.0549,-103.9815C168.9715,-95.0666 175.2335,-85.6313 181.1787,-76.6734\"/>\n<polygon fill=\"#000000\" stroke=\"#000000\" points=\"184.1464,-78.5311 186.76,-68.2637 178.314,-74.6602 184.1464,-78.5311\"/>\n</g>\n</g>\n</svg>\n"
          },
          "metadata": {
            "tags": []
          },
          "execution_count": 4
        }
      ]
    },
    {
      "cell_type": "markdown",
      "metadata": {
        "id": "Gs2HcBzC9-Dv"
      },
      "source": [
        "# 決定木の意味\n",
        "\n",
        "\n",
        "\n",
        "1.   まず「体の色」を調べる。0.5以下なら左の枝、0.5を超えると右の枝。いま、体の色は０:白、1:茶、2:灰色、としてあるので、体の色が白なら左へ、茶と灰色は右へ。\n",
        "-  **entropy: 0.954**  体の色が分かった場合のエントロピーは0.954 \n",
        "- **samples = 8 value = [3, 5]** データ数は８で、そのうちアルビノは３，アルビノでないものは５\n",
        "2. 2段目。右の枝は、**entropy:0 samples = 4,value=[0,4]** データ数は４つで、そのすべてはアルビノではない、つまり、体の色が茶と灰色の場合はアルビノではない、と判断。エントロピーが０ということは、曖昧性が０、つまり判定結果の確定を意味する。\n",
        "左の枝では、「目の色」をチェックして、0.5 を基準に振り分け。目の色は０:赤、1:黒としているので、赤は左、黒は右。\n",
        "3. 左の枝も右の枝もエントロピー０、つまりここで判定は確定する。左に来るデータは３つですべてアルビノ、右はデータが１つで、アルビノではない。\n",
        "\n",
        "まとめると、まず「体の色」を調べて白以外ならアルビノではないと判定、白の場合は「目の色」を調べ、赤ならアルビノ、さもなくばアルビノではない、と判定。\n",
        "\n",
        "\n"
      ]
    },
    {
      "cell_type": "markdown",
      "metadata": {
        "id": "9tdjrw-WI3fA"
      },
      "source": [
        "# ２．不動産販売\n",
        "\n",
        "![2017-09-23 18 27 59](https://user-images.githubusercontent.com/5820803/30771930-0fbc20de-a08d-11e7-922a-6e8e641170f4.PNG)\n",
        "\n",
        "上のような不動産の販売実績データを訓練データとして、「住居形態」「家族構成」「収入」「ローン残」をもとに購入の有無を予測する決定木を作ってみましょう。\n",
        "\n",
        "まず、学習用のデータを作成します。\n"
      ]
    },
    {
      "cell_type": "code",
      "metadata": {
        "colab": {
          "base_uri": "https://localhost:8080/",
          "height": 299
        },
        "id": "Sy_wxiJ8KwKm",
        "outputId": "72b6cc39-07e2-441a-b149-891a4fd99c0e"
      },
      "source": [
        "rawdata=np.array([\n",
        "    [0,0,0,1,\"×\"],\n",
        "    [1,2,1,1,\"×\"],\n",
        "    [1,1,0,1,\"×\"],\n",
        "    [0,0,1,1,\"×\"],\n",
        "    [0,2,1,0,\"○\"],\n",
        "    [0,1,1,0,\"○\"],\n",
        "    [0,2,0,0,\"×\"],\n",
        "    [1,2,1,0,\"○\"],\n",
        "    ])\n",
        "\n",
        "items=['住居形態','家族構成','収入','ローン残']\n",
        "results=['販売実績']\n",
        "df = pd.DataFrame(rawdata,columns=np.r_[items,results])\n",
        "df"
      ],
      "execution_count": 5,
      "outputs": [
        {
          "output_type": "execute_result",
          "data": {
            "text/html": [
              "<div>\n",
              "<style scoped>\n",
              "    .dataframe tbody tr th:only-of-type {\n",
              "        vertical-align: middle;\n",
              "    }\n",
              "\n",
              "    .dataframe tbody tr th {\n",
              "        vertical-align: top;\n",
              "    }\n",
              "\n",
              "    .dataframe thead th {\n",
              "        text-align: right;\n",
              "    }\n",
              "</style>\n",
              "<table border=\"1\" class=\"dataframe\">\n",
              "  <thead>\n",
              "    <tr style=\"text-align: right;\">\n",
              "      <th></th>\n",
              "      <th>住居形態</th>\n",
              "      <th>家族構成</th>\n",
              "      <th>収入</th>\n",
              "      <th>ローン残</th>\n",
              "      <th>販売実績</th>\n",
              "    </tr>\n",
              "  </thead>\n",
              "  <tbody>\n",
              "    <tr>\n",
              "      <th>0</th>\n",
              "      <td>0</td>\n",
              "      <td>0</td>\n",
              "      <td>0</td>\n",
              "      <td>1</td>\n",
              "      <td>×</td>\n",
              "    </tr>\n",
              "    <tr>\n",
              "      <th>1</th>\n",
              "      <td>1</td>\n",
              "      <td>2</td>\n",
              "      <td>1</td>\n",
              "      <td>1</td>\n",
              "      <td>×</td>\n",
              "    </tr>\n",
              "    <tr>\n",
              "      <th>2</th>\n",
              "      <td>1</td>\n",
              "      <td>1</td>\n",
              "      <td>0</td>\n",
              "      <td>1</td>\n",
              "      <td>×</td>\n",
              "    </tr>\n",
              "    <tr>\n",
              "      <th>3</th>\n",
              "      <td>0</td>\n",
              "      <td>0</td>\n",
              "      <td>1</td>\n",
              "      <td>1</td>\n",
              "      <td>×</td>\n",
              "    </tr>\n",
              "    <tr>\n",
              "      <th>4</th>\n",
              "      <td>0</td>\n",
              "      <td>2</td>\n",
              "      <td>1</td>\n",
              "      <td>0</td>\n",
              "      <td>○</td>\n",
              "    </tr>\n",
              "    <tr>\n",
              "      <th>5</th>\n",
              "      <td>0</td>\n",
              "      <td>1</td>\n",
              "      <td>1</td>\n",
              "      <td>0</td>\n",
              "      <td>○</td>\n",
              "    </tr>\n",
              "    <tr>\n",
              "      <th>6</th>\n",
              "      <td>0</td>\n",
              "      <td>2</td>\n",
              "      <td>0</td>\n",
              "      <td>0</td>\n",
              "      <td>×</td>\n",
              "    </tr>\n",
              "    <tr>\n",
              "      <th>7</th>\n",
              "      <td>1</td>\n",
              "      <td>2</td>\n",
              "      <td>1</td>\n",
              "      <td>0</td>\n",
              "      <td>○</td>\n",
              "    </tr>\n",
              "  </tbody>\n",
              "</table>\n",
              "</div>"
            ],
            "text/plain": [
              "  住居形態 家族構成 収入 ローン残 販売実績\n",
              "0    0    0  0    1    ×\n",
              "1    1    2  1    1    ×\n",
              "2    1    1  0    1    ×\n",
              "3    0    0  1    1    ×\n",
              "4    0    2  1    0    ○\n",
              "5    0    1  1    0    ○\n",
              "6    0    2  0    0    ×\n",
              "7    1    2  1    0    ○"
            ]
          },
          "metadata": {
            "tags": []
          },
          "execution_count": 5
        }
      ]
    },
    {
      "cell_type": "markdown",
      "metadata": {
        "id": "UQOlNfH4SdaR"
      },
      "source": [
        "### 訓練データをもとに決定木を生成"
      ]
    },
    {
      "cell_type": "code",
      "metadata": {
        "colab": {
          "base_uri": "https://localhost:8080/",
          "height": 439
        },
        "id": "CAMcBUphPZ1n",
        "outputId": "abd9ba08-fa3f-4a36-b87f-874e661690b5"
      },
      "source": [
        "# 決定木学習器の準備\n",
        "classifier = tree.DecisionTreeClassifier(criterion='entropy') # 評価基準を情報量基準（entropy)とする。\n",
        "# 訓練データをもとに学習の実行\n",
        "classifier.fit(df[items],df[results]);\n",
        "\n",
        "# Graphviz 用の dot データを作成する\n",
        "dot_data = tree.export_graphviz(classifier, \n",
        "            out_file=None, # 出力ファイル名 None なら出力しない\n",
        "            filled=True, # ノードを色づけする\n",
        "            rounded=True, # ノードの角を丸く\n",
        "            class_names=['×','○'],\n",
        "            feature_names=items) \n",
        "\n",
        "# 画像の保存\n",
        "graph = pdp.graph_from_dot_data(dot_data)\n",
        "for node in graph.get_nodes():\n",
        "    node.set_fontname(\"IPAGothic\")\n",
        "graph.write_png(\"販売予測.png\")\n",
        "\n",
        "# 画面表示用データの作成\n",
        "Source(dot_data)"
      ],
      "execution_count": 6,
      "outputs": [
        {
          "output_type": "execute_result",
          "data": {
            "text/plain": [
              "<graphviz.files.Source at 0x7f4daea98e10>"
            ],
            "image/svg+xml": "<?xml version=\"1.0\" encoding=\"UTF-8\" standalone=\"no\"?>\n<!DOCTYPE svg PUBLIC \"-//W3C//DTD SVG 1.1//EN\"\n \"http://www.w3.org/Graphics/SVG/1.1/DTD/svg11.dtd\">\n<!-- Generated by graphviz version 2.40.1 (20161225.0304)\n -->\n<!-- Title: Tree Pages: 1 -->\n<svg width=\"296pt\" height=\"314pt\"\n viewBox=\"0.00 0.00 296.00 314.00\" xmlns=\"http://www.w3.org/2000/svg\" xmlns:xlink=\"http://www.w3.org/1999/xlink\">\n<g id=\"graph0\" class=\"graph\" transform=\"scale(1 1) rotate(0) translate(4 310)\">\n<title>Tree</title>\n<polygon fill=\"#ffffff\" stroke=\"transparent\" points=\"-4,4 -4,-310 292,-310 292,4 -4,4\"/>\n<!-- 0 -->\n<g id=\"node1\" class=\"node\">\n<title>0</title>\n<path fill=\"#f5cdb0\" stroke=\"#000000\" d=\"M220.5,-306C220.5,-306 126.5,-306 126.5,-306 120.5,-306 114.5,-300 114.5,-294 114.5,-294 114.5,-235 114.5,-235 114.5,-229 120.5,-223 126.5,-223 126.5,-223 220.5,-223 220.5,-223 226.5,-223 232.5,-229 232.5,-235 232.5,-235 232.5,-294 232.5,-294 232.5,-300 226.5,-306 220.5,-306\"/>\n<text text-anchor=\"middle\" x=\"173.5\" y=\"-290.8\" font-family=\"Helvetica,sans-Serif\" font-size=\"14.00\" fill=\"#000000\">ローン残 &lt;= 0.5</text>\n<text text-anchor=\"middle\" x=\"173.5\" y=\"-275.8\" font-family=\"Helvetica,sans-Serif\" font-size=\"14.00\" fill=\"#000000\">entropy = 0.954</text>\n<text text-anchor=\"middle\" x=\"173.5\" y=\"-260.8\" font-family=\"Helvetica,sans-Serif\" font-size=\"14.00\" fill=\"#000000\">samples = 8</text>\n<text text-anchor=\"middle\" x=\"173.5\" y=\"-245.8\" font-family=\"Helvetica,sans-Serif\" font-size=\"14.00\" fill=\"#000000\">value = [5, 3]</text>\n<text text-anchor=\"middle\" x=\"173.5\" y=\"-230.8\" font-family=\"Helvetica,sans-Serif\" font-size=\"14.00\" fill=\"#000000\">class = ×</text>\n</g>\n<!-- 1 -->\n<g id=\"node2\" class=\"node\">\n<title>1</title>\n<path fill=\"#7bbeee\" stroke=\"#000000\" d=\"M156.5,-187C156.5,-187 62.5,-187 62.5,-187 56.5,-187 50.5,-181 50.5,-175 50.5,-175 50.5,-116 50.5,-116 50.5,-110 56.5,-104 62.5,-104 62.5,-104 156.5,-104 156.5,-104 162.5,-104 168.5,-110 168.5,-116 168.5,-116 168.5,-175 168.5,-175 168.5,-181 162.5,-187 156.5,-187\"/>\n<text text-anchor=\"middle\" x=\"109.5\" y=\"-171.8\" font-family=\"Helvetica,sans-Serif\" font-size=\"14.00\" fill=\"#000000\">収入 &lt;= 0.5</text>\n<text text-anchor=\"middle\" x=\"109.5\" y=\"-156.8\" font-family=\"Helvetica,sans-Serif\" font-size=\"14.00\" fill=\"#000000\">entropy = 0.811</text>\n<text text-anchor=\"middle\" x=\"109.5\" y=\"-141.8\" font-family=\"Helvetica,sans-Serif\" font-size=\"14.00\" fill=\"#000000\">samples = 4</text>\n<text text-anchor=\"middle\" x=\"109.5\" y=\"-126.8\" font-family=\"Helvetica,sans-Serif\" font-size=\"14.00\" fill=\"#000000\">value = [1, 3]</text>\n<text text-anchor=\"middle\" x=\"109.5\" y=\"-111.8\" font-family=\"Helvetica,sans-Serif\" font-size=\"14.00\" fill=\"#000000\">class = ○</text>\n</g>\n<!-- 0&#45;&gt;1 -->\n<g id=\"edge1\" class=\"edge\">\n<title>0&#45;&gt;1</title>\n<path fill=\"none\" stroke=\"#000000\" d=\"M151.1159,-222.8796C146.5144,-214.3236 141.6204,-205.2238 136.8658,-196.3833\"/>\n<polygon fill=\"#000000\" stroke=\"#000000\" points=\"139.7988,-194.4473 131.9796,-187.2981 133.6338,-197.763 139.7988,-194.4473\"/>\n<text text-anchor=\"middle\" x=\"124.7839\" y=\"-207.5401\" font-family=\"Helvetica,sans-Serif\" font-size=\"14.00\" fill=\"#000000\">True</text>\n</g>\n<!-- 4 -->\n<g id=\"node5\" class=\"node\">\n<title>4</title>\n<path fill=\"#e58139\" stroke=\"#000000\" d=\"M276,-179.5C276,-179.5 199,-179.5 199,-179.5 193,-179.5 187,-173.5 187,-167.5 187,-167.5 187,-123.5 187,-123.5 187,-117.5 193,-111.5 199,-111.5 199,-111.5 276,-111.5 276,-111.5 282,-111.5 288,-117.5 288,-123.5 288,-123.5 288,-167.5 288,-167.5 288,-173.5 282,-179.5 276,-179.5\"/>\n<text text-anchor=\"middle\" x=\"237.5\" y=\"-164.3\" font-family=\"Helvetica,sans-Serif\" font-size=\"14.00\" fill=\"#000000\">entropy = 0.0</text>\n<text text-anchor=\"middle\" x=\"237.5\" y=\"-149.3\" font-family=\"Helvetica,sans-Serif\" font-size=\"14.00\" fill=\"#000000\">samples = 4</text>\n<text text-anchor=\"middle\" x=\"237.5\" y=\"-134.3\" font-family=\"Helvetica,sans-Serif\" font-size=\"14.00\" fill=\"#000000\">value = [4, 0]</text>\n<text text-anchor=\"middle\" x=\"237.5\" y=\"-119.3\" font-family=\"Helvetica,sans-Serif\" font-size=\"14.00\" fill=\"#000000\">class = ×</text>\n</g>\n<!-- 0&#45;&gt;4 -->\n<g id=\"edge4\" class=\"edge\">\n<title>0&#45;&gt;4</title>\n<path fill=\"none\" stroke=\"#000000\" d=\"M195.8841,-222.8796C201.798,-211.8835 208.1949,-199.9893 214.158,-188.9015\"/>\n<polygon fill=\"#000000\" stroke=\"#000000\" points=\"217.3908,-190.2799 219.0449,-179.8149 211.2258,-186.9642 217.3908,-190.2799\"/>\n<text text-anchor=\"middle\" x=\"226.2406\" y=\"-200.057\" font-family=\"Helvetica,sans-Serif\" font-size=\"14.00\" fill=\"#000000\">False</text>\n</g>\n<!-- 2 -->\n<g id=\"node3\" class=\"node\">\n<title>2</title>\n<path fill=\"#e58139\" stroke=\"#000000\" d=\"M89,-68C89,-68 12,-68 12,-68 6,-68 0,-62 0,-56 0,-56 0,-12 0,-12 0,-6 6,0 12,0 12,0 89,0 89,0 95,0 101,-6 101,-12 101,-12 101,-56 101,-56 101,-62 95,-68 89,-68\"/>\n<text text-anchor=\"middle\" x=\"50.5\" y=\"-52.8\" font-family=\"Helvetica,sans-Serif\" font-size=\"14.00\" fill=\"#000000\">entropy = 0.0</text>\n<text text-anchor=\"middle\" x=\"50.5\" y=\"-37.8\" font-family=\"Helvetica,sans-Serif\" font-size=\"14.00\" fill=\"#000000\">samples = 1</text>\n<text text-anchor=\"middle\" x=\"50.5\" y=\"-22.8\" font-family=\"Helvetica,sans-Serif\" font-size=\"14.00\" fill=\"#000000\">value = [1, 0]</text>\n<text text-anchor=\"middle\" x=\"50.5\" y=\"-7.8\" font-family=\"Helvetica,sans-Serif\" font-size=\"14.00\" fill=\"#000000\">class = ×</text>\n</g>\n<!-- 1&#45;&gt;2 -->\n<g id=\"edge2\" class=\"edge\">\n<title>1&#45;&gt;2</title>\n<path fill=\"none\" stroke=\"#000000\" d=\"M87.5306,-103.9815C82.9105,-95.2504 78.0264,-86.0202 73.374,-77.2281\"/>\n<polygon fill=\"#000000\" stroke=\"#000000\" points=\"76.4013,-75.4655 68.6306,-68.2637 70.2141,-78.7395 76.4013,-75.4655\"/>\n</g>\n<!-- 3 -->\n<g id=\"node4\" class=\"node\">\n<title>3</title>\n<path fill=\"#399de5\" stroke=\"#000000\" d=\"M208,-68C208,-68 131,-68 131,-68 125,-68 119,-62 119,-56 119,-56 119,-12 119,-12 119,-6 125,0 131,0 131,0 208,0 208,0 214,0 220,-6 220,-12 220,-12 220,-56 220,-56 220,-62 214,-68 208,-68\"/>\n<text text-anchor=\"middle\" x=\"169.5\" y=\"-52.8\" font-family=\"Helvetica,sans-Serif\" font-size=\"14.00\" fill=\"#000000\">entropy = 0.0</text>\n<text text-anchor=\"middle\" x=\"169.5\" y=\"-37.8\" font-family=\"Helvetica,sans-Serif\" font-size=\"14.00\" fill=\"#000000\">samples = 3</text>\n<text text-anchor=\"middle\" x=\"169.5\" y=\"-22.8\" font-family=\"Helvetica,sans-Serif\" font-size=\"14.00\" fill=\"#000000\">value = [0, 3]</text>\n<text text-anchor=\"middle\" x=\"169.5\" y=\"-7.8\" font-family=\"Helvetica,sans-Serif\" font-size=\"14.00\" fill=\"#000000\">class = ○</text>\n</g>\n<!-- 1&#45;&gt;3 -->\n<g id=\"edge3\" class=\"edge\">\n<title>1&#45;&gt;3</title>\n<path fill=\"none\" stroke=\"#000000\" d=\"M131.8418,-103.9815C136.5402,-95.2504 141.5071,-86.0202 146.2383,-77.2281\"/>\n<polygon fill=\"#000000\" stroke=\"#000000\" points=\"149.4056,-78.7282 151.0621,-68.2637 143.2414,-75.4111 149.4056,-78.7282\"/>\n</g>\n</g>\n</svg>\n"
          },
          "metadata": {
            "tags": []
          },
          "execution_count": 6
        }
      ]
    },
    {
      "cell_type": "markdown",
      "metadata": {
        "id": "KEF33bdJQaU4"
      },
      "source": [
        "## 決定木の概要\n",
        "(1) まず「ローン残」をチェック。残ありの場合は買ってくれないと判定。4/8 は確定。    \n",
        "(2) ローン残なしの場合は「収入」をチェック、低収入の客は買ってくれない(1/8)。高収入の客は買ってくれる(3/8)*斜体テキスト*"
      ]
    },
    {
      "cell_type": "markdown",
      "metadata": {
        "id": "ZUtJJg4fHQ0u"
      },
      "source": [
        "# ３．薬物犯罪の実刑の有無の予想"
      ]
    },
    {
      "cell_type": "code",
      "metadata": {
        "colab": {
          "base_uri": "https://localhost:8080/",
          "height": 362
        },
        "id": "B5QQCLE0G4hA",
        "outputId": "f9c2182c-0d62-42a5-dfd6-5dbdce10d80c"
      },
      "source": [
        "rawdata = np.array([\n",
        "    # ５つの成分の意味\n",
        "    # 第0成分: 性別 0:男性、1:女性\n",
        "    # 第1成分: 年齢 0:未成年、1:成年、2:老人\n",
        "    # 第2成分: 薬物　　０:シンナー、1:大麻　　２：覚せい剤\n",
        "    # 第3成分: 犯罪歴　0:なし、1:あり\n",
        "    # 第4成分: 実判決　　猶予、実刑\n",
        "    [0,0,0,0,\"猶予\"],\n",
        "    [1,0,0,0,\"猶予\"],\n",
        "    [0,2,1,0,\"猶予\"],\n",
        "    [0,0,0,1,\"実刑\"],\n",
        "    [0,2,1,1,\"実刑\"],\n",
        "    [1,1,2,1,\"実刑\"],\n",
        "    [1,1,0,1,\"実刑\"],\n",
        "    [1,0,2,1,\"実刑\"],\n",
        "    [0,2,2,0,\"実刑\"],\n",
        "    [1,0,2,1,\"実刑\"]\n",
        "    ])\n",
        "\n",
        "items=['性別','年齢','薬物','犯罪歴']\n",
        "results=['実判決']\n",
        "df = pd.DataFrame(rawdata,columns=np.r_[items,results])\n",
        "df"
      ],
      "execution_count": 7,
      "outputs": [
        {
          "output_type": "execute_result",
          "data": {
            "text/html": [
              "<div>\n",
              "<style scoped>\n",
              "    .dataframe tbody tr th:only-of-type {\n",
              "        vertical-align: middle;\n",
              "    }\n",
              "\n",
              "    .dataframe tbody tr th {\n",
              "        vertical-align: top;\n",
              "    }\n",
              "\n",
              "    .dataframe thead th {\n",
              "        text-align: right;\n",
              "    }\n",
              "</style>\n",
              "<table border=\"1\" class=\"dataframe\">\n",
              "  <thead>\n",
              "    <tr style=\"text-align: right;\">\n",
              "      <th></th>\n",
              "      <th>性別</th>\n",
              "      <th>年齢</th>\n",
              "      <th>薬物</th>\n",
              "      <th>犯罪歴</th>\n",
              "      <th>実判決</th>\n",
              "    </tr>\n",
              "  </thead>\n",
              "  <tbody>\n",
              "    <tr>\n",
              "      <th>0</th>\n",
              "      <td>0</td>\n",
              "      <td>0</td>\n",
              "      <td>0</td>\n",
              "      <td>0</td>\n",
              "      <td>猶予</td>\n",
              "    </tr>\n",
              "    <tr>\n",
              "      <th>1</th>\n",
              "      <td>1</td>\n",
              "      <td>0</td>\n",
              "      <td>0</td>\n",
              "      <td>0</td>\n",
              "      <td>猶予</td>\n",
              "    </tr>\n",
              "    <tr>\n",
              "      <th>2</th>\n",
              "      <td>0</td>\n",
              "      <td>2</td>\n",
              "      <td>1</td>\n",
              "      <td>0</td>\n",
              "      <td>猶予</td>\n",
              "    </tr>\n",
              "    <tr>\n",
              "      <th>3</th>\n",
              "      <td>0</td>\n",
              "      <td>0</td>\n",
              "      <td>0</td>\n",
              "      <td>1</td>\n",
              "      <td>実刑</td>\n",
              "    </tr>\n",
              "    <tr>\n",
              "      <th>4</th>\n",
              "      <td>0</td>\n",
              "      <td>2</td>\n",
              "      <td>1</td>\n",
              "      <td>1</td>\n",
              "      <td>実刑</td>\n",
              "    </tr>\n",
              "    <tr>\n",
              "      <th>5</th>\n",
              "      <td>1</td>\n",
              "      <td>1</td>\n",
              "      <td>2</td>\n",
              "      <td>1</td>\n",
              "      <td>実刑</td>\n",
              "    </tr>\n",
              "    <tr>\n",
              "      <th>6</th>\n",
              "      <td>1</td>\n",
              "      <td>1</td>\n",
              "      <td>0</td>\n",
              "      <td>1</td>\n",
              "      <td>実刑</td>\n",
              "    </tr>\n",
              "    <tr>\n",
              "      <th>7</th>\n",
              "      <td>1</td>\n",
              "      <td>0</td>\n",
              "      <td>2</td>\n",
              "      <td>1</td>\n",
              "      <td>実刑</td>\n",
              "    </tr>\n",
              "    <tr>\n",
              "      <th>8</th>\n",
              "      <td>0</td>\n",
              "      <td>2</td>\n",
              "      <td>2</td>\n",
              "      <td>0</td>\n",
              "      <td>実刑</td>\n",
              "    </tr>\n",
              "    <tr>\n",
              "      <th>9</th>\n",
              "      <td>1</td>\n",
              "      <td>0</td>\n",
              "      <td>2</td>\n",
              "      <td>1</td>\n",
              "      <td>実刑</td>\n",
              "    </tr>\n",
              "  </tbody>\n",
              "</table>\n",
              "</div>"
            ],
            "text/plain": [
              "  性別 年齢 薬物 犯罪歴 実判決\n",
              "0  0  0  0   0  猶予\n",
              "1  1  0  0   0  猶予\n",
              "2  0  2  1   0  猶予\n",
              "3  0  0  0   1  実刑\n",
              "4  0  2  1   1  実刑\n",
              "5  1  1  2   1  実刑\n",
              "6  1  1  0   1  実刑\n",
              "7  1  0  2   1  実刑\n",
              "8  0  2  2   0  実刑\n",
              "9  1  0  2   1  実刑"
            ]
          },
          "metadata": {
            "tags": []
          },
          "execution_count": 7
        }
      ]
    },
    {
      "cell_type": "markdown",
      "metadata": {
        "id": "-sRSaQgsSkh-"
      },
      "source": [
        "### 訓練データをもとに決定木を生成"
      ]
    },
    {
      "cell_type": "code",
      "metadata": {
        "colab": {
          "base_uri": "https://localhost:8080/",
          "height": 439
        },
        "id": "odjiE5XoSLxD",
        "outputId": "1f273f20-f568-4b16-bbec-8588614d4f04"
      },
      "source": [
        "# 決定木学習器の準備\n",
        "classifier = tree.DecisionTreeClassifier(criterion='entropy') # 評価基準を情報量基準（entropy)とする。\n",
        "# 訓練データをもとに学習の実行\n",
        "classifier.fit(df[items],df[results]);\n",
        "\n",
        "# Graphviz 用の dot データを作成する\n",
        "dot_data = tree.export_graphviz(classifier, \n",
        "            out_file=None, # 出力ファイル名 None なら出力しない\n",
        "            filled=True, # ノードを色づけする\n",
        "            rounded=True, # ノードの角を丸く\n",
        "            class_names=['実刑','猶予'],\n",
        "            feature_names=items) \n",
        "\n",
        "# 画像の保存\n",
        "graph = pdp.graph_from_dot_data(dot_data)\n",
        "for node in graph.get_nodes():\n",
        "    node.set_fontname(\"IPAGothic\")\n",
        "graph.write_png(\"判決予測.png\")\n",
        "\n",
        "# 画面表示用データの作成\n",
        "Source(dot_data)"
      ],
      "execution_count": 8,
      "outputs": [
        {
          "output_type": "execute_result",
          "data": {
            "text/plain": [
              "<graphviz.files.Source at 0x7f4dae967b90>"
            ],
            "image/svg+xml": "<?xml version=\"1.0\" encoding=\"UTF-8\" standalone=\"no\"?>\n<!DOCTYPE svg PUBLIC \"-//W3C//DTD SVG 1.1//EN\"\n \"http://www.w3.org/Graphics/SVG/1.1/DTD/svg11.dtd\">\n<!-- Generated by graphviz version 2.40.1 (20161225.0304)\n -->\n<!-- Title: Tree Pages: 1 -->\n<svg width=\"296pt\" height=\"314pt\"\n viewBox=\"0.00 0.00 296.00 314.00\" xmlns=\"http://www.w3.org/2000/svg\" xmlns:xlink=\"http://www.w3.org/1999/xlink\">\n<g id=\"graph0\" class=\"graph\" transform=\"scale(1 1) rotate(0) translate(4 310)\">\n<title>Tree</title>\n<polygon fill=\"#ffffff\" stroke=\"transparent\" points=\"-4,4 -4,-310 292,-310 292,4 -4,4\"/>\n<!-- 0 -->\n<g id=\"node1\" class=\"node\">\n<title>0</title>\n<path fill=\"#f0b78e\" stroke=\"#000000\" d=\"M220.5,-306C220.5,-306 126.5,-306 126.5,-306 120.5,-306 114.5,-300 114.5,-294 114.5,-294 114.5,-235 114.5,-235 114.5,-229 120.5,-223 126.5,-223 126.5,-223 220.5,-223 220.5,-223 226.5,-223 232.5,-229 232.5,-235 232.5,-235 232.5,-294 232.5,-294 232.5,-300 226.5,-306 220.5,-306\"/>\n<text text-anchor=\"middle\" x=\"173.5\" y=\"-290.8\" font-family=\"Helvetica,sans-Serif\" font-size=\"14.00\" fill=\"#000000\">犯罪歴 &lt;= 0.5</text>\n<text text-anchor=\"middle\" x=\"173.5\" y=\"-275.8\" font-family=\"Helvetica,sans-Serif\" font-size=\"14.00\" fill=\"#000000\">entropy = 0.881</text>\n<text text-anchor=\"middle\" x=\"173.5\" y=\"-260.8\" font-family=\"Helvetica,sans-Serif\" font-size=\"14.00\" fill=\"#000000\">samples = 10</text>\n<text text-anchor=\"middle\" x=\"173.5\" y=\"-245.8\" font-family=\"Helvetica,sans-Serif\" font-size=\"14.00\" fill=\"#000000\">value = [7, 3]</text>\n<text text-anchor=\"middle\" x=\"173.5\" y=\"-230.8\" font-family=\"Helvetica,sans-Serif\" font-size=\"14.00\" fill=\"#000000\">class = 実刑</text>\n</g>\n<!-- 1 -->\n<g id=\"node2\" class=\"node\">\n<title>1</title>\n<path fill=\"#7bbeee\" stroke=\"#000000\" d=\"M156.5,-187C156.5,-187 62.5,-187 62.5,-187 56.5,-187 50.5,-181 50.5,-175 50.5,-175 50.5,-116 50.5,-116 50.5,-110 56.5,-104 62.5,-104 62.5,-104 156.5,-104 156.5,-104 162.5,-104 168.5,-110 168.5,-116 168.5,-116 168.5,-175 168.5,-175 168.5,-181 162.5,-187 156.5,-187\"/>\n<text text-anchor=\"middle\" x=\"109.5\" y=\"-171.8\" font-family=\"Helvetica,sans-Serif\" font-size=\"14.00\" fill=\"#000000\">薬物 &lt;= 1.5</text>\n<text text-anchor=\"middle\" x=\"109.5\" y=\"-156.8\" font-family=\"Helvetica,sans-Serif\" font-size=\"14.00\" fill=\"#000000\">entropy = 0.811</text>\n<text text-anchor=\"middle\" x=\"109.5\" y=\"-141.8\" font-family=\"Helvetica,sans-Serif\" font-size=\"14.00\" fill=\"#000000\">samples = 4</text>\n<text text-anchor=\"middle\" x=\"109.5\" y=\"-126.8\" font-family=\"Helvetica,sans-Serif\" font-size=\"14.00\" fill=\"#000000\">value = [1, 3]</text>\n<text text-anchor=\"middle\" x=\"109.5\" y=\"-111.8\" font-family=\"Helvetica,sans-Serif\" font-size=\"14.00\" fill=\"#000000\">class = 猶予</text>\n</g>\n<!-- 0&#45;&gt;1 -->\n<g id=\"edge1\" class=\"edge\">\n<title>0&#45;&gt;1</title>\n<path fill=\"none\" stroke=\"#000000\" d=\"M151.1159,-222.8796C146.5144,-214.3236 141.6204,-205.2238 136.8658,-196.3833\"/>\n<polygon fill=\"#000000\" stroke=\"#000000\" points=\"139.7988,-194.4473 131.9796,-187.2981 133.6338,-197.763 139.7988,-194.4473\"/>\n<text text-anchor=\"middle\" x=\"124.7839\" y=\"-207.5401\" font-family=\"Helvetica,sans-Serif\" font-size=\"14.00\" fill=\"#000000\">True</text>\n</g>\n<!-- 4 -->\n<g id=\"node5\" class=\"node\">\n<title>4</title>\n<path fill=\"#e58139\" stroke=\"#000000\" d=\"M276,-179.5C276,-179.5 199,-179.5 199,-179.5 193,-179.5 187,-173.5 187,-167.5 187,-167.5 187,-123.5 187,-123.5 187,-117.5 193,-111.5 199,-111.5 199,-111.5 276,-111.5 276,-111.5 282,-111.5 288,-117.5 288,-123.5 288,-123.5 288,-167.5 288,-167.5 288,-173.5 282,-179.5 276,-179.5\"/>\n<text text-anchor=\"middle\" x=\"237.5\" y=\"-164.3\" font-family=\"Helvetica,sans-Serif\" font-size=\"14.00\" fill=\"#000000\">entropy = 0.0</text>\n<text text-anchor=\"middle\" x=\"237.5\" y=\"-149.3\" font-family=\"Helvetica,sans-Serif\" font-size=\"14.00\" fill=\"#000000\">samples = 6</text>\n<text text-anchor=\"middle\" x=\"237.5\" y=\"-134.3\" font-family=\"Helvetica,sans-Serif\" font-size=\"14.00\" fill=\"#000000\">value = [6, 0]</text>\n<text text-anchor=\"middle\" x=\"237.5\" y=\"-119.3\" font-family=\"Helvetica,sans-Serif\" font-size=\"14.00\" fill=\"#000000\">class = 実刑</text>\n</g>\n<!-- 0&#45;&gt;4 -->\n<g id=\"edge4\" class=\"edge\">\n<title>0&#45;&gt;4</title>\n<path fill=\"none\" stroke=\"#000000\" d=\"M195.8841,-222.8796C201.798,-211.8835 208.1949,-199.9893 214.158,-188.9015\"/>\n<polygon fill=\"#000000\" stroke=\"#000000\" points=\"217.3908,-190.2799 219.0449,-179.8149 211.2258,-186.9642 217.3908,-190.2799\"/>\n<text text-anchor=\"middle\" x=\"226.2406\" y=\"-200.057\" font-family=\"Helvetica,sans-Serif\" font-size=\"14.00\" fill=\"#000000\">False</text>\n</g>\n<!-- 2 -->\n<g id=\"node3\" class=\"node\">\n<title>2</title>\n<path fill=\"#399de5\" stroke=\"#000000\" d=\"M89,-68C89,-68 12,-68 12,-68 6,-68 0,-62 0,-56 0,-56 0,-12 0,-12 0,-6 6,0 12,0 12,0 89,0 89,0 95,0 101,-6 101,-12 101,-12 101,-56 101,-56 101,-62 95,-68 89,-68\"/>\n<text text-anchor=\"middle\" x=\"50.5\" y=\"-52.8\" font-family=\"Helvetica,sans-Serif\" font-size=\"14.00\" fill=\"#000000\">entropy = 0.0</text>\n<text text-anchor=\"middle\" x=\"50.5\" y=\"-37.8\" font-family=\"Helvetica,sans-Serif\" font-size=\"14.00\" fill=\"#000000\">samples = 3</text>\n<text text-anchor=\"middle\" x=\"50.5\" y=\"-22.8\" font-family=\"Helvetica,sans-Serif\" font-size=\"14.00\" fill=\"#000000\">value = [0, 3]</text>\n<text text-anchor=\"middle\" x=\"50.5\" y=\"-7.8\" font-family=\"Helvetica,sans-Serif\" font-size=\"14.00\" fill=\"#000000\">class = 猶予</text>\n</g>\n<!-- 1&#45;&gt;2 -->\n<g id=\"edge2\" class=\"edge\">\n<title>1&#45;&gt;2</title>\n<path fill=\"none\" stroke=\"#000000\" d=\"M87.5306,-103.9815C82.9105,-95.2504 78.0264,-86.0202 73.374,-77.2281\"/>\n<polygon fill=\"#000000\" stroke=\"#000000\" points=\"76.4013,-75.4655 68.6306,-68.2637 70.2141,-78.7395 76.4013,-75.4655\"/>\n</g>\n<!-- 3 -->\n<g id=\"node4\" class=\"node\">\n<title>3</title>\n<path fill=\"#e58139\" stroke=\"#000000\" d=\"M208,-68C208,-68 131,-68 131,-68 125,-68 119,-62 119,-56 119,-56 119,-12 119,-12 119,-6 125,0 131,0 131,0 208,0 208,0 214,0 220,-6 220,-12 220,-12 220,-56 220,-56 220,-62 214,-68 208,-68\"/>\n<text text-anchor=\"middle\" x=\"169.5\" y=\"-52.8\" font-family=\"Helvetica,sans-Serif\" font-size=\"14.00\" fill=\"#000000\">entropy = 0.0</text>\n<text text-anchor=\"middle\" x=\"169.5\" y=\"-37.8\" font-family=\"Helvetica,sans-Serif\" font-size=\"14.00\" fill=\"#000000\">samples = 1</text>\n<text text-anchor=\"middle\" x=\"169.5\" y=\"-22.8\" font-family=\"Helvetica,sans-Serif\" font-size=\"14.00\" fill=\"#000000\">value = [1, 0]</text>\n<text text-anchor=\"middle\" x=\"169.5\" y=\"-7.8\" font-family=\"Helvetica,sans-Serif\" font-size=\"14.00\" fill=\"#000000\">class = 実刑</text>\n</g>\n<!-- 1&#45;&gt;3 -->\n<g id=\"edge3\" class=\"edge\">\n<title>1&#45;&gt;3</title>\n<path fill=\"none\" stroke=\"#000000\" d=\"M131.8418,-103.9815C136.5402,-95.2504 141.5071,-86.0202 146.2383,-77.2281\"/>\n<polygon fill=\"#000000\" stroke=\"#000000\" points=\"149.4056,-78.7282 151.0621,-68.2637 143.2414,-75.4111 149.4056,-78.7282\"/>\n</g>\n</g>\n</svg>\n"
          },
          "metadata": {
            "tags": []
          },
          "execution_count": 8
        }
      ]
    },
    {
      "cell_type": "markdown",
      "metadata": {
        "id": "v5U5n_BVSu_j"
      },
      "source": [
        "## 決定木の意味\n",
        "(1) まず「犯罪歴」をチェック。「あり」の場合(6/10)は実刑    \n",
        "(2) 犯罪歴なしの場合は「薬物」をチェック、「覚せい剤」の場合は実刑確定(1/10)。それ以外の場合は執行猶予(3/10)"
      ]
    },
    {
      "cell_type": "markdown",
      "metadata": {
        "id": "XUzCVDNkWS14"
      },
      "source": [
        "# 決定木による予測\n",
        "\n",
        "**classifier.predict(予測したい事例のリスト)** により、判定結果が返される。\n",
        "\n",
        "たとえば、「成人女性で犯罪歴あり、薬物が覚せい剤」ならば、[1,1,1,1]と表せるので、試してみると、"
      ]
    },
    {
      "cell_type": "code",
      "metadata": {
        "colab": {
          "base_uri": "https://localhost:8080/"
        },
        "id": "mvlvFp5oSo-S",
        "outputId": "7d93fd0b-1614-43e8-8dd8-2e4ab6e1ba1b"
      },
      "source": [
        "result = classifier.predict([[1,1,1,1]])\n",
        "print(\"予想される判決は\"+result[0])"
      ],
      "execution_count": 9,
      "outputs": [
        {
          "output_type": "stream",
          "text": [
            "予想される判決は実刑\n"
          ],
          "name": "stdout"
        }
      ]
    },
    {
      "cell_type": "markdown",
      "metadata": {
        "id": "XgLWefvxZR05"
      },
      "source": [
        "## 全判定結果"
      ]
    },
    {
      "cell_type": "code",
      "metadata": {
        "colab": {
          "base_uri": "https://localhost:8080/",
          "height": 362
        },
        "id": "q-4zatVFWoC_",
        "outputId": "1b090497-e9c1-42ff-8e7c-33badc741dc9"
      },
      "source": [
        "df['判決予測']=classifier.predict(df[items])\n",
        "df"
      ],
      "execution_count": 10,
      "outputs": [
        {
          "output_type": "execute_result",
          "data": {
            "text/html": [
              "<div>\n",
              "<style scoped>\n",
              "    .dataframe tbody tr th:only-of-type {\n",
              "        vertical-align: middle;\n",
              "    }\n",
              "\n",
              "    .dataframe tbody tr th {\n",
              "        vertical-align: top;\n",
              "    }\n",
              "\n",
              "    .dataframe thead th {\n",
              "        text-align: right;\n",
              "    }\n",
              "</style>\n",
              "<table border=\"1\" class=\"dataframe\">\n",
              "  <thead>\n",
              "    <tr style=\"text-align: right;\">\n",
              "      <th></th>\n",
              "      <th>性別</th>\n",
              "      <th>年齢</th>\n",
              "      <th>薬物</th>\n",
              "      <th>犯罪歴</th>\n",
              "      <th>実判決</th>\n",
              "      <th>判決予測</th>\n",
              "    </tr>\n",
              "  </thead>\n",
              "  <tbody>\n",
              "    <tr>\n",
              "      <th>0</th>\n",
              "      <td>0</td>\n",
              "      <td>0</td>\n",
              "      <td>0</td>\n",
              "      <td>0</td>\n",
              "      <td>猶予</td>\n",
              "      <td>猶予</td>\n",
              "    </tr>\n",
              "    <tr>\n",
              "      <th>1</th>\n",
              "      <td>1</td>\n",
              "      <td>0</td>\n",
              "      <td>0</td>\n",
              "      <td>0</td>\n",
              "      <td>猶予</td>\n",
              "      <td>猶予</td>\n",
              "    </tr>\n",
              "    <tr>\n",
              "      <th>2</th>\n",
              "      <td>0</td>\n",
              "      <td>2</td>\n",
              "      <td>1</td>\n",
              "      <td>0</td>\n",
              "      <td>猶予</td>\n",
              "      <td>猶予</td>\n",
              "    </tr>\n",
              "    <tr>\n",
              "      <th>3</th>\n",
              "      <td>0</td>\n",
              "      <td>0</td>\n",
              "      <td>0</td>\n",
              "      <td>1</td>\n",
              "      <td>実刑</td>\n",
              "      <td>実刑</td>\n",
              "    </tr>\n",
              "    <tr>\n",
              "      <th>4</th>\n",
              "      <td>0</td>\n",
              "      <td>2</td>\n",
              "      <td>1</td>\n",
              "      <td>1</td>\n",
              "      <td>実刑</td>\n",
              "      <td>実刑</td>\n",
              "    </tr>\n",
              "    <tr>\n",
              "      <th>5</th>\n",
              "      <td>1</td>\n",
              "      <td>1</td>\n",
              "      <td>2</td>\n",
              "      <td>1</td>\n",
              "      <td>実刑</td>\n",
              "      <td>実刑</td>\n",
              "    </tr>\n",
              "    <tr>\n",
              "      <th>6</th>\n",
              "      <td>1</td>\n",
              "      <td>1</td>\n",
              "      <td>0</td>\n",
              "      <td>1</td>\n",
              "      <td>実刑</td>\n",
              "      <td>実刑</td>\n",
              "    </tr>\n",
              "    <tr>\n",
              "      <th>7</th>\n",
              "      <td>1</td>\n",
              "      <td>0</td>\n",
              "      <td>2</td>\n",
              "      <td>1</td>\n",
              "      <td>実刑</td>\n",
              "      <td>実刑</td>\n",
              "    </tr>\n",
              "    <tr>\n",
              "      <th>8</th>\n",
              "      <td>0</td>\n",
              "      <td>2</td>\n",
              "      <td>2</td>\n",
              "      <td>0</td>\n",
              "      <td>実刑</td>\n",
              "      <td>実刑</td>\n",
              "    </tr>\n",
              "    <tr>\n",
              "      <th>9</th>\n",
              "      <td>1</td>\n",
              "      <td>0</td>\n",
              "      <td>2</td>\n",
              "      <td>1</td>\n",
              "      <td>実刑</td>\n",
              "      <td>実刑</td>\n",
              "    </tr>\n",
              "  </tbody>\n",
              "</table>\n",
              "</div>"
            ],
            "text/plain": [
              "  性別 年齢 薬物 犯罪歴 実判決 判決予測\n",
              "0  0  0  0   0  猶予   猶予\n",
              "1  1  0  0   0  猶予   猶予\n",
              "2  0  2  1   0  猶予   猶予\n",
              "3  0  0  0   1  実刑   実刑\n",
              "4  0  2  1   1  実刑   実刑\n",
              "5  1  1  2   1  実刑   実刑\n",
              "6  1  1  0   1  実刑   実刑\n",
              "7  1  0  2   1  実刑   実刑\n",
              "8  0  2  2   0  実刑   実刑\n",
              "9  1  0  2   1  実刑   実刑"
            ]
          },
          "metadata": {
            "tags": []
          },
          "execution_count": 10
        }
      ]
    },
    {
      "cell_type": "markdown",
      "metadata": {
        "id": "qvMgVha2aDd3"
      },
      "source": [
        "## 正解率"
      ]
    },
    {
      "cell_type": "code",
      "metadata": {
        "colab": {
          "base_uri": "https://localhost:8080/"
        },
        "id": "SBcjCi2WZZ2O",
        "outputId": "807214af-fa06-4f5a-fe79-1edf0433a9ee"
      },
      "source": [
        "print(\"正解率 {:3.2f}　％\".format((df['実判決'] != df['判決予測']).value_counts()[False]*100/len(df)))"
      ],
      "execution_count": 11,
      "outputs": [
        {
          "output_type": "stream",
          "text": [
            "正解率 100.00　％\n"
          ],
          "name": "stdout"
        }
      ]
    },
    {
      "cell_type": "markdown",
      "metadata": {
        "id": "qW3RcZZ8aHhk"
      },
      "source": [
        "訓練データとテストデータが同じなので、正解率100%は当然です。実際に決定木を使用するシーンでは、訓練に使わなかったデータでの正解率が重要です。"
      ]
    },
    {
      "cell_type": "code",
      "metadata": {
        "id": "0IuSaV1LZmZ0"
      },
      "source": [
        ""
      ],
      "execution_count": 11,
      "outputs": []
    }
  ]
}