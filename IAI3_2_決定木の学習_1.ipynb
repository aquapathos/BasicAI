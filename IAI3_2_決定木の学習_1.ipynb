{
  "nbformat": 4,
  "nbformat_minor": 0,
  "metadata": {
    "kernelspec": {
      "display_name": "Python 3",
      "language": "python",
      "name": "python3"
    },
    "language_info": {
      "codemirror_mode": {
        "name": "ipython",
        "version": 3
      },
      "file_extension": ".py",
      "mimetype": "text/x-python",
      "name": "python",
      "nbconvert_exporter": "python",
      "pygments_lexer": "ipython3",
      "version": "3.7.3"
    },
    "colab": {
      "name": "IAI3_2_決定木の学習_1.ipynb",
      "provenance": [],
      "collapsed_sections": [],
      "include_colab_link": true
    }
  },
  "cells": [
    {
      "cell_type": "markdown",
      "metadata": {
        "id": "view-in-github",
        "colab_type": "text"
      },
      "source": [
        "<a href=\"https://colab.research.google.com/github/aquapathos/BasicAI/blob/master/IAI3_2_%E6%B1%BA%E5%AE%9A%E6%9C%A8%E3%81%AE%E5%AD%A6%E7%BF%92_1.ipynb\" target=\"_parent\"><img src=\"https://colab.research.google.com/assets/colab-badge.svg\" alt=\"Open In Colab\"/></a>"
      ]
    },
    {
      "cell_type": "markdown",
      "metadata": {
        "id": "AZ86ZijdDNTx"
      },
      "source": [
        "# 1. アルビノ判定の決定木\n",
        "\n",
        "講義で例として挙げた、アルビノ判定の決定木をプログラムで作ってみます。"
      ]
    },
    {
      "cell_type": "code",
      "metadata": {
        "id": "3TGGyt0Xp0Pi"
      },
      "source": [
        "# モジュールのインポート\n",
        "!apt-get -qq -y install fonts-ipafont-gothic > /dev/null\n",
        "import pandas as pd\n",
        "import numpy as np\n",
        "from sklearn import tree\n",
        "from graphviz import Digraph,Source\n",
        "import pydotplus as pdp"
      ],
      "execution_count": null,
      "outputs": []
    },
    {
      "cell_type": "code",
      "metadata": {
        "colab": {
          "base_uri": "https://localhost:8080/",
          "height": 299
        },
        "id": "ghPZ0p2Cp0Pj",
        "outputId": "9302fd99-6cec-4290-e020-5ecc35c9c216"
      },
      "source": [
        "rawdata=np.array([\n",
        "    # 4つの成分の意味\n",
        "    # 第0成分: 動物種　　０:ウサギ、1:ゾウ\n",
        "    # 第1成分: 体の色　0:白、1:茶、2:灰色\n",
        "    # 第2成分: 目の色　　０:赤、1:黒　　\n",
        "    # 第3成分: アルビノ判定　　負：アルビノではない　　　正：アルビノ\n",
        "    [0,1,1,\"負\"],\n",
        "    [0,0,0,\"正\"],\n",
        "    [0,2,0,\"負\"],\n",
        "    [0,0,0,\"正\"],\n",
        "    [0,0,1,\"負\"],\n",
        "    [1,0,0,\"正\"],\n",
        "    [1,2,0,\"負\"],\n",
        "    [1,2,1,\"負\"],\n",
        "    ])\n",
        "\n",
        "items=['動物種','体の色','目の色']\n",
        "results=['アルビノ判定']\n",
        "df = pd.DataFrame(rawdata,columns=np.r_[items,results])\n",
        "df"
      ],
      "execution_count": null,
      "outputs": [
        {
          "output_type": "execute_result",
          "data": {
            "text/html": [
              "<div>\n",
              "<style scoped>\n",
              "    .dataframe tbody tr th:only-of-type {\n",
              "        vertical-align: middle;\n",
              "    }\n",
              "\n",
              "    .dataframe tbody tr th {\n",
              "        vertical-align: top;\n",
              "    }\n",
              "\n",
              "    .dataframe thead th {\n",
              "        text-align: right;\n",
              "    }\n",
              "</style>\n",
              "<table border=\"1\" class=\"dataframe\">\n",
              "  <thead>\n",
              "    <tr style=\"text-align: right;\">\n",
              "      <th></th>\n",
              "      <th>動物種</th>\n",
              "      <th>体の色</th>\n",
              "      <th>目の色</th>\n",
              "      <th>アルビノ判定</th>\n",
              "    </tr>\n",
              "  </thead>\n",
              "  <tbody>\n",
              "    <tr>\n",
              "      <th>0</th>\n",
              "      <td>0</td>\n",
              "      <td>1</td>\n",
              "      <td>1</td>\n",
              "      <td>負</td>\n",
              "    </tr>\n",
              "    <tr>\n",
              "      <th>1</th>\n",
              "      <td>0</td>\n",
              "      <td>0</td>\n",
              "      <td>0</td>\n",
              "      <td>正</td>\n",
              "    </tr>\n",
              "    <tr>\n",
              "      <th>2</th>\n",
              "      <td>0</td>\n",
              "      <td>2</td>\n",
              "      <td>0</td>\n",
              "      <td>負</td>\n",
              "    </tr>\n",
              "    <tr>\n",
              "      <th>3</th>\n",
              "      <td>0</td>\n",
              "      <td>0</td>\n",
              "      <td>0</td>\n",
              "      <td>正</td>\n",
              "    </tr>\n",
              "    <tr>\n",
              "      <th>4</th>\n",
              "      <td>0</td>\n",
              "      <td>0</td>\n",
              "      <td>1</td>\n",
              "      <td>負</td>\n",
              "    </tr>\n",
              "    <tr>\n",
              "      <th>5</th>\n",
              "      <td>1</td>\n",
              "      <td>0</td>\n",
              "      <td>0</td>\n",
              "      <td>正</td>\n",
              "    </tr>\n",
              "    <tr>\n",
              "      <th>6</th>\n",
              "      <td>1</td>\n",
              "      <td>2</td>\n",
              "      <td>0</td>\n",
              "      <td>負</td>\n",
              "    </tr>\n",
              "    <tr>\n",
              "      <th>7</th>\n",
              "      <td>1</td>\n",
              "      <td>2</td>\n",
              "      <td>1</td>\n",
              "      <td>負</td>\n",
              "    </tr>\n",
              "  </tbody>\n",
              "</table>\n",
              "</div>"
            ],
            "text/plain": [
              "  動物種 体の色 目の色 アルビノ判定\n",
              "0   0   1   1      負\n",
              "1   0   0   0      正\n",
              "2   0   2   0      負\n",
              "3   0   0   0      正\n",
              "4   0   0   1      負\n",
              "5   1   0   0      正\n",
              "6   1   2   0      負\n",
              "7   1   2   1      負"
            ]
          },
          "metadata": {
            "tags": []
          },
          "execution_count": 2
        }
      ]
    },
    {
      "cell_type": "markdown",
      "metadata": {
        "id": "w9Oo9Ukrp0Pv"
      },
      "source": [
        "### 訓練データをもとに決定木を構成する\n"
      ]
    },
    {
      "cell_type": "code",
      "metadata": {
        "id": "jIKPi6IWp0Pw"
      },
      "source": [
        "# 決定木学習器の準備\n",
        "classifier = tree.DecisionTreeClassifier(criterion='entropy') # 評価基準を情報量基準（entropy)とする。\n",
        "# 訓練データをもとに学習の実行\n",
        "classifier.fit(df[items],df[results]);"
      ],
      "execution_count": null,
      "outputs": []
    },
    {
      "cell_type": "markdown",
      "metadata": {
        "id": "q5UCitfXp0Pw"
      },
      "source": [
        "### 完成した決定木をpng画像として出力\n",
        "\n",
        "\n"
      ]
    },
    {
      "cell_type": "code",
      "metadata": {
        "colab": {
          "base_uri": "https://localhost:8080/",
          "height": 379
        },
        "id": "nzs3oD2dp0Px",
        "outputId": "1c524793-5d32-4cf2-f822-e0f9579fcb0c"
      },
      "source": [
        "# Graphviz 用の dot データを作成する\n",
        "dot_data = tree.export_graphviz(classifier, \n",
        "            out_file=None, # 出力ファイル名 None なら出力しない\n",
        "            filled=True, # ノードを色づけする\n",
        "            rounded=True, # ノードの角を丸く\n",
        "            feature_names=items) \n",
        "\n",
        "# 画像の保存\n",
        "graph = pdp.graph_from_dot_data(dot_data)\n",
        "for node in graph.get_nodes():\n",
        "    node.set_fontname(\"IPAGothic\")\n",
        "graph.write_png(\"アルビノ判定.png\")\n",
        "\n",
        "# 画面表示用データの作成\n",
        "Source(dot_data)"
      ],
      "execution_count": null,
      "outputs": [
        {
          "output_type": "execute_result",
          "data": {
            "text/plain": [
              "<graphviz.files.Source at 0x7fca1b3d1150>"
            ],
            "image/svg+xml": "<?xml version=\"1.0\" encoding=\"UTF-8\" standalone=\"no\"?>\n<!DOCTYPE svg PUBLIC \"-//W3C//DTD SVG 1.1//EN\"\n \"http://www.w3.org/Graphics/SVG/1.1/DTD/svg11.dtd\">\n<!-- Generated by graphviz version 2.40.1 (20161225.0304)\n -->\n<!-- Title: Tree Pages: 1 -->\n<svg width=\"296pt\" height=\"269pt\"\n viewBox=\"0.00 0.00 296.00 269.00\" xmlns=\"http://www.w3.org/2000/svg\" xmlns:xlink=\"http://www.w3.org/1999/xlink\">\n<g id=\"graph0\" class=\"graph\" transform=\"scale(1 1) rotate(0) translate(4 265)\">\n<title>Tree</title>\n<polygon fill=\"#ffffff\" stroke=\"transparent\" points=\"-4,4 -4,-265 292,-265 292,4 -4,4\"/>\n<!-- 0 -->\n<g id=\"node1\" class=\"node\">\n<title>0</title>\n<path fill=\"#b0d8f5\" stroke=\"#000000\" d=\"M220.5,-261C220.5,-261 126.5,-261 126.5,-261 120.5,-261 114.5,-255 114.5,-249 114.5,-249 114.5,-205 114.5,-205 114.5,-199 120.5,-193 126.5,-193 126.5,-193 220.5,-193 220.5,-193 226.5,-193 232.5,-199 232.5,-205 232.5,-205 232.5,-249 232.5,-249 232.5,-255 226.5,-261 220.5,-261\"/>\n<text text-anchor=\"middle\" x=\"173.5\" y=\"-245.8\" font-family=\"Helvetica,sans-Serif\" font-size=\"14.00\" fill=\"#000000\">体の色 &lt;= 0.5</text>\n<text text-anchor=\"middle\" x=\"173.5\" y=\"-230.8\" font-family=\"Helvetica,sans-Serif\" font-size=\"14.00\" fill=\"#000000\">entropy = 0.954</text>\n<text text-anchor=\"middle\" x=\"173.5\" y=\"-215.8\" font-family=\"Helvetica,sans-Serif\" font-size=\"14.00\" fill=\"#000000\">samples = 8</text>\n<text text-anchor=\"middle\" x=\"173.5\" y=\"-200.8\" font-family=\"Helvetica,sans-Serif\" font-size=\"14.00\" fill=\"#000000\">value = [3, 5]</text>\n</g>\n<!-- 1 -->\n<g id=\"node2\" class=\"node\">\n<title>1</title>\n<path fill=\"#eeab7b\" stroke=\"#000000\" d=\"M156.5,-157C156.5,-157 62.5,-157 62.5,-157 56.5,-157 50.5,-151 50.5,-145 50.5,-145 50.5,-101 50.5,-101 50.5,-95 56.5,-89 62.5,-89 62.5,-89 156.5,-89 156.5,-89 162.5,-89 168.5,-95 168.5,-101 168.5,-101 168.5,-145 168.5,-145 168.5,-151 162.5,-157 156.5,-157\"/>\n<text text-anchor=\"middle\" x=\"109.5\" y=\"-141.8\" font-family=\"Helvetica,sans-Serif\" font-size=\"14.00\" fill=\"#000000\">目の色 &lt;= 0.5</text>\n<text text-anchor=\"middle\" x=\"109.5\" y=\"-126.8\" font-family=\"Helvetica,sans-Serif\" font-size=\"14.00\" fill=\"#000000\">entropy = 0.811</text>\n<text text-anchor=\"middle\" x=\"109.5\" y=\"-111.8\" font-family=\"Helvetica,sans-Serif\" font-size=\"14.00\" fill=\"#000000\">samples = 4</text>\n<text text-anchor=\"middle\" x=\"109.5\" y=\"-96.8\" font-family=\"Helvetica,sans-Serif\" font-size=\"14.00\" fill=\"#000000\">value = [3, 1]</text>\n</g>\n<!-- 0&#45;&gt;1 -->\n<g id=\"edge1\" class=\"edge\">\n<title>0&#45;&gt;1</title>\n<path fill=\"none\" stroke=\"#000000\" d=\"M152.544,-192.9465C147.1845,-184.2373 141.3539,-174.7626 135.7647,-165.6801\"/>\n<polygon fill=\"#000000\" stroke=\"#000000\" points=\"138.7249,-163.8122 130.5031,-157.13 132.7633,-167.481 138.7249,-163.8122\"/>\n<text text-anchor=\"middle\" x=\"124.7126\" y=\"-177.7502\" font-family=\"Helvetica,sans-Serif\" font-size=\"14.00\" fill=\"#000000\">True</text>\n</g>\n<!-- 4 -->\n<g id=\"node5\" class=\"node\">\n<title>4</title>\n<path fill=\"#399de5\" stroke=\"#000000\" d=\"M276,-149.5C276,-149.5 199,-149.5 199,-149.5 193,-149.5 187,-143.5 187,-137.5 187,-137.5 187,-108.5 187,-108.5 187,-102.5 193,-96.5 199,-96.5 199,-96.5 276,-96.5 276,-96.5 282,-96.5 288,-102.5 288,-108.5 288,-108.5 288,-137.5 288,-137.5 288,-143.5 282,-149.5 276,-149.5\"/>\n<text text-anchor=\"middle\" x=\"237.5\" y=\"-134.3\" font-family=\"Helvetica,sans-Serif\" font-size=\"14.00\" fill=\"#000000\">entropy = 0.0</text>\n<text text-anchor=\"middle\" x=\"237.5\" y=\"-119.3\" font-family=\"Helvetica,sans-Serif\" font-size=\"14.00\" fill=\"#000000\">samples = 4</text>\n<text text-anchor=\"middle\" x=\"237.5\" y=\"-104.3\" font-family=\"Helvetica,sans-Serif\" font-size=\"14.00\" fill=\"#000000\">value = [0, 4]</text>\n</g>\n<!-- 0&#45;&gt;4 -->\n<g id=\"edge4\" class=\"edge\">\n<title>0&#45;&gt;4</title>\n<path fill=\"none\" stroke=\"#000000\" d=\"M194.456,-192.9465C201.3022,-181.8215 208.9171,-169.4473 215.8157,-158.237\"/>\n<polygon fill=\"#000000\" stroke=\"#000000\" points=\"218.9061,-159.8931 221.1664,-149.5422 212.9445,-156.2244 218.9061,-159.8931\"/>\n<text text-anchor=\"middle\" x=\"226.9569\" y=\"-170.1623\" font-family=\"Helvetica,sans-Serif\" font-size=\"14.00\" fill=\"#000000\">False</text>\n</g>\n<!-- 2 -->\n<g id=\"node3\" class=\"node\">\n<title>2</title>\n<path fill=\"#e58139\" stroke=\"#000000\" d=\"M89,-53C89,-53 12,-53 12,-53 6,-53 0,-47 0,-41 0,-41 0,-12 0,-12 0,-6 6,0 12,0 12,0 89,0 89,0 95,0 101,-6 101,-12 101,-12 101,-41 101,-41 101,-47 95,-53 89,-53\"/>\n<text text-anchor=\"middle\" x=\"50.5\" y=\"-37.8\" font-family=\"Helvetica,sans-Serif\" font-size=\"14.00\" fill=\"#000000\">entropy = 0.0</text>\n<text text-anchor=\"middle\" x=\"50.5\" y=\"-22.8\" font-family=\"Helvetica,sans-Serif\" font-size=\"14.00\" fill=\"#000000\">samples = 3</text>\n<text text-anchor=\"middle\" x=\"50.5\" y=\"-7.8\" font-family=\"Helvetica,sans-Serif\" font-size=\"14.00\" fill=\"#000000\">value = [3, 0]</text>\n</g>\n<!-- 1&#45;&gt;2 -->\n<g id=\"edge2\" class=\"edge\">\n<title>1&#45;&gt;2</title>\n<path fill=\"none\" stroke=\"#000000\" d=\"M88.6988,-88.9777C83.3242,-80.187 77.5265,-70.7044 72.1115,-61.8477\"/>\n<polygon fill=\"#000000\" stroke=\"#000000\" points=\"75.0564,-59.9545 66.854,-53.2485 69.0842,-63.6059 75.0564,-59.9545\"/>\n</g>\n<!-- 3 -->\n<g id=\"node4\" class=\"node\">\n<title>3</title>\n<path fill=\"#399de5\" stroke=\"#000000\" d=\"M208,-53C208,-53 131,-53 131,-53 125,-53 119,-47 119,-41 119,-41 119,-12 119,-12 119,-6 125,0 131,0 131,0 208,0 208,0 214,0 220,-6 220,-12 220,-12 220,-41 220,-41 220,-47 214,-53 208,-53\"/>\n<text text-anchor=\"middle\" x=\"169.5\" y=\"-37.8\" font-family=\"Helvetica,sans-Serif\" font-size=\"14.00\" fill=\"#000000\">entropy = 0.0</text>\n<text text-anchor=\"middle\" x=\"169.5\" y=\"-22.8\" font-family=\"Helvetica,sans-Serif\" font-size=\"14.00\" fill=\"#000000\">samples = 1</text>\n<text text-anchor=\"middle\" x=\"169.5\" y=\"-7.8\" font-family=\"Helvetica,sans-Serif\" font-size=\"14.00\" fill=\"#000000\">value = [0, 1]</text>\n</g>\n<!-- 1&#45;&gt;3 -->\n<g id=\"edge3\" class=\"edge\">\n<title>1&#45;&gt;3</title>\n<path fill=\"none\" stroke=\"#000000\" d=\"M130.6538,-88.9777C136.1195,-80.187 142.0154,-70.7044 147.5222,-61.8477\"/>\n<polygon fill=\"#000000\" stroke=\"#000000\" points=\"150.5609,-63.5889 152.8688,-53.2485 144.6163,-59.8927 150.5609,-63.5889\"/>\n</g>\n</g>\n</svg>\n"
          },
          "metadata": {
            "tags": []
          },
          "execution_count": 4
        }
      ]
    },
    {
      "cell_type": "markdown",
      "metadata": {
        "id": "Gs2HcBzC9-Dv"
      },
      "source": [
        "# 決定木の意味\n",
        "\n",
        "\n",
        "\n",
        "1.   まず「体の色」を調べる。0.5以下なら左の枝、0.5を超えると右の枝。いま、体の色は０:白、1:茶、2:灰色、としてあるので、体の色が白なら左へ、茶と灰色は右へ。\n",
        "-  **entropy: 0.954**  体の色が分かった場合のエントロピーは0.954 \n",
        "- **samples = 8 value = [3, 5]** データ数は８で、そのうちアルビノは３，アルビノでないものは５\n",
        "2. 2段目。右の枝は、**entropy:0 samples = 4,value=[0,4]** データ数は４つで、そのすべてはアルビノではない、つまり、体の色が茶と灰色の場合はアルビノではない、と判断。エントロピーが０ということは、曖昧性が０、つまり判定結果の確定を意味する。\n",
        "左の枝では、「目の色」をチェックして、0.5 を基準に振り分け。目の色は０:赤、1:黒としているので、赤は左、黒は右。\n",
        "3. 左の枝も右の枝もエントロピー０、つまりここで判定は確定する。左に来るデータは３つですべてアルビノ、右はデータが１つで、アルビノではない。\n",
        "\n",
        "まとめると、まず「体の色」を調べて白以外ならアルビノではないと判定、白の場合は「目の色」を調べ、赤ならアルビノ、さもなくばアルビノではない、と判定。\n",
        "\n",
        "\n"
      ]
    },
    {
      "cell_type": "markdown",
      "metadata": {
        "id": "9tdjrw-WI3fA"
      },
      "source": [
        "# ２．不動産販売\n",
        "\n",
        "![2017-09-23 18 27 59](https://user-images.githubusercontent.com/5820803/30771930-0fbc20de-a08d-11e7-922a-6e8e641170f4.PNG)\n",
        "\n",
        "上のような不動産の販売実績データを訓練データとして、「住居形態」「家族構成」「収入」「ローン残」をもとに購入の有無を予測する決定木を作ってみましょう。\n",
        "\n",
        "まず、学習用のデータを作成します。\n"
      ]
    },
    {
      "cell_type": "code",
      "metadata": {
        "colab": {
          "base_uri": "https://localhost:8080/",
          "height": 299
        },
        "id": "Sy_wxiJ8KwKm",
        "outputId": "37e57ea1-1a12-4f2d-8279-9f33d31b0a94"
      },
      "source": [
        "rawdata=np.array([\n",
        "    [0,0,0,1,\"×\"],\n",
        "    [1,2,1,1,\"×\"],\n",
        "    [1,1,0,1,\"×\"],\n",
        "    [0,0,1,1,\"×\"],\n",
        "    [0,2,1,0,\"○\"],\n",
        "    [0,1,1,0,\"○\"],\n",
        "    [0,2,0,0,\"×\"],\n",
        "    [1,2,1,0,\"○\"],\n",
        "    ])\n",
        "\n",
        "items=['住居形態','家族構成','収入','ローン残']\n",
        "results=['販売実績']\n",
        "df = pd.DataFrame(rawdata,columns=np.r_[items,results])\n",
        "df"
      ],
      "execution_count": null,
      "outputs": [
        {
          "output_type": "execute_result",
          "data": {
            "text/html": [
              "<div>\n",
              "<style scoped>\n",
              "    .dataframe tbody tr th:only-of-type {\n",
              "        vertical-align: middle;\n",
              "    }\n",
              "\n",
              "    .dataframe tbody tr th {\n",
              "        vertical-align: top;\n",
              "    }\n",
              "\n",
              "    .dataframe thead th {\n",
              "        text-align: right;\n",
              "    }\n",
              "</style>\n",
              "<table border=\"1\" class=\"dataframe\">\n",
              "  <thead>\n",
              "    <tr style=\"text-align: right;\">\n",
              "      <th></th>\n",
              "      <th>住居形態</th>\n",
              "      <th>家族構成</th>\n",
              "      <th>収入</th>\n",
              "      <th>ローン残</th>\n",
              "      <th>販売実績</th>\n",
              "    </tr>\n",
              "  </thead>\n",
              "  <tbody>\n",
              "    <tr>\n",
              "      <th>0</th>\n",
              "      <td>0</td>\n",
              "      <td>0</td>\n",
              "      <td>0</td>\n",
              "      <td>1</td>\n",
              "      <td>×</td>\n",
              "    </tr>\n",
              "    <tr>\n",
              "      <th>1</th>\n",
              "      <td>1</td>\n",
              "      <td>2</td>\n",
              "      <td>1</td>\n",
              "      <td>1</td>\n",
              "      <td>×</td>\n",
              "    </tr>\n",
              "    <tr>\n",
              "      <th>2</th>\n",
              "      <td>1</td>\n",
              "      <td>1</td>\n",
              "      <td>0</td>\n",
              "      <td>1</td>\n",
              "      <td>×</td>\n",
              "    </tr>\n",
              "    <tr>\n",
              "      <th>3</th>\n",
              "      <td>0</td>\n",
              "      <td>0</td>\n",
              "      <td>1</td>\n",
              "      <td>1</td>\n",
              "      <td>×</td>\n",
              "    </tr>\n",
              "    <tr>\n",
              "      <th>4</th>\n",
              "      <td>0</td>\n",
              "      <td>2</td>\n",
              "      <td>1</td>\n",
              "      <td>0</td>\n",
              "      <td>○</td>\n",
              "    </tr>\n",
              "    <tr>\n",
              "      <th>5</th>\n",
              "      <td>0</td>\n",
              "      <td>1</td>\n",
              "      <td>1</td>\n",
              "      <td>0</td>\n",
              "      <td>○</td>\n",
              "    </tr>\n",
              "    <tr>\n",
              "      <th>6</th>\n",
              "      <td>0</td>\n",
              "      <td>2</td>\n",
              "      <td>0</td>\n",
              "      <td>0</td>\n",
              "      <td>×</td>\n",
              "    </tr>\n",
              "    <tr>\n",
              "      <th>7</th>\n",
              "      <td>1</td>\n",
              "      <td>2</td>\n",
              "      <td>1</td>\n",
              "      <td>0</td>\n",
              "      <td>○</td>\n",
              "    </tr>\n",
              "  </tbody>\n",
              "</table>\n",
              "</div>"
            ],
            "text/plain": [
              "  住居形態 家族構成 収入 ローン残 販売実績\n",
              "0    0    0  0    1    ×\n",
              "1    1    2  1    1    ×\n",
              "2    1    1  0    1    ×\n",
              "3    0    0  1    1    ×\n",
              "4    0    2  1    0    ○\n",
              "5    0    1  1    0    ○\n",
              "6    0    2  0    0    ×\n",
              "7    1    2  1    0    ○"
            ]
          },
          "metadata": {
            "tags": []
          },
          "execution_count": 5
        }
      ]
    },
    {
      "cell_type": "markdown",
      "metadata": {
        "id": "UQOlNfH4SdaR"
      },
      "source": [
        "### 訓練データをもとに決定木を生成"
      ]
    },
    {
      "cell_type": "code",
      "metadata": {
        "colab": {
          "base_uri": "https://localhost:8080/",
          "height": 379
        },
        "id": "CAMcBUphPZ1n",
        "outputId": "3f631d2a-a6d5-4e21-a16e-5cac916d4b00"
      },
      "source": [
        "# 決定木学習器の準備\n",
        "classifier = tree.DecisionTreeClassifier(criterion='entropy') # 評価基準を情報量基準（entropy)とする。\n",
        "# 訓練データをもとに学習の実行\n",
        "classifier.fit(df[items],df[results]);\n",
        "\n",
        "# Graphviz 用の dot データを作成する\n",
        "dot_data = tree.export_graphviz(classifier, \n",
        "            out_file=None, # 出力ファイル名 None なら出力しない\n",
        "            filled=True, # ノードを色づけする\n",
        "            rounded=True, # ノードの角を丸く\n",
        "            feature_names=items) \n",
        "\n",
        "# 画像の保存\n",
        "graph = pdp.graph_from_dot_data(dot_data)\n",
        "for node in graph.get_nodes():\n",
        "    node.set_fontname(\"IPAGothic\")\n",
        "graph.write_png(\"販売予測.png\")\n",
        "\n",
        "# 画面表示用データの作成\n",
        "Source(dot_data)"
      ],
      "execution_count": null,
      "outputs": [
        {
          "output_type": "execute_result",
          "data": {
            "text/plain": [
              "<graphviz.files.Source at 0x7fca1b377890>"
            ],
            "image/svg+xml": "<?xml version=\"1.0\" encoding=\"UTF-8\" standalone=\"no\"?>\n<!DOCTYPE svg PUBLIC \"-//W3C//DTD SVG 1.1//EN\"\n \"http://www.w3.org/Graphics/SVG/1.1/DTD/svg11.dtd\">\n<!-- Generated by graphviz version 2.40.1 (20161225.0304)\n -->\n<!-- Title: Tree Pages: 1 -->\n<svg width=\"296pt\" height=\"269pt\"\n viewBox=\"0.00 0.00 296.00 269.00\" xmlns=\"http://www.w3.org/2000/svg\" xmlns:xlink=\"http://www.w3.org/1999/xlink\">\n<g id=\"graph0\" class=\"graph\" transform=\"scale(1 1) rotate(0) translate(4 265)\">\n<title>Tree</title>\n<polygon fill=\"#ffffff\" stroke=\"transparent\" points=\"-4,4 -4,-265 292,-265 292,4 -4,4\"/>\n<!-- 0 -->\n<g id=\"node1\" class=\"node\">\n<title>0</title>\n<path fill=\"#f5cdb0\" stroke=\"#000000\" d=\"M220.5,-261C220.5,-261 126.5,-261 126.5,-261 120.5,-261 114.5,-255 114.5,-249 114.5,-249 114.5,-205 114.5,-205 114.5,-199 120.5,-193 126.5,-193 126.5,-193 220.5,-193 220.5,-193 226.5,-193 232.5,-199 232.5,-205 232.5,-205 232.5,-249 232.5,-249 232.5,-255 226.5,-261 220.5,-261\"/>\n<text text-anchor=\"middle\" x=\"173.5\" y=\"-245.8\" font-family=\"Helvetica,sans-Serif\" font-size=\"14.00\" fill=\"#000000\">ローン残 &lt;= 0.5</text>\n<text text-anchor=\"middle\" x=\"173.5\" y=\"-230.8\" font-family=\"Helvetica,sans-Serif\" font-size=\"14.00\" fill=\"#000000\">entropy = 0.954</text>\n<text text-anchor=\"middle\" x=\"173.5\" y=\"-215.8\" font-family=\"Helvetica,sans-Serif\" font-size=\"14.00\" fill=\"#000000\">samples = 8</text>\n<text text-anchor=\"middle\" x=\"173.5\" y=\"-200.8\" font-family=\"Helvetica,sans-Serif\" font-size=\"14.00\" fill=\"#000000\">value = [5, 3]</text>\n</g>\n<!-- 1 -->\n<g id=\"node2\" class=\"node\">\n<title>1</title>\n<path fill=\"#7bbeee\" stroke=\"#000000\" d=\"M156.5,-157C156.5,-157 62.5,-157 62.5,-157 56.5,-157 50.5,-151 50.5,-145 50.5,-145 50.5,-101 50.5,-101 50.5,-95 56.5,-89 62.5,-89 62.5,-89 156.5,-89 156.5,-89 162.5,-89 168.5,-95 168.5,-101 168.5,-101 168.5,-145 168.5,-145 168.5,-151 162.5,-157 156.5,-157\"/>\n<text text-anchor=\"middle\" x=\"109.5\" y=\"-141.8\" font-family=\"Helvetica,sans-Serif\" font-size=\"14.00\" fill=\"#000000\">収入 &lt;= 0.5</text>\n<text text-anchor=\"middle\" x=\"109.5\" y=\"-126.8\" font-family=\"Helvetica,sans-Serif\" font-size=\"14.00\" fill=\"#000000\">entropy = 0.811</text>\n<text text-anchor=\"middle\" x=\"109.5\" y=\"-111.8\" font-family=\"Helvetica,sans-Serif\" font-size=\"14.00\" fill=\"#000000\">samples = 4</text>\n<text text-anchor=\"middle\" x=\"109.5\" y=\"-96.8\" font-family=\"Helvetica,sans-Serif\" font-size=\"14.00\" fill=\"#000000\">value = [1, 3]</text>\n</g>\n<!-- 0&#45;&gt;1 -->\n<g id=\"edge1\" class=\"edge\">\n<title>0&#45;&gt;1</title>\n<path fill=\"none\" stroke=\"#000000\" d=\"M152.544,-192.9465C147.1845,-184.2373 141.3539,-174.7626 135.7647,-165.6801\"/>\n<polygon fill=\"#000000\" stroke=\"#000000\" points=\"138.7249,-163.8122 130.5031,-157.13 132.7633,-167.481 138.7249,-163.8122\"/>\n<text text-anchor=\"middle\" x=\"124.7126\" y=\"-177.7502\" font-family=\"Helvetica,sans-Serif\" font-size=\"14.00\" fill=\"#000000\">True</text>\n</g>\n<!-- 4 -->\n<g id=\"node5\" class=\"node\">\n<title>4</title>\n<path fill=\"#e58139\" stroke=\"#000000\" d=\"M276,-149.5C276,-149.5 199,-149.5 199,-149.5 193,-149.5 187,-143.5 187,-137.5 187,-137.5 187,-108.5 187,-108.5 187,-102.5 193,-96.5 199,-96.5 199,-96.5 276,-96.5 276,-96.5 282,-96.5 288,-102.5 288,-108.5 288,-108.5 288,-137.5 288,-137.5 288,-143.5 282,-149.5 276,-149.5\"/>\n<text text-anchor=\"middle\" x=\"237.5\" y=\"-134.3\" font-family=\"Helvetica,sans-Serif\" font-size=\"14.00\" fill=\"#000000\">entropy = 0.0</text>\n<text text-anchor=\"middle\" x=\"237.5\" y=\"-119.3\" font-family=\"Helvetica,sans-Serif\" font-size=\"14.00\" fill=\"#000000\">samples = 4</text>\n<text text-anchor=\"middle\" x=\"237.5\" y=\"-104.3\" font-family=\"Helvetica,sans-Serif\" font-size=\"14.00\" fill=\"#000000\">value = [4, 0]</text>\n</g>\n<!-- 0&#45;&gt;4 -->\n<g id=\"edge4\" class=\"edge\">\n<title>0&#45;&gt;4</title>\n<path fill=\"none\" stroke=\"#000000\" d=\"M194.456,-192.9465C201.3022,-181.8215 208.9171,-169.4473 215.8157,-158.237\"/>\n<polygon fill=\"#000000\" stroke=\"#000000\" points=\"218.9061,-159.8931 221.1664,-149.5422 212.9445,-156.2244 218.9061,-159.8931\"/>\n<text text-anchor=\"middle\" x=\"226.9569\" y=\"-170.1623\" font-family=\"Helvetica,sans-Serif\" font-size=\"14.00\" fill=\"#000000\">False</text>\n</g>\n<!-- 2 -->\n<g id=\"node3\" class=\"node\">\n<title>2</title>\n<path fill=\"#e58139\" stroke=\"#000000\" d=\"M89,-53C89,-53 12,-53 12,-53 6,-53 0,-47 0,-41 0,-41 0,-12 0,-12 0,-6 6,0 12,0 12,0 89,0 89,0 95,0 101,-6 101,-12 101,-12 101,-41 101,-41 101,-47 95,-53 89,-53\"/>\n<text text-anchor=\"middle\" x=\"50.5\" y=\"-37.8\" font-family=\"Helvetica,sans-Serif\" font-size=\"14.00\" fill=\"#000000\">entropy = 0.0</text>\n<text text-anchor=\"middle\" x=\"50.5\" y=\"-22.8\" font-family=\"Helvetica,sans-Serif\" font-size=\"14.00\" fill=\"#000000\">samples = 1</text>\n<text text-anchor=\"middle\" x=\"50.5\" y=\"-7.8\" font-family=\"Helvetica,sans-Serif\" font-size=\"14.00\" fill=\"#000000\">value = [1, 0]</text>\n</g>\n<!-- 1&#45;&gt;2 -->\n<g id=\"edge2\" class=\"edge\">\n<title>1&#45;&gt;2</title>\n<path fill=\"none\" stroke=\"#000000\" d=\"M88.6988,-88.9777C83.3242,-80.187 77.5265,-70.7044 72.1115,-61.8477\"/>\n<polygon fill=\"#000000\" stroke=\"#000000\" points=\"75.0564,-59.9545 66.854,-53.2485 69.0842,-63.6059 75.0564,-59.9545\"/>\n</g>\n<!-- 3 -->\n<g id=\"node4\" class=\"node\">\n<title>3</title>\n<path fill=\"#399de5\" stroke=\"#000000\" d=\"M208,-53C208,-53 131,-53 131,-53 125,-53 119,-47 119,-41 119,-41 119,-12 119,-12 119,-6 125,0 131,0 131,0 208,0 208,0 214,0 220,-6 220,-12 220,-12 220,-41 220,-41 220,-47 214,-53 208,-53\"/>\n<text text-anchor=\"middle\" x=\"169.5\" y=\"-37.8\" font-family=\"Helvetica,sans-Serif\" font-size=\"14.00\" fill=\"#000000\">entropy = 0.0</text>\n<text text-anchor=\"middle\" x=\"169.5\" y=\"-22.8\" font-family=\"Helvetica,sans-Serif\" font-size=\"14.00\" fill=\"#000000\">samples = 3</text>\n<text text-anchor=\"middle\" x=\"169.5\" y=\"-7.8\" font-family=\"Helvetica,sans-Serif\" font-size=\"14.00\" fill=\"#000000\">value = [0, 3]</text>\n</g>\n<!-- 1&#45;&gt;3 -->\n<g id=\"edge3\" class=\"edge\">\n<title>1&#45;&gt;3</title>\n<path fill=\"none\" stroke=\"#000000\" d=\"M130.6538,-88.9777C136.1195,-80.187 142.0154,-70.7044 147.5222,-61.8477\"/>\n<polygon fill=\"#000000\" stroke=\"#000000\" points=\"150.5609,-63.5889 152.8688,-53.2485 144.6163,-59.8927 150.5609,-63.5889\"/>\n</g>\n</g>\n</svg>\n"
          },
          "metadata": {
            "tags": []
          },
          "execution_count": 6
        }
      ]
    },
    {
      "cell_type": "markdown",
      "metadata": {
        "id": "KEF33bdJQaU4"
      },
      "source": [
        "## 決定木の概要\n",
        "(1) まず「ローン残」をチェック。残ありの場合は買ってくれないと判定。4/8 は確定。    \n",
        "(2) ローン残なしの場合は「収入」をチェック、低収入の客は買ってくれない(1/8)。高収入の客は買ってくれる(3/8)*斜体テキスト*"
      ]
    },
    {
      "cell_type": "markdown",
      "metadata": {
        "id": "ZUtJJg4fHQ0u"
      },
      "source": [
        "# ３．薬物犯罪の実刑の有無の予想"
      ]
    },
    {
      "cell_type": "code",
      "metadata": {
        "colab": {
          "base_uri": "https://localhost:8080/",
          "height": 362
        },
        "id": "B5QQCLE0G4hA",
        "outputId": "1025d7ad-bedf-41a1-8ee9-886678439d3e"
      },
      "source": [
        "rawdata = np.array([\n",
        "    # ５つの成分の意味\n",
        "    # 第0成分: 性別 0:男性、1:女性\n",
        "    # 第1成分: 年齢 0:未成年、1:成年、2:老人\n",
        "    # 第2成分: 薬物　　０:シンナー、1:大麻　　２：覚せい剤\n",
        "    # 第3成分: 犯罪歴　0:なし、1:あり\n",
        "    # 第4成分: 実判決　　猶予、実刑\n",
        "    [0,0,0,0,\"猶予\"],\n",
        "    [1,0,0,0,\"猶予\"],\n",
        "    [0,2,1,0,\"猶予\"],\n",
        "    [0,0,0,1,\"実刑\"],\n",
        "    [0,2,1,1,\"実刑\"],\n",
        "    [1,1,2,1,\"実刑\"],\n",
        "    [1,1,0,1,\"実刑\"],\n",
        "    [1,0,2,1,\"実刑\"],\n",
        "    [0,2,2,0,\"実刑\"],\n",
        "    [1,0,2,1,\"実刑\"]\n",
        "    ])\n",
        "\n",
        "items=['性別','年齢','薬物','犯罪歴']\n",
        "results=['実判決']\n",
        "df = pd.DataFrame(rawdata,columns=np.r_[items,results])\n",
        "df"
      ],
      "execution_count": null,
      "outputs": [
        {
          "output_type": "execute_result",
          "data": {
            "text/html": [
              "<div>\n",
              "<style scoped>\n",
              "    .dataframe tbody tr th:only-of-type {\n",
              "        vertical-align: middle;\n",
              "    }\n",
              "\n",
              "    .dataframe tbody tr th {\n",
              "        vertical-align: top;\n",
              "    }\n",
              "\n",
              "    .dataframe thead th {\n",
              "        text-align: right;\n",
              "    }\n",
              "</style>\n",
              "<table border=\"1\" class=\"dataframe\">\n",
              "  <thead>\n",
              "    <tr style=\"text-align: right;\">\n",
              "      <th></th>\n",
              "      <th>性別</th>\n",
              "      <th>年齢</th>\n",
              "      <th>薬物</th>\n",
              "      <th>犯罪歴</th>\n",
              "      <th>実判決</th>\n",
              "    </tr>\n",
              "  </thead>\n",
              "  <tbody>\n",
              "    <tr>\n",
              "      <th>0</th>\n",
              "      <td>0</td>\n",
              "      <td>0</td>\n",
              "      <td>0</td>\n",
              "      <td>0</td>\n",
              "      <td>猶予</td>\n",
              "    </tr>\n",
              "    <tr>\n",
              "      <th>1</th>\n",
              "      <td>1</td>\n",
              "      <td>0</td>\n",
              "      <td>0</td>\n",
              "      <td>0</td>\n",
              "      <td>猶予</td>\n",
              "    </tr>\n",
              "    <tr>\n",
              "      <th>2</th>\n",
              "      <td>0</td>\n",
              "      <td>2</td>\n",
              "      <td>1</td>\n",
              "      <td>0</td>\n",
              "      <td>猶予</td>\n",
              "    </tr>\n",
              "    <tr>\n",
              "      <th>3</th>\n",
              "      <td>0</td>\n",
              "      <td>0</td>\n",
              "      <td>0</td>\n",
              "      <td>1</td>\n",
              "      <td>実刑</td>\n",
              "    </tr>\n",
              "    <tr>\n",
              "      <th>4</th>\n",
              "      <td>0</td>\n",
              "      <td>2</td>\n",
              "      <td>1</td>\n",
              "      <td>1</td>\n",
              "      <td>実刑</td>\n",
              "    </tr>\n",
              "    <tr>\n",
              "      <th>5</th>\n",
              "      <td>1</td>\n",
              "      <td>1</td>\n",
              "      <td>2</td>\n",
              "      <td>1</td>\n",
              "      <td>実刑</td>\n",
              "    </tr>\n",
              "    <tr>\n",
              "      <th>6</th>\n",
              "      <td>1</td>\n",
              "      <td>1</td>\n",
              "      <td>0</td>\n",
              "      <td>1</td>\n",
              "      <td>実刑</td>\n",
              "    </tr>\n",
              "    <tr>\n",
              "      <th>7</th>\n",
              "      <td>1</td>\n",
              "      <td>0</td>\n",
              "      <td>2</td>\n",
              "      <td>1</td>\n",
              "      <td>実刑</td>\n",
              "    </tr>\n",
              "    <tr>\n",
              "      <th>8</th>\n",
              "      <td>0</td>\n",
              "      <td>2</td>\n",
              "      <td>2</td>\n",
              "      <td>0</td>\n",
              "      <td>実刑</td>\n",
              "    </tr>\n",
              "    <tr>\n",
              "      <th>9</th>\n",
              "      <td>1</td>\n",
              "      <td>0</td>\n",
              "      <td>2</td>\n",
              "      <td>1</td>\n",
              "      <td>実刑</td>\n",
              "    </tr>\n",
              "  </tbody>\n",
              "</table>\n",
              "</div>"
            ],
            "text/plain": [
              "  性別 年齢 薬物 犯罪歴 実判決\n",
              "0  0  0  0   0  猶予\n",
              "1  1  0  0   0  猶予\n",
              "2  0  2  1   0  猶予\n",
              "3  0  0  0   1  実刑\n",
              "4  0  2  1   1  実刑\n",
              "5  1  1  2   1  実刑\n",
              "6  1  1  0   1  実刑\n",
              "7  1  0  2   1  実刑\n",
              "8  0  2  2   0  実刑\n",
              "9  1  0  2   1  実刑"
            ]
          },
          "metadata": {
            "tags": []
          },
          "execution_count": 7
        }
      ]
    },
    {
      "cell_type": "markdown",
      "metadata": {
        "id": "-sRSaQgsSkh-"
      },
      "source": [
        "### 訓練データをもとに決定木を生成"
      ]
    },
    {
      "cell_type": "code",
      "metadata": {
        "colab": {
          "base_uri": "https://localhost:8080/",
          "height": 379
        },
        "id": "odjiE5XoSLxD",
        "outputId": "5bc87637-5360-4a52-99e9-669db7406bf6"
      },
      "source": [
        "# 決定木学習器の準備\n",
        "classifier = tree.DecisionTreeClassifier(criterion='entropy') # 評価基準を情報量基準（entropy)とする。\n",
        "# 訓練データをもとに学習の実行\n",
        "classifier.fit(df[items],df[results]);\n",
        "\n",
        "# Graphviz 用の dot データを作成する\n",
        "dot_data = tree.export_graphviz(classifier, \n",
        "            out_file=None, # 出力ファイル名 None なら出力しない\n",
        "            filled=True, # ノードを色づけする\n",
        "            rounded=True, # ノードの角を丸く\n",
        "            feature_names=items) \n",
        "\n",
        "# 画像の保存\n",
        "graph = pdp.graph_from_dot_data(dot_data)\n",
        "for node in graph.get_nodes():\n",
        "    node.set_fontname(\"IPAGothic\")\n",
        "graph.write_png(\"判決予測.png\")\n",
        "\n",
        "# 画面表示用データの作成\n",
        "Source(dot_data)"
      ],
      "execution_count": null,
      "outputs": [
        {
          "output_type": "execute_result",
          "data": {
            "text/plain": [
              "<graphviz.files.Source at 0x7fca1b307950>"
            ],
            "image/svg+xml": "<?xml version=\"1.0\" encoding=\"UTF-8\" standalone=\"no\"?>\n<!DOCTYPE svg PUBLIC \"-//W3C//DTD SVG 1.1//EN\"\n \"http://www.w3.org/Graphics/SVG/1.1/DTD/svg11.dtd\">\n<!-- Generated by graphviz version 2.40.1 (20161225.0304)\n -->\n<!-- Title: Tree Pages: 1 -->\n<svg width=\"296pt\" height=\"269pt\"\n viewBox=\"0.00 0.00 296.00 269.00\" xmlns=\"http://www.w3.org/2000/svg\" xmlns:xlink=\"http://www.w3.org/1999/xlink\">\n<g id=\"graph0\" class=\"graph\" transform=\"scale(1 1) rotate(0) translate(4 265)\">\n<title>Tree</title>\n<polygon fill=\"#ffffff\" stroke=\"transparent\" points=\"-4,4 -4,-265 292,-265 292,4 -4,4\"/>\n<!-- 0 -->\n<g id=\"node1\" class=\"node\">\n<title>0</title>\n<path fill=\"#f0b78e\" stroke=\"#000000\" d=\"M220.5,-261C220.5,-261 126.5,-261 126.5,-261 120.5,-261 114.5,-255 114.5,-249 114.5,-249 114.5,-205 114.5,-205 114.5,-199 120.5,-193 126.5,-193 126.5,-193 220.5,-193 220.5,-193 226.5,-193 232.5,-199 232.5,-205 232.5,-205 232.5,-249 232.5,-249 232.5,-255 226.5,-261 220.5,-261\"/>\n<text text-anchor=\"middle\" x=\"173.5\" y=\"-245.8\" font-family=\"Helvetica,sans-Serif\" font-size=\"14.00\" fill=\"#000000\">犯罪歴 &lt;= 0.5</text>\n<text text-anchor=\"middle\" x=\"173.5\" y=\"-230.8\" font-family=\"Helvetica,sans-Serif\" font-size=\"14.00\" fill=\"#000000\">entropy = 0.881</text>\n<text text-anchor=\"middle\" x=\"173.5\" y=\"-215.8\" font-family=\"Helvetica,sans-Serif\" font-size=\"14.00\" fill=\"#000000\">samples = 10</text>\n<text text-anchor=\"middle\" x=\"173.5\" y=\"-200.8\" font-family=\"Helvetica,sans-Serif\" font-size=\"14.00\" fill=\"#000000\">value = [7, 3]</text>\n</g>\n<!-- 1 -->\n<g id=\"node2\" class=\"node\">\n<title>1</title>\n<path fill=\"#7bbeee\" stroke=\"#000000\" d=\"M156.5,-157C156.5,-157 62.5,-157 62.5,-157 56.5,-157 50.5,-151 50.5,-145 50.5,-145 50.5,-101 50.5,-101 50.5,-95 56.5,-89 62.5,-89 62.5,-89 156.5,-89 156.5,-89 162.5,-89 168.5,-95 168.5,-101 168.5,-101 168.5,-145 168.5,-145 168.5,-151 162.5,-157 156.5,-157\"/>\n<text text-anchor=\"middle\" x=\"109.5\" y=\"-141.8\" font-family=\"Helvetica,sans-Serif\" font-size=\"14.00\" fill=\"#000000\">薬物 &lt;= 1.5</text>\n<text text-anchor=\"middle\" x=\"109.5\" y=\"-126.8\" font-family=\"Helvetica,sans-Serif\" font-size=\"14.00\" fill=\"#000000\">entropy = 0.811</text>\n<text text-anchor=\"middle\" x=\"109.5\" y=\"-111.8\" font-family=\"Helvetica,sans-Serif\" font-size=\"14.00\" fill=\"#000000\">samples = 4</text>\n<text text-anchor=\"middle\" x=\"109.5\" y=\"-96.8\" font-family=\"Helvetica,sans-Serif\" font-size=\"14.00\" fill=\"#000000\">value = [1, 3]</text>\n</g>\n<!-- 0&#45;&gt;1 -->\n<g id=\"edge1\" class=\"edge\">\n<title>0&#45;&gt;1</title>\n<path fill=\"none\" stroke=\"#000000\" d=\"M152.544,-192.9465C147.1845,-184.2373 141.3539,-174.7626 135.7647,-165.6801\"/>\n<polygon fill=\"#000000\" stroke=\"#000000\" points=\"138.7249,-163.8122 130.5031,-157.13 132.7633,-167.481 138.7249,-163.8122\"/>\n<text text-anchor=\"middle\" x=\"124.7126\" y=\"-177.7502\" font-family=\"Helvetica,sans-Serif\" font-size=\"14.00\" fill=\"#000000\">True</text>\n</g>\n<!-- 4 -->\n<g id=\"node5\" class=\"node\">\n<title>4</title>\n<path fill=\"#e58139\" stroke=\"#000000\" d=\"M276,-149.5C276,-149.5 199,-149.5 199,-149.5 193,-149.5 187,-143.5 187,-137.5 187,-137.5 187,-108.5 187,-108.5 187,-102.5 193,-96.5 199,-96.5 199,-96.5 276,-96.5 276,-96.5 282,-96.5 288,-102.5 288,-108.5 288,-108.5 288,-137.5 288,-137.5 288,-143.5 282,-149.5 276,-149.5\"/>\n<text text-anchor=\"middle\" x=\"237.5\" y=\"-134.3\" font-family=\"Helvetica,sans-Serif\" font-size=\"14.00\" fill=\"#000000\">entropy = 0.0</text>\n<text text-anchor=\"middle\" x=\"237.5\" y=\"-119.3\" font-family=\"Helvetica,sans-Serif\" font-size=\"14.00\" fill=\"#000000\">samples = 6</text>\n<text text-anchor=\"middle\" x=\"237.5\" y=\"-104.3\" font-family=\"Helvetica,sans-Serif\" font-size=\"14.00\" fill=\"#000000\">value = [6, 0]</text>\n</g>\n<!-- 0&#45;&gt;4 -->\n<g id=\"edge4\" class=\"edge\">\n<title>0&#45;&gt;4</title>\n<path fill=\"none\" stroke=\"#000000\" d=\"M194.456,-192.9465C201.3022,-181.8215 208.9171,-169.4473 215.8157,-158.237\"/>\n<polygon fill=\"#000000\" stroke=\"#000000\" points=\"218.9061,-159.8931 221.1664,-149.5422 212.9445,-156.2244 218.9061,-159.8931\"/>\n<text text-anchor=\"middle\" x=\"226.9569\" y=\"-170.1623\" font-family=\"Helvetica,sans-Serif\" font-size=\"14.00\" fill=\"#000000\">False</text>\n</g>\n<!-- 2 -->\n<g id=\"node3\" class=\"node\">\n<title>2</title>\n<path fill=\"#399de5\" stroke=\"#000000\" d=\"M89,-53C89,-53 12,-53 12,-53 6,-53 0,-47 0,-41 0,-41 0,-12 0,-12 0,-6 6,0 12,0 12,0 89,0 89,0 95,0 101,-6 101,-12 101,-12 101,-41 101,-41 101,-47 95,-53 89,-53\"/>\n<text text-anchor=\"middle\" x=\"50.5\" y=\"-37.8\" font-family=\"Helvetica,sans-Serif\" font-size=\"14.00\" fill=\"#000000\">entropy = 0.0</text>\n<text text-anchor=\"middle\" x=\"50.5\" y=\"-22.8\" font-family=\"Helvetica,sans-Serif\" font-size=\"14.00\" fill=\"#000000\">samples = 3</text>\n<text text-anchor=\"middle\" x=\"50.5\" y=\"-7.8\" font-family=\"Helvetica,sans-Serif\" font-size=\"14.00\" fill=\"#000000\">value = [0, 3]</text>\n</g>\n<!-- 1&#45;&gt;2 -->\n<g id=\"edge2\" class=\"edge\">\n<title>1&#45;&gt;2</title>\n<path fill=\"none\" stroke=\"#000000\" d=\"M88.6988,-88.9777C83.3242,-80.187 77.5265,-70.7044 72.1115,-61.8477\"/>\n<polygon fill=\"#000000\" stroke=\"#000000\" points=\"75.0564,-59.9545 66.854,-53.2485 69.0842,-63.6059 75.0564,-59.9545\"/>\n</g>\n<!-- 3 -->\n<g id=\"node4\" class=\"node\">\n<title>3</title>\n<path fill=\"#e58139\" stroke=\"#000000\" d=\"M208,-53C208,-53 131,-53 131,-53 125,-53 119,-47 119,-41 119,-41 119,-12 119,-12 119,-6 125,0 131,0 131,0 208,0 208,0 214,0 220,-6 220,-12 220,-12 220,-41 220,-41 220,-47 214,-53 208,-53\"/>\n<text text-anchor=\"middle\" x=\"169.5\" y=\"-37.8\" font-family=\"Helvetica,sans-Serif\" font-size=\"14.00\" fill=\"#000000\">entropy = 0.0</text>\n<text text-anchor=\"middle\" x=\"169.5\" y=\"-22.8\" font-family=\"Helvetica,sans-Serif\" font-size=\"14.00\" fill=\"#000000\">samples = 1</text>\n<text text-anchor=\"middle\" x=\"169.5\" y=\"-7.8\" font-family=\"Helvetica,sans-Serif\" font-size=\"14.00\" fill=\"#000000\">value = [1, 0]</text>\n</g>\n<!-- 1&#45;&gt;3 -->\n<g id=\"edge3\" class=\"edge\">\n<title>1&#45;&gt;3</title>\n<path fill=\"none\" stroke=\"#000000\" d=\"M130.6538,-88.9777C136.1195,-80.187 142.0154,-70.7044 147.5222,-61.8477\"/>\n<polygon fill=\"#000000\" stroke=\"#000000\" points=\"150.5609,-63.5889 152.8688,-53.2485 144.6163,-59.8927 150.5609,-63.5889\"/>\n</g>\n</g>\n</svg>\n"
          },
          "metadata": {
            "tags": []
          },
          "execution_count": 8
        }
      ]
    },
    {
      "cell_type": "markdown",
      "metadata": {
        "id": "v5U5n_BVSu_j"
      },
      "source": [
        "## 決定木の意味\n",
        "(1) まず「犯罪歴」をチェック。「あり」の場合(6/10)は実刑    \n",
        "(2) 犯罪歴なしの場合は「薬物」をチェック、「覚せい剤」の場合は実刑確定(1/10)。それ以外の場合は執行猶予(3/10)"
      ]
    },
    {
      "cell_type": "markdown",
      "metadata": {
        "id": "XUzCVDNkWS14"
      },
      "source": [
        "# 決定木による予測\n",
        "\n",
        "**classifier.predict(予測したい事例のリスト)** により、判定結果が返される。\n",
        "\n",
        "たとえば、「成人女性で犯罪歴あり、薬物が覚せい剤」ならば、[1,1,1,1]と表せるので、試してみると、"
      ]
    },
    {
      "cell_type": "code",
      "metadata": {
        "colab": {
          "base_uri": "https://localhost:8080/"
        },
        "id": "mvlvFp5oSo-S",
        "outputId": "a4dc89e3-044b-4f5a-c58f-57edc1bb8807"
      },
      "source": [
        "result = classifier.predict([[1,1,1,1]])\n",
        "print(\"予想される判決は\"+result[0])"
      ],
      "execution_count": null,
      "outputs": [
        {
          "output_type": "stream",
          "text": [
            "予想される判決は実刑\n"
          ],
          "name": "stdout"
        }
      ]
    },
    {
      "cell_type": "markdown",
      "metadata": {
        "id": "XgLWefvxZR05"
      },
      "source": [
        "## 全判定結果"
      ]
    },
    {
      "cell_type": "code",
      "metadata": {
        "colab": {
          "base_uri": "https://localhost:8080/",
          "height": 362
        },
        "id": "q-4zatVFWoC_",
        "outputId": "d2ca2259-6800-42ac-dc55-e8447822b987"
      },
      "source": [
        "df['判決予測']=classifier.predict(df[items])\n",
        "df"
      ],
      "execution_count": null,
      "outputs": [
        {
          "output_type": "execute_result",
          "data": {
            "text/html": [
              "<div>\n",
              "<style scoped>\n",
              "    .dataframe tbody tr th:only-of-type {\n",
              "        vertical-align: middle;\n",
              "    }\n",
              "\n",
              "    .dataframe tbody tr th {\n",
              "        vertical-align: top;\n",
              "    }\n",
              "\n",
              "    .dataframe thead th {\n",
              "        text-align: right;\n",
              "    }\n",
              "</style>\n",
              "<table border=\"1\" class=\"dataframe\">\n",
              "  <thead>\n",
              "    <tr style=\"text-align: right;\">\n",
              "      <th></th>\n",
              "      <th>性別</th>\n",
              "      <th>年齢</th>\n",
              "      <th>薬物</th>\n",
              "      <th>犯罪歴</th>\n",
              "      <th>実判決</th>\n",
              "      <th>判決予測</th>\n",
              "    </tr>\n",
              "  </thead>\n",
              "  <tbody>\n",
              "    <tr>\n",
              "      <th>0</th>\n",
              "      <td>0</td>\n",
              "      <td>0</td>\n",
              "      <td>0</td>\n",
              "      <td>0</td>\n",
              "      <td>猶予</td>\n",
              "      <td>猶予</td>\n",
              "    </tr>\n",
              "    <tr>\n",
              "      <th>1</th>\n",
              "      <td>1</td>\n",
              "      <td>0</td>\n",
              "      <td>0</td>\n",
              "      <td>0</td>\n",
              "      <td>猶予</td>\n",
              "      <td>猶予</td>\n",
              "    </tr>\n",
              "    <tr>\n",
              "      <th>2</th>\n",
              "      <td>0</td>\n",
              "      <td>2</td>\n",
              "      <td>1</td>\n",
              "      <td>0</td>\n",
              "      <td>猶予</td>\n",
              "      <td>猶予</td>\n",
              "    </tr>\n",
              "    <tr>\n",
              "      <th>3</th>\n",
              "      <td>0</td>\n",
              "      <td>0</td>\n",
              "      <td>0</td>\n",
              "      <td>1</td>\n",
              "      <td>実刑</td>\n",
              "      <td>実刑</td>\n",
              "    </tr>\n",
              "    <tr>\n",
              "      <th>4</th>\n",
              "      <td>0</td>\n",
              "      <td>2</td>\n",
              "      <td>1</td>\n",
              "      <td>1</td>\n",
              "      <td>実刑</td>\n",
              "      <td>実刑</td>\n",
              "    </tr>\n",
              "    <tr>\n",
              "      <th>5</th>\n",
              "      <td>1</td>\n",
              "      <td>1</td>\n",
              "      <td>2</td>\n",
              "      <td>1</td>\n",
              "      <td>実刑</td>\n",
              "      <td>実刑</td>\n",
              "    </tr>\n",
              "    <tr>\n",
              "      <th>6</th>\n",
              "      <td>1</td>\n",
              "      <td>1</td>\n",
              "      <td>0</td>\n",
              "      <td>1</td>\n",
              "      <td>実刑</td>\n",
              "      <td>実刑</td>\n",
              "    </tr>\n",
              "    <tr>\n",
              "      <th>7</th>\n",
              "      <td>1</td>\n",
              "      <td>0</td>\n",
              "      <td>2</td>\n",
              "      <td>1</td>\n",
              "      <td>実刑</td>\n",
              "      <td>実刑</td>\n",
              "    </tr>\n",
              "    <tr>\n",
              "      <th>8</th>\n",
              "      <td>0</td>\n",
              "      <td>2</td>\n",
              "      <td>2</td>\n",
              "      <td>0</td>\n",
              "      <td>実刑</td>\n",
              "      <td>実刑</td>\n",
              "    </tr>\n",
              "    <tr>\n",
              "      <th>9</th>\n",
              "      <td>1</td>\n",
              "      <td>0</td>\n",
              "      <td>2</td>\n",
              "      <td>1</td>\n",
              "      <td>実刑</td>\n",
              "      <td>実刑</td>\n",
              "    </tr>\n",
              "  </tbody>\n",
              "</table>\n",
              "</div>"
            ],
            "text/plain": [
              "  性別 年齢 薬物 犯罪歴 実判決 判決予測\n",
              "0  0  0  0   0  猶予   猶予\n",
              "1  1  0  0   0  猶予   猶予\n",
              "2  0  2  1   0  猶予   猶予\n",
              "3  0  0  0   1  実刑   実刑\n",
              "4  0  2  1   1  実刑   実刑\n",
              "5  1  1  2   1  実刑   実刑\n",
              "6  1  1  0   1  実刑   実刑\n",
              "7  1  0  2   1  実刑   実刑\n",
              "8  0  2  2   0  実刑   実刑\n",
              "9  1  0  2   1  実刑   実刑"
            ]
          },
          "metadata": {
            "tags": []
          },
          "execution_count": 10
        }
      ]
    },
    {
      "cell_type": "markdown",
      "metadata": {
        "id": "qvMgVha2aDd3"
      },
      "source": [
        "## 正解率"
      ]
    },
    {
      "cell_type": "code",
      "metadata": {
        "colab": {
          "base_uri": "https://localhost:8080/"
        },
        "id": "SBcjCi2WZZ2O",
        "outputId": "720fe493-6bea-4343-b1d5-b2dd30468c99"
      },
      "source": [
        "print(\"正解率 {:3.2f}　％\".format((df['実判決'] != df['判決予測']).value_counts()[False]*100/len(df)))"
      ],
      "execution_count": null,
      "outputs": [
        {
          "output_type": "stream",
          "text": [
            "正解率 100.00　％\n"
          ],
          "name": "stdout"
        }
      ]
    },
    {
      "cell_type": "markdown",
      "metadata": {
        "id": "qW3RcZZ8aHhk"
      },
      "source": [
        "訓練データとテストデータが同じなので、正解率100%は当然です。実際に決定木を使用するシーンでは、訓練に使わなかったデータでの正解率が重要です。"
      ]
    },
    {
      "cell_type": "code",
      "metadata": {
        "id": "0IuSaV1LZmZ0"
      },
      "source": [
        ""
      ],
      "execution_count": null,
      "outputs": []
    }
  ]
}