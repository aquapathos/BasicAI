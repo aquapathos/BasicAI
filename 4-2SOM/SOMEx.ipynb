{
  "nbformat": 4,
  "nbformat_minor": 0,
  "metadata": {
    "kernelspec": {
      "display_name": "Python 3",
      "language": "python",
      "name": "python3"
    },
    "language_info": {
      "codemirror_mode": {
        "name": "ipython",
        "version": 3
      },
      "file_extension": ".py",
      "mimetype": "text/x-python",
      "name": "python",
      "nbconvert_exporter": "python",
      "pygments_lexer": "ipython3",
      "version": "3.7.3"
    },
    "colab": {
      "name": "SOMEx.ipynb",
      "provenance": [],
      "collapsed_sections": []
    }
  },
  "cells": [
    {
      "cell_type": "markdown",
      "metadata": {
        "id": "seBDdFb5ISQE"
      },
      "source": [
        "# 自己組織化マップとクラスタリングによるデータ分析\n",
        "\n",
        "## 注意１\n",
        "\n",
        "まず、レポート課題に添付されたサンプルデータを使って、SOMとK-means法を使ったデータ解析法を理解してください。これはあくまでも練習です。サンプルデータについては、クラスタ分割の結果（画像）だけ報告してください。分析は不用です。\n",
        "\n",
        "<font color=red size=4>メインの課題は、自分で解析のテーマを設定し、自分で用意したデータデータ分析することです。</font>\n",
        "\n",
        "\n",
        "## 注意２\n",
        "Google Colaboratory 用のプログラムファイルです。Chrome以外のブラウザでは不具合が発生する可能性があります。（新EdgeはChromeエンジンなのでたぶん大丈夫)\n",
        " \n",
        "**（準備）**\n",
        "\n",
        "<img width=\"350\" alt=\"upload\" src=\"https://user-images.githubusercontent.com/5820803/93283416-75a07480-f80b-11ea-8bda-16f31849433f.png\">\n",
        "\n",
        "左のファイルツリーのエリアに、**jinkoSJ.csv** と **kendata.csv** をアップロードし、プログラムのセルを実行していってください。\n",
        "\n",
        "<font color=red>自分で作ったデータで実行する場合は、そのファイルをアップロードし、プログラム中の jinkoSJ.csv という部分を自分のデータのファイル名に書き換えて実行してください。もしくは、ファイル名の方を合わせてもかまいません。</font>"
      ]
    },
    {
      "cell_type": "code",
      "metadata": {
        "id": "R63CdTxoBq-x"
      },
      "source": [
        "!pip install japanize-matplotlib"
      ],
      "execution_count": null,
      "outputs": []
    },
    {
      "cell_type": "markdown",
      "metadata": {
        "id": "oAvlmSpJ-NW-"
      },
      "source": [
        "# 自己組織化マップ（SOM)＆クラスタリング"
      ]
    },
    {
      "cell_type": "code",
      "metadata": {
        "id": "RVQKHn0x-NXA"
      },
      "source": [
        "import numpy as np\n",
        "import pandas as pd\n",
        "import matplotlib.pyplot as plt\n",
        "import japanize_matplotlib # <- Windows の場合、この行の先頭に # を入力してコメントアウト\n",
        "# %matplotlib inline\n",
        "# import PIL.Image\n",
        "# import cv2"
      ],
      "execution_count": null,
      "outputs": []
    },
    {
      "cell_type": "markdown",
      "metadata": {
        "id": "04d2FtPL-NXC"
      },
      "source": [
        "# 都道府県データの自己組織化マップ\n",
        "\n",
        "[都道府県データランキング](http://uub.jp/pdr/)\n",
        "\n",
        "上のデータランキングのデータを適当に組合せて、kendata.csv というデータを作成した。ここでは説明のために、さらに人口、面積、人口密度の３つの項目だけを抜き出したデータ、<font color='red'>jinkoSJ.csv</font> を使ってプログラムの一連の流れを説明する。 生データは一番下にしてある。各自が試す場合は項目は３つではなくもっとたくさん用いよ。\n",
        "\n",
        "\n",
        "# １．データの読み込み"
      ]
    },
    {
      "cell_type": "code",
      "metadata": {
        "id": "4-Qis5oE-NXD",
        "colab": {
          "base_uri": "https://localhost:8080/",
          "height": 202
        },
        "outputId": "ab4ab732-72da-4c7d-f308-6cd95c17123c"
      },
      "source": [
        "data = pd.read_csv(\"jinkoSJ.csv\", delimiter=\",\", encoding=\"cp932\")  # Windows版 Excel の csv ファイルの場合\n",
        "#data = pd.read_csv(\"kendata.csv\", delimiter=\",\", encoding=\"utf-8\")  # Unicodeの場合　(macOS,Linux はUnicode)\n",
        "data.head() # 上から５データ分表示"
      ],
      "execution_count": null,
      "outputs": [
        {
          "output_type": "execute_result",
          "data": {
            "text/html": [
              "<div>\n",
              "<style scoped>\n",
              "    .dataframe tbody tr th:only-of-type {\n",
              "        vertical-align: middle;\n",
              "    }\n",
              "\n",
              "    .dataframe tbody tr th {\n",
              "        vertical-align: top;\n",
              "    }\n",
              "\n",
              "    .dataframe thead th {\n",
              "        text-align: right;\n",
              "    }\n",
              "</style>\n",
              "<table border=\"1\" class=\"dataframe\">\n",
              "  <thead>\n",
              "    <tr style=\"text-align: right;\">\n",
              "      <th></th>\n",
              "      <th>都道府県</th>\n",
              "      <th>人口</th>\n",
              "      <th>面積</th>\n",
              "      <th>人口密度</th>\n",
              "    </tr>\n",
              "  </thead>\n",
              "  <tbody>\n",
              "    <tr>\n",
              "      <th>0</th>\n",
              "      <td>東京都</td>\n",
              "      <td>13636222</td>\n",
              "      <td>2191.00</td>\n",
              "      <td>6223.74</td>\n",
              "    </tr>\n",
              "    <tr>\n",
              "      <th>1</th>\n",
              "      <td>神奈川県</td>\n",
              "      <td>9145572</td>\n",
              "      <td>2415.92</td>\n",
              "      <td>3785.54</td>\n",
              "    </tr>\n",
              "    <tr>\n",
              "      <th>2</th>\n",
              "      <td>大阪府</td>\n",
              "      <td>8837812</td>\n",
              "      <td>1905.14</td>\n",
              "      <td>4638.93</td>\n",
              "    </tr>\n",
              "    <tr>\n",
              "      <th>3</th>\n",
              "      <td>愛知県</td>\n",
              "      <td>7507691</td>\n",
              "      <td>5172.90</td>\n",
              "      <td>1451.35</td>\n",
              "    </tr>\n",
              "    <tr>\n",
              "      <th>4</th>\n",
              "      <td>埼玉県</td>\n",
              "      <td>7288081</td>\n",
              "      <td>3797.75</td>\n",
              "      <td>1919.05</td>\n",
              "    </tr>\n",
              "  </tbody>\n",
              "</table>\n",
              "</div>"
            ],
            "text/plain": [
              "   都道府県        人口       面積     人口密度\n",
              "0   東京都  13636222  2191.00  6223.74\n",
              "1  神奈川県   9145572  2415.92  3785.54\n",
              "2   大阪府   8837812  1905.14  4638.93\n",
              "3   愛知県   7507691  5172.90  1451.35\n",
              "4   埼玉県   7288081  3797.75  1919.05"
            ]
          },
          "metadata": {
            "tags": []
          },
          "execution_count": 23
        }
      ]
    },
    {
      "cell_type": "markdown",
      "metadata": {
        "id": "LPEg1CellJfh"
      },
      "source": [
        "## (解説)\n",
        "１行目　　Excel ファイルを読み込んで、 data というpandas配列に格納。（※）  \n",
        "３行目　　head() は先頭から５つ分を取り出す関数。読み込みが成功しているかどうかの確認\n",
        "\n",
        "<font size=2 color='red'> ※　自分でExcelデータを作る場合、データに日本語（全角文字）が含まれているときは、漢字コードに注意が必要です。Windows のExcel はShiftJISコード(cp932)がデフォルト、それ以外のOSはUnicodeとなっています。このサンプルプログラムでは、大多数の人が使うであろうWindows を前提にしています。</font>"
      ]
    },
    {
      "cell_type": "markdown",
      "metadata": {
        "id": "veQfNdns-NXF"
      },
      "source": [
        "# サンプルデータ（人口、面積、人口密度）\n",
        "読み込んだデータは、都道府県別の「人口、面積、人口密度」のデータである。\n",
        "\n",
        "このデータを用いて、自己組織化マップSOMを用いたデータ分析の例を示そう。\n",
        "\n",
        "SOMの解析では、都道府県名の欄をカットした数値部分のデータのみを用いる。これを　X　という配列として抽出する。\n"
      ]
    },
    {
      "cell_type": "code",
      "metadata": {
        "id": "NzMoizDe-NXG",
        "colab": {
          "base_uri": "https://localhost:8080/",
          "height": 202
        },
        "outputId": "7c15b81c-631e-49c7-da94-54055ad69bab"
      },
      "source": [
        "dataindex = data.columns[1:] # ２列目以降のカラムインデックス\n",
        "pref = data['都道府県'] # 都道府県名のリスト（１列目だけ取り出して pref に代入）\n",
        "X = data[dataindex] # ２列目以降を抜き出してXとする。これがSOMの処理対象\n",
        "X.head()"
      ],
      "execution_count": null,
      "outputs": [
        {
          "output_type": "execute_result",
          "data": {
            "text/html": [
              "<div>\n",
              "<style scoped>\n",
              "    .dataframe tbody tr th:only-of-type {\n",
              "        vertical-align: middle;\n",
              "    }\n",
              "\n",
              "    .dataframe tbody tr th {\n",
              "        vertical-align: top;\n",
              "    }\n",
              "\n",
              "    .dataframe thead th {\n",
              "        text-align: right;\n",
              "    }\n",
              "</style>\n",
              "<table border=\"1\" class=\"dataframe\">\n",
              "  <thead>\n",
              "    <tr style=\"text-align: right;\">\n",
              "      <th></th>\n",
              "      <th>人口</th>\n",
              "      <th>面積</th>\n",
              "      <th>人口密度</th>\n",
              "    </tr>\n",
              "  </thead>\n",
              "  <tbody>\n",
              "    <tr>\n",
              "      <th>0</th>\n",
              "      <td>13636222</td>\n",
              "      <td>2191.00</td>\n",
              "      <td>6223.74</td>\n",
              "    </tr>\n",
              "    <tr>\n",
              "      <th>1</th>\n",
              "      <td>9145572</td>\n",
              "      <td>2415.92</td>\n",
              "      <td>3785.54</td>\n",
              "    </tr>\n",
              "    <tr>\n",
              "      <th>2</th>\n",
              "      <td>8837812</td>\n",
              "      <td>1905.14</td>\n",
              "      <td>4638.93</td>\n",
              "    </tr>\n",
              "    <tr>\n",
              "      <th>3</th>\n",
              "      <td>7507691</td>\n",
              "      <td>5172.90</td>\n",
              "      <td>1451.35</td>\n",
              "    </tr>\n",
              "    <tr>\n",
              "      <th>4</th>\n",
              "      <td>7288081</td>\n",
              "      <td>3797.75</td>\n",
              "      <td>1919.05</td>\n",
              "    </tr>\n",
              "  </tbody>\n",
              "</table>\n",
              "</div>"
            ],
            "text/plain": [
              "         人口       面積     人口密度\n",
              "0  13636222  2191.00  6223.74\n",
              "1   9145572  2415.92  3785.54\n",
              "2   8837812  1905.14  4638.93\n",
              "3   7507691  5172.90  1451.35\n",
              "4   7288081  3797.75  1919.05"
            ]
          },
          "metadata": {
            "tags": []
          },
          "execution_count": 24
        }
      ]
    },
    {
      "cell_type": "markdown",
      "metadata": {
        "id": "dqJ638vA-NXH"
      },
      "source": [
        "# ２．標準化\n",
        "データ X は項目ごとにデータの粒度が違うので**標準化**、もしくは**正規化**して使う。\n",
        "\n",
        "**「標準化」**とは、与えられたデータを平均値が０、標準偏差が１となるように線形変換することである。また、**「正規化」**とは、与えられたデータをちょうど０～１の範囲に収まるように線形変換することをいう。\n",
        "\n",
        "Pythonには標準化や正規化のためのクラスライブラリが用意されているので、簡単に標準化、正規化が実行できる。\n",
        "\n",
        "ここでは**標準化**を用いることにする。\n",
        "\n",
        "## 標準化"
      ]
    },
    {
      "cell_type": "code",
      "metadata": {
        "id": "FDJv5z8z-NXI",
        "colab": {
          "base_uri": "https://localhost:8080/",
          "height": 104
        },
        "outputId": "1dfd359a-6f1e-4e55-9b2e-568d0a38c00d"
      },
      "source": [
        "from sklearn.preprocessing import StandardScaler # 標準化のライブラリ\n",
        "sc = StandardScaler() # 標準化作用素の生成\n",
        "stdX = sc.fit_transform(X) # 標準化の実行\n",
        "#  stdX には X が標準化されたデータが格納される。この操作で pandas dataframe から 普通の numpy 配列に変わる。\n",
        "\n",
        "stdX[0:5] # 上から５つ表示"
      ],
      "execution_count": null,
      "outputs": [
        {
          "output_type": "execute_result",
          "data": {
            "text/plain": [
              "array([[ 4.02824661, -0.52808322,  4.68663368],\n",
              "       [ 2.37395522, -0.50740667,  2.63428102],\n",
              "       [ 2.26058083, -0.5543619 ,  3.35262129],\n",
              "       [ 1.77058323, -0.25396163,  0.6694787 ],\n",
              "       [ 1.68968204, -0.38037711,  1.06316475]])"
            ]
          },
          "metadata": {
            "tags": []
          },
          "execution_count": 25
        }
      ]
    },
    {
      "cell_type": "markdown",
      "metadata": {
        "id": "xOCThsPh-NXK"
      },
      "source": [
        "# ３．SOM のメソッドを定義"
      ]
    },
    {
      "cell_type": "code",
      "metadata": {
        "id": "Trd40F1S-NXK"
      },
      "source": [
        "import scipy.stats as st\n",
        "# ガウス分布\n",
        "def gkern(kernlen=21, nsig=3):\n",
        "    interval = (2*nsig+1.)/(kernlen)\n",
        "    x = np.linspace(-nsig-interval/2., nsig+interval/2., kernlen+1)\n",
        "    kern1d = np.diff(st.norm.cdf(x))\n",
        "    kernel_raw = np.sqrt(np.outer(kern1d, kern1d))\n",
        "    kernel = kernel_raw/kernel_raw.sum()\n",
        "    return kernel\n",
        "\n",
        "# 自己組織化マップ SOM を生成する　　　　M :２次元配置されたニューロンの重み配列    x : 入力データ,  alpha：学習係数\n",
        "def organize_som(M, x, alpha=0.3, ksize=3):\n",
        "    gk = gkern(2*ksize+1,ksize)/np.max(gkern(2*ksize+1,ksize))\n",
        "    mini, minj = get_winner(M,x) # マップMに配置されたニューロンの中で、その重みがもっとも x に近いニューロンの座標\n",
        "    dim = x.shape[0] # 入力の次数\n",
        "    # Mよりも上下左右にksize分広げた作業用マップを準備\n",
        "    MM = np.zeros((M.shape[0]+2*ksize, M.shape[1]+2*ksize,dim),np.float64)\n",
        "    MM[ksize:-ksize,ksize:-ksize]=M\n",
        "    #  勝者の近傍（ksize=3 なら7x7）の範囲を与えられたデータに近づける\n",
        "    for i in range(-ksize,ksize+1): \n",
        "        for j in range(-ksize,ksize+1):\n",
        "            try:\n",
        "                MM[ksize+mini+i,ksize+minj+j] += alpha * (x - MM[ksize+mini+i,ksize+minj+j])*gk[ksize+i,ksize+j]\n",
        "            except:\n",
        "                pass\n",
        "    return MM[ksize:-ksize,ksize:-ksize]\n",
        "\n",
        "# 境界の描画\n",
        "def plotBoundary(labels, somcenters,cmap='Pastel1'):\n",
        "    row = labels.shape[0]\n",
        "    col = labels.shape[1]\n",
        "    \n",
        "    YY,XX = np.mgrid[0:row, 0:col] # make a grid    \n",
        "    \n",
        "    plt.pcolormesh(XX, YY, labels, cmap=cmap,zorder=-10) \n",
        "            \n",
        "    for index, p in enumerate(somcenters):\n",
        "        plt.text(p[1],p[0],str(index),ha='center', va='center',\n",
        "           bbox=dict(facecolor='white', alpha=0.3, lw=0))\n",
        "\n",
        "# Map M において、ベクトルｘともっとも近い重みベクトルを持つノードの座標を得る\n",
        "def get_winner(M,x):\n",
        "    col =  M.shape[1]\n",
        "    # row =  M.shape[0]\n",
        "    min_i = np.argmin(((M-x)**2).sum(axis=2)) \n",
        "    mini = min_i // col # argmin は1次元化した番号が返ってくるので　2次元化\n",
        "    minj = min_i % col\n",
        "    return mini, minj\n"
      ],
      "execution_count": null,
      "outputs": []
    },
    {
      "cell_type": "markdown",
      "metadata": {
        "id": "R32DnIjV-NXM"
      },
      "source": [
        "# ４．SOMのメインプログラム"
      ]
    },
    {
      "cell_type": "code",
      "metadata": {
        "scrolled": false,
        "id": "Ejl0_28t-NXM"
      },
      "source": [
        "# メインプログラム\n",
        "row = 20  # マップの高さ\n",
        "col = 30 # マップの幅\n",
        "learntime = 256# 繰り返し学習回数\n",
        "alpha = 0.3 # 学習係数\n",
        "\n",
        "W = np.random.random([row,col,len(dataindex)]) # Map 用の配列を生成し、初期の重みをランダムに設定\n",
        "\n",
        "for time in range(learntime):\n",
        "    for color in stdX:\n",
        "        W=organize_som(W, color,alpha=alpha,ksize=5) # 競合学習の実行\n"
      ],
      "execution_count": null,
      "outputs": []
    },
    {
      "cell_type": "markdown",
      "metadata": {
        "id": "SEHUrwfF-NXO"
      },
      "source": [
        "ここでは、マップを構成する競合層ニューロンを、20ｘ30個としている。\n",
        "個々のニューロンのシナプスの数は入力データの次元で決まる。サンプルデータの場合は都道府県データから３項目を取り出して使っているので入力は３次元ベクトル。よって入力層ニューロンは３個、競合層の６００個のニューロンはそれぞれ３つずつ重みデータを持つことになる。\n",
        "\n",
        "<img width=\"491\" alt=\"重み\" src=\"https://user-images.githubusercontent.com/5820803/93285327-9074e800-f80f-11ea-807d-af44210c790d.png\">\n",
        "\n",
        "SOMフォルダにある kendata.csv には８項目からなるデータが収められている。そちらを使う場合は、各データが８次元なので、重みは８つずつとなる。シナプスの数は、20×30×８となる。計算時間は次元数やマップのサイズに比例する。\n",
        "\n",
        "競合学習が終わると、20ｘ30＝600個の3次元データが得られる。この600個のデータをk-means法でクラスタリングし，各クラスタにカラーを割り当てて表示することにしよう．\n",
        "\n",
        "\n",
        "# ５．クラスタリング\n",
        "## ５．１　クラスタリングのプログラム\n"
      ]
    },
    {
      "cell_type": "code",
      "metadata": {
        "id": "S66upUP9-NXO"
      },
      "source": [
        "from sklearn.cluster import KMeans\n",
        "\n",
        "def kmeans(M,k,itr):   # 配列Mの要素を対象として k-means 法でクラスタリングを実行する　　\n",
        "    row = M.shape[0]   # k クラスタ数、 itr 繰り返し処理回数\n",
        "    col = M.shape[1]\n",
        "    ch = M.shape[2]\n",
        "    data = M.reshape(col*row,ch)\n",
        "    km = KMeans(n_clusters=k,init='random',n_init=1,max_iter=itr,random_state=1)\n",
        "    labelimage = (km.fit(data).labels_).reshape(row,col)\n",
        "    centers = km.cluster_centers_\n",
        "    return labelimage, centers \n",
        "\n",
        "# 都道府県名の描画\n",
        "def writePref(W, pref, data, dataindex):\n",
        "     for index, pname in enumerate(pref):\n",
        "        d1 =  np.array(data[index])\n",
        "        (y,x)= get_winner(W,d1)\n",
        "        plt.text(x,y,pref.loc[index],ha='center', va='center',\n",
        "           bbox=dict(facecolor='white', alpha=0.2, lw=0))   "
      ],
      "execution_count": null,
      "outputs": []
    },
    {
      "cell_type": "markdown",
      "metadata": {
        "id": "tai_Jf6evsng"
      },
      "source": [
        "↑このプログラムは定義だけなので実行しても何も表示されません。しかし、実行は必要です。"
      ]
    },
    {
      "cell_type": "markdown",
      "metadata": {
        "id": "xD5xCgu5-NXQ"
      },
      "source": [
        "# 5.2　クラスタリング実験\n",
        "\n",
        "## 5.2.1 実験前の考察\n",
        "\n",
        "#### データについての考察\n",
        "　jinkoSJ.csv というデータは、「人口」「人口密度」「面積」の３項目からなる。「人口密度」は「人口」と「面積」のデータから計算できるデータである。深いネットワークであれば階層を経ることで「人口」と「面積」だけでも、中間層ニューロンが「人口密度」の役割を果させることができるので「人口密度」は不要かもしれないが、今回用いるニューラルネットワークは入力層が直接競合層と結びつけられた基本的な構成なので、「人口密度」のデータがなければ、「人口密度」が基準となるようなクラスタは発生しないであろう。\n",
        " \n",
        "#### クラスタ数ごとの、生成されるクラスタの予想シナリオ\n",
        "\n",
        "#### （１）２クラスタ\n",
        "2クラスタの場合、次のようなクラスタ分割の可能性が予想される。\n",
        "- （予想シナリオ１） 北海道の面積が突出しているので、北海道とそれ以外というクラスタ分割が行われる。\n",
        "- （予想シナリオ２）人口または人口密度基準で、東京、神奈川、大阪などの人口の密集した大都会を擁する都道府県が他と分離される\n",
        "\n",
        "#### （２）３クラスタ\n",
        "３クラスタの場合、次のようなクラスタ分割の可能性が予想される。\n",
        "- （予想シナリオ１）2クラスタにおける２つの予想が組み合わさって、大都市クラスタ、北海道、その他という3クラスタが発生する。\n",
        "- （予想シナリオ２）（１）超大都市圏（東京、神奈川、大阪）、（２）埼玉、神戸、愛知などの大都市圏（３）その他の地方とで3クラスタとなる。\n",
        "\n",
        "## 5.2.2 実験\n",
        "### (1) データをk-means法で２分割"
      ]
    },
    {
      "cell_type": "code",
      "metadata": {
        "id": "X_KaQGL6-NXR",
        "colab": {
          "base_uri": "https://localhost:8080/",
          "height": 236
        },
        "outputId": "22595426-ffbe-46bf-9d9a-47c0b93bc039"
      },
      "source": [
        "# 2-means\n",
        "labelimage, centers = kmeans(W,2,100)\n",
        "somcenters = [get_winner(W,c) for c in centers]\n",
        "# plt.rcParams['font.family'] = 'HGMaruGothicMPRO'　# ← ローカルのWindowsのpythondで実行する場合\n",
        "fig = plt.figure(figsize=(10,6))\n",
        "plotBoundary(labelimage, somcenters)\n",
        "writePref(W,pref,stdX,dataindex)\n",
        "plt.savefig(\"som2.png\");"
      ],
      "execution_count": null,
      "outputs": [
        {
          "output_type": "error",
          "ename": "NameError",
          "evalue": "ignored",
          "traceback": [
            "\u001b[0;31m---------------------------------------------------------------------------\u001b[0m",
            "\u001b[0;31mNameError\u001b[0m                                 Traceback (most recent call last)",
            "\u001b[0;32m<ipython-input-1-d89a7e86d1d1>\u001b[0m in \u001b[0;36m<module>\u001b[0;34m()\u001b[0m\n\u001b[1;32m      1\u001b[0m \u001b[0;31m# 2-means\u001b[0m\u001b[0;34m\u001b[0m\u001b[0;34m\u001b[0m\u001b[0;34m\u001b[0m\u001b[0m\n\u001b[0;32m----> 2\u001b[0;31m \u001b[0mlabelimage\u001b[0m\u001b[0;34m,\u001b[0m \u001b[0mcenters\u001b[0m \u001b[0;34m=\u001b[0m \u001b[0mkmeans\u001b[0m\u001b[0;34m(\u001b[0m\u001b[0mW\u001b[0m\u001b[0;34m,\u001b[0m\u001b[0;36m2\u001b[0m\u001b[0;34m,\u001b[0m\u001b[0;36m100\u001b[0m\u001b[0;34m)\u001b[0m\u001b[0;34m\u001b[0m\u001b[0;34m\u001b[0m\u001b[0m\n\u001b[0m\u001b[1;32m      3\u001b[0m \u001b[0msomcenters\u001b[0m \u001b[0;34m=\u001b[0m \u001b[0;34m[\u001b[0m\u001b[0mget_winner\u001b[0m\u001b[0;34m(\u001b[0m\u001b[0mW\u001b[0m\u001b[0;34m,\u001b[0m\u001b[0mc\u001b[0m\u001b[0;34m)\u001b[0m \u001b[0;32mfor\u001b[0m \u001b[0mc\u001b[0m \u001b[0;32min\u001b[0m \u001b[0mcenters\u001b[0m\u001b[0;34m]\u001b[0m\u001b[0;34m\u001b[0m\u001b[0;34m\u001b[0m\u001b[0m\n\u001b[1;32m      4\u001b[0m \u001b[0;31m# plt.rcParams['font.family'] = 'HGMaruGothicMPRO'　# ← ローカルのWindowsのpythondで実行する場合\u001b[0m\u001b[0;34m\u001b[0m\u001b[0;34m\u001b[0m\u001b[0;34m\u001b[0m\u001b[0m\n\u001b[1;32m      5\u001b[0m \u001b[0mfig\u001b[0m \u001b[0;34m=\u001b[0m \u001b[0mplt\u001b[0m\u001b[0;34m.\u001b[0m\u001b[0mfigure\u001b[0m\u001b[0;34m(\u001b[0m\u001b[0mfigsize\u001b[0m\u001b[0;34m=\u001b[0m\u001b[0;34m(\u001b[0m\u001b[0;36m10\u001b[0m\u001b[0;34m,\u001b[0m\u001b[0;36m6\u001b[0m\u001b[0;34m)\u001b[0m\u001b[0;34m)\u001b[0m\u001b[0;34m\u001b[0m\u001b[0;34m\u001b[0m\u001b[0m\n",
            "\u001b[0;31mNameError\u001b[0m: name 'kmeans' is not defined"
          ]
        }
      ]
    },
    {
      "cell_type": "markdown",
      "metadata": {
        "id": "3C-h7f6l-NXS"
      },
      "source": [
        "# （実験結果についての考察の例）\n",
        "\n",
        "><img width=\"377\" alt=\"dample\" src=\"https://user-images.githubusercontent.com/5820803/93286733-da130200-f812-11ea-9eb8-b9dc7edd7a53.png\">    \n",
        "       　　　　　図〇〇　２クラスタ分割の結果    \n",
        " *　２クラスタ分割の結果を図〇〇に示す。結果は予想シナリオ２に近いが、東京、大阪、神奈川に加えて、愛知、埼玉が同じクラスタとなり、他の都道府県と分離される結果となった。愛知は東京圏、大阪圏につぐ中部地方の中核であり、３大都市圏が同じクラスタとしてまとめられた形である。また、埼玉県は神奈川と同じで首都圏を構成する県であるということがわかる*。\n",
        "\n",
        "\n",
        "\n",
        "\n",
        "\n",
        "\n",
        "**【注意】** 結果は乱数の初期値によりさまざまに変化する。何度かやってみればいくつかのパターンが現れるので試してみるとよい。なお、やり直す場合は「４　SOMのメインプログラム」のところから、再実行する。defだけの箇所は飛ばしていい。\n",
        "\n",
        "<img width=\"634\" alt=\"result\" src=\"https://user-images.githubusercontent.com/5820803/93287174-ce740b00-f813-11ea-9e99-e21deed09aee.png\">\n",
        "\n",
        "\n",
        "- シナリオ１の予想通りのケース\n",
        "- シナリオ２の予想通りのケース\n",
        "- シナリオ１と２が混ざり大都市に北海道が加わるケース\n",
        "- 大都市クラスタに、福岡、兵庫なども加わるケース\n",
        "など\n"
      ]
    },
    {
      "cell_type": "markdown",
      "metadata": {
        "id": "4Efv_iEF-NXT"
      },
      "source": [
        "\n",
        "# （2）データをk-means法で3分割\n"
      ]
    },
    {
      "cell_type": "code",
      "metadata": {
        "id": "5wXH2KBy-NXT"
      },
      "source": [
        "# 3-means\n",
        "labelimage, centers = kmeans(W,3,100)\n",
        "somcenters = [get_winner(W,c) for c in centers]\n",
        "fig = plt.figure(figsize=(10,6))\n",
        "plotBoundary(labelimage, somcenters)\n",
        "writePref(W,pref,stdX,dataindex)\n",
        "plt.savefig(\"som3.png\");"
      ],
      "execution_count": null,
      "outputs": []
    },
    {
      "cell_type": "markdown",
      "metadata": {
        "id": "bbz6sC7C-NXX"
      },
      "source": [
        "# （実験結果についての考察の例）\n",
        "結果は3クラスタにおける（予想シナリオ１）の予想通りであるといえる。"
      ]
    },
    {
      "cell_type": "markdown",
      "metadata": {
        "id": "d7c1xDME-NXY"
      },
      "source": [
        "# （3）データをk-means法で5分割"
      ]
    },
    {
      "cell_type": "code",
      "metadata": {
        "id": "XE_O2lmv-NXY"
      },
      "source": [
        "# 5-means\n",
        "labelimage, centers = kmeans(W,5,100)\n",
        "somcenters = [get_winner(W,c) for c in centers]\n",
        "fig = plt.figure(figsize=(10,6))\n",
        "plotBoundary(labelimage, somcenters)\n",
        "writePref(W,pref,stdX,dataindex)\n",
        "plt.savefig(\"som5.png\");"
      ],
      "execution_count": null,
      "outputs": []
    },
    {
      "cell_type": "markdown",
      "metadata": {
        "id": "_BiR3yiy-NXa"
      },
      "source": [
        "# （実験結果についての考察の例）\n",
        "\n",
        "東京、大阪、神奈川という超大都市が大都市クラスタから分離し、残りの埼玉と愛知と、それらに次ぐ人口過密県である、千葉、兵庫、福岡が加わったクラスタが形成されたことがわかる。また、その他の県が２つのクラスタに分離しているが、これは面積で分離された可能性が高い。"
      ]
    },
    {
      "cell_type": "markdown",
      "metadata": {
        "id": "1Wq5Clds-NXb"
      },
      "source": [
        "# （4）データをk-means法で8分割"
      ]
    },
    {
      "cell_type": "code",
      "metadata": {
        "id": "8Neubu3f-NXb"
      },
      "source": [
        "# 5-means\n",
        "labelimage, centers = kmeans(W,8,100)\n",
        "somcenters = [get_winner(W,c) for c in centers]\n",
        "fig = plt.figure(figsize=(10,6))\n",
        "plotBoundary(labelimage, somcenters)\n",
        "writePref(W,pref,stdX,dataindex)\n",
        "plt.savefig(\"som8.png\");"
      ],
      "execution_count": null,
      "outputs": []
    },
    {
      "cell_type": "markdown",
      "metadata": {
        "id": "mGvMyW1u9MOi"
      },
      "source": [
        "## おまけの考察\n",
        "### ニューヨーク州、香港、ハワイ州がどの県に近いかをプロット"
      ]
    },
    {
      "cell_type": "code",
      "metadata": {
        "id": "BbE1TRkD9Rh7",
        "colab": {
          "base_uri": "https://localhost:8080/",
          "height": 395
        },
        "outputId": "94c46c0b-65ca-414d-a30d-dd42322b35ae"
      },
      "source": [
        "newyork = sc.transform([[19541453,1413,19541453/1413]]) # ニューヨークのデータ\n",
        "ny,nx = get_winner(W,newyork) # ニューヨークのデータに反応するニューロン位置\n",
        "hongkong = sc.transform([[7392000,1106,7392000/1106]]) # 香港のデータ\n",
        "hoy,hox = get_winner(W,hongkong) # 香港のデータに反応するニューロン位置\n",
        "hawaii = sc.transform([[1428557,16634,1428557/16634]]) # ハワイのデータ\n",
        "hwy,hwx = get_winner(W,hawaii) # ハワイのデータに反応するニューロン位置\n",
        "\n",
        "labelimage, centers = kmeans(W,5,100)\n",
        "somcenters = [get_winner(W,c) for c in centers]\n",
        "# plt.rcParams['font.family'] = 'HGMaruGothicMPRO'　# ← Windows の場合この行の'# 'を削除\n",
        "fig = plt.figure(figsize=(10,6))\n",
        "plotBoundary(labelimage, somcenters)\n",
        "writePref(W,pref,stdX,dataindex)\n",
        "plt.scatter(nx,ny,s=500,marker='*',color='red') # ニューヨークは☆印\n",
        "plt.scatter(hox,hoy,s=500,marker='x',color='blue') # 香港はX印\n",
        "plt.scatter(hwx,hwy,s=500,marker='+',color='green') # ハワイは＋印"
      ],
      "execution_count": null,
      "outputs": [
        {
          "output_type": "execute_result",
          "data": {
            "text/plain": [
              "<matplotlib.collections.PathCollection at 0x7fa5a5753160>"
            ]
          },
          "metadata": {
            "tags": []
          },
          "execution_count": 63
        },
        {
          "output_type": "display_data",
          "data": {
            "image/png": "[encoded data removed]",
            "text/plain": [
              "<Figure size 720x432 with 1 Axes>"
            ]
          },
          "metadata": {
            "tags": [],
            "needs_background": "light"
          }
        }
      ]
    },
    {
      "cell_type": "markdown",
      "metadata": {
        "id": "nnMyDiluCEOQ"
      },
      "source": [
        "この実験により、\n",
        "1. ニューヨーク州は日本で言えば東京都と似た人口、面積をもつ\n",
        "2. 香港は日本で言えば東京都、大阪府、神奈川県と、人口、面積において類似しており、大阪府に近い。\n",
        "3. ハワイは人口や面積、人口密度という観点で見れば、日本の東北地方に近い。\n",
        "\n",
        "おまけ、としたが、これがSOMの本来の使い方の一つである。"
      ]
    },
    {
      "cell_type": "markdown",
      "metadata": {
        "id": "WDKiNHQR-NXd"
      },
      "source": [
        "# 付録　使用したデータ"
      ]
    },
    {
      "cell_type": "code",
      "metadata": {
        "id": "mkr3nIVX-NXd",
        "colab": {
          "base_uri": "https://localhost:8080/",
          "height": 867
        },
        "outputId": "c4ea64bb-aade-405f-9a18-ae90b99f8501"
      },
      "source": [
        "with open(\"jinkoSJ.csv\", encoding=\"cp932\") as f:\n",
        "    print(f.read())"
      ],
      "execution_count": null,
      "outputs": [
        {
          "output_type": "stream",
          "text": [
            "都道府県,人口,面積,人口密度\n",
            "東京都,13636222,2191,6223.74\n",
            "神奈川県,9145572,2415.92,3785.54\n",
            "大阪府,8837812,1905.14,4638.93\n",
            "愛知県,7507691,5172.9,1451.35\n",
            "埼玉県,7288081,3797.75,1919.05\n",
            "千葉県,6240408,5157.64,1209.93\n",
            "兵庫県,5520575,8400.93,657.14\n",
            "北海道,5352306,78420.77,68.25\n",
            "福岡県,5106707,4986.4,1024.13\n",
            "静岡県,3686945,7777.43,474.06\n",
            "茨城県,2907262,6097.12,476.83\n",
            "広島県,2838494,8479.47,334.75\n",
            "京都府,2605731,4612.19,564.97\n",
            "宮城県,2329431,7282.22,319.88\n",
            "新潟県,2285856,12584.18,181.65\n",
            "長野県,2087997,13561.56,153.96\n",
            "岐阜県,2022785,10621.29,190.45\n",
            "栃木県,1968425,6408.09,307.18\n",
            "群馬県,1966381,6362.28,309.07\n",
            "岡山県,1915401,7114.47,269.23\n",
            "福島県,1900106,13783.74,137.85\n",
            "三重県,1807611,5774.41,313.04\n",
            "熊本県,1774538,7409.44,239.5\n",
            "鹿児島県,1637073,9186.99,178.19\n",
            "沖縄県,1439913,2281.14,631.23\n",
            "滋賀県,1413079,4017.38,351.74\n",
            "山口県,1393904,6112.34,228.05\n",
            "愛媛県,1374881,5676.19,242.22\n",
            "長崎県,1366514,4132.2,330.7\n",
            "奈良県,1356950,3690.94,367.64\n",
            "青森県,1293619,9645.56,134.12\n",
            "岩手県,1268083,15275.01,83.02\n",
            "大分県,1159634,6340.74,182.89\n",
            "石川県,1150818,4186.09,274.91\n",
            "山形県,1113029,9323.15,119.38\n",
            "宮崎県,1095959,7735.31,141.68\n",
            "富山県,1061393,4247.61,249.88\n",
            "秋田県,1009705,11637.52,86.76\n",
            "香川県,972156,1876.73,518.01\n",
            "和歌山県,953924,4724.71,201.9\n",
            "山梨県,829884,4465.27,185.85\n",
            "佐賀県,828388,2440.68,339.41\n",
            "福井県,782232,4190.49,186.67\n",
            "徳島県,750210,4146.79,180.91\n",
            "高知県,720907,7103.93,101.48\n",
            "島根県,689817,6708.24,102.83\n",
            "鳥取県,569579,3507.13,162.41\n",
            "\n"
          ],
          "name": "stdout"
        }
      ]
    },
    {
      "cell_type": "code",
      "metadata": {
        "id": "UgO7ecOn-NXf",
        "colab": {
          "base_uri": "https://localhost:8080/",
          "height": 849
        },
        "outputId": "7a171295-7658-4f7d-e039-245d892c82fa"
      },
      "source": [
        "with open(\"kendata.csv\", encoding=\"utf-8\") as f:\n",
        "    print(f.read())"
      ],
      "execution_count": null,
      "outputs": [
        {
          "output_type": "stream",
          "text": [
            "﻿都道府県,人口,面積,人口密度,外国人,国籍不詳率,公務員,産業動物,小動物診療\n",
            "愛知県,7507691 ,5173 ,1451 ,160228 ,0.0103 ,1671 ,395 ,92 \n",
            "愛媛県,1374881 ,5676 ,242 ,7828 ,0.0058 ,397 ,123 ,34 \n",
            "茨城県,2907262 ,6097 ,477 ,40477 ,0.0022 ,1145 ,216 ,124 \n",
            "岡山県,1915401 ,7114 ,269 ,18476 ,0.0074 ,596 ,157 ,82 \n",
            "沖縄県,1439913 ,2281 ,631 ,7651 ,0.0057 ,450 ,177 ,58 \n",
            "岩手県,1268083 ,15275 ,83 ,5184 ,0.0019 ,628 ,137 ,162 \n",
            "岐阜県,2022785 ,10621 ,190 ,36879 ,0.0032 ,664 ,215 ,36 \n",
            "宮崎県,1095959 ,7735 ,142 ,3802 ,0.0034 ,652 ,226 ,209 \n",
            "宮城県,2329431 ,7282 ,320 ,12367 ,0.0043 ,653 ,199 ,125 \n",
            "京都府,2605731 ,4612 ,565 ,41855 ,0.0139 ,649 ,151 ,19 \n",
            "熊本県,1774538 ,7409 ,240 ,7624 ,0.0062 ,655 ,187 ,126 \n",
            "群馬県,1966381 ,6362 ,309 ,35458 ,0.0042 ,647 ,186 ,107 \n",
            "広島県,2838494 ,8479 ,335 ,31882 ,0.0118 ,717 ,205 ,63 \n",
            "香川県,972156 ,1877 ,518 ,6858 ,0.0079 ,343 ,104 ,29 \n",
            "高知県,720907 ,7104 ,101 ,3172 ,0.0042 ,259 ,91 ,19 \n",
            "佐賀県,828388 ,2441 ,339 ,3594 ,0.0027 ,255 ,98 ,34 \n",
            "埼玉県,7288081 ,3798 ,1919 ,88734 ,0.0071 ,1967 ,345 ,73 \n",
            "三重県,1807611 ,5774 ,313 ,32825 ,0.0051 ,455 ,149 ,39 \n",
            "山形県,1113029 ,9323 ,119 ,6158 ,0.0014 ,358 ,114 ,73 \n",
            "山口県,1393904 ,6112 ,228 ,12292 ,0.0017 ,480 ,140 ,37 \n",
            "山梨県,829884 ,4465 ,186 ,12484 ,0.0025 ,217 ,74 ,8 \n",
            "滋賀県,1413079 ,4017 ,352 ,21537 ,0.0090 ,414 ,85 ,62 \n",
            "鹿児島県,1637073 ,9187 ,178 ,5490 ,0.0044 ,1074 ,376 ,277 \n",
            "秋田県,1009705 ,11638 ,87 ,3356 ,0.0037 ,301 ,110 ,42 \n",
            "新潟県,2285856 ,12584 ,182 ,11914 ,0.0030 ,514 ,155 ,38 \n",
            "神奈川県,9145572 ,2416 ,3786 ,125686 ,0.0084 ,2715 ,514 ,41 \n",
            "青森県,1293619 ,9646 ,134 ,3688 ,0.0019 ,546 ,193 ,74 \n",
            "静岡県,3686945 ,7777 ,474 ,61610 ,0.0041 ,1120 ,245 ,44 \n",
            "石川県,1150818 ,4186 ,275 ,9768 ,0.0044 ,254 ,68 ,10 \n",
            "千葉県,6240408 ,5158 ,1210 ,78927 ,0.0183 ,1878 ,402 ,145 \n",
            "大阪府,8837812 ,1905 ,4639 ,164704 ,0.0130 ,1549 ,275 ,14 \n",
            "大分県,1159634 ,6341 ,183 ,8841 ,0.0037 ,436 ,147 ,48 \n",
            "長崎県,1366514 ,4132 ,331 ,6498 ,0.0040 ,490 ,192 ,64 \n",
            "長野県,2087997 ,13562 ,154 ,29841 ,0.0016 ,761 ,197 ,66 \n",
            "鳥取県,569579 ,3507 ,162 ,3596 ,0.0050 ,336 ,107 ,46 \n",
            "島根県,689817 ,6708 ,103 ,4779 ,0.0055 ,350 ,106 ,59 \n",
            "東京都,13636222 ,2191 ,6224 ,318829 ,0.0165 ,4025 ,535 ,42 \n",
            "徳島県,750210 ,4147 ,181 ,4076 ,0.0066 ,348 ,113 ,20 \n",
            "栃木県,1968425 ,6408 ,307 ,26429 ,0.0081 ,710 ,179 ,116 \n",
            "奈良県,1356950 ,3691 ,368 ,9255 ,0.0037 ,344 ,93 ,11 \n",
            "富山県,1061393 ,4248 ,250 ,11002 ,0.0031 ,270 ,104 ,16 \n",
            "福井県,782232 ,4190 ,187 ,10562 ,0.0054 ,163 ,45 ,8 \n",
            "福岡県,5106707 ,4986 ,1024 ,40317 ,0.0089 ,1084 ,299 ,46 \n",
            "福島県,1900106 ,13784 ,138 ,9347 ,0.0038 ,529 ,133 ,108 \n",
            "兵庫県,5520575 ,8401 ,657 ,79040 ,0.0088 ,1372 ,395 ,100 \n",
            "北海道,5352306 ,78421 ,68 ,18280 ,0.0010 ,3427 ,688 ,1080 \n",
            "和歌山県,953924 ,4725 ,202 ,4837 ,0.0052 ,230 ,81 ,3 \n"
          ],
          "name": "stdout"
        }
      ]
    },
    {
      "cell_type": "markdown",
      "metadata": {
        "collapsed": true,
        "id": "AKtUCvmM-NXh"
      },
      "source": [
        "# 日本語フォントに関する補足説明\n",
        "\n",
        "旧来、Windowsでは日本語フォントとして 「シフト JIS コード ＝ cp932」が用いられてきた。最近は世界共通のマルチバイトフォントの仕様である  Unicode にシフトしている。Macはほぼ完全にシフトしているし、python 言語も Unicode がデフォルトである。Windowsも Unicode が使われているが、日本語オフィス環境ではいまだ Shift JIS が用いられており、Excelでも、指定しなければシフトJISコードが使われる。\n",
        "\n",
        "このプログラムでは、jinkoSJ.csv には cp932 (シフトJISコードのコード名)、kendata.csv では utf-8（Unicode)を用いた。\n",
        "\n",
        "Windows版日本語Excelは特に指定せずに csv 形式で保存するといまだシフトJISコードが用いられる（時代遅れである）。Unicode形式で保存したければ、ファイルの種類として 「**CSV UTF-8 (コンマ区切り）**」を選べばよい。\n",
        "\n",
        "上のセルでは説明上、明示的に \n",
        "\n",
        "``` encoding =utf-8 ``` \n",
        "\n",
        "と指定したが、python は utf-8 がデフォルトであるので、utf-8 の場合は無指定でよい。"
      ]
    },
    {
      "cell_type": "markdown",
      "metadata": {
        "id": "ij46YoVP-NXh"
      },
      "source": [
        ""
      ]
    }
  ]
}