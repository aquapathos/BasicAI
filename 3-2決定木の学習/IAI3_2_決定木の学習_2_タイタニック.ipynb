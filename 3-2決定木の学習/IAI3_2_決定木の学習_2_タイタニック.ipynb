{
  "nbformat": 4,
  "nbformat_minor": 0,
  "metadata": {
    "kernelspec": {
      "display_name": "Python 3",
      "language": "python",
      "name": "python3"
    },
    "language_info": {
      "codemirror_mode": {
        "name": "ipython",
        "version": 3
      },
      "file_extension": ".py",
      "mimetype": "text/x-python",
      "name": "python",
      "nbconvert_exporter": "python",
      "pygments_lexer": "ipython3",
      "version": "3.7.3"
    },
    "colab": {
      "name": "IAI_3_2_決定木の学習_2_タイタニック.ipynb",
      "provenance": [],
      "include_colab_link": true
    }
  },
  "cells": [
    {
      "cell_type": "markdown",
      "metadata": {
        "id": "view-in-github",
        "colab_type": "text"
      },
      "source": [
        "<a href=\"https://colab.research.google.com/github/aquapathos/BasicAI/blob/master/IAI_3_2_%E6%B1%BA%E5%AE%9A%E6%9C%A8%E3%81%AE%E5%AD%A6%E7%BF%92_2_%E3%82%BF%E3%82%A4%E3%82%BF%E3%83%8B%E3%83%83%E3%82%AF.ipynb\" target=\"_parent\"><img src=\"https://colab.research.google.com/assets/colab-badge.svg\" alt=\"Open In Colab\"/></a>"
      ]
    },
    {
      "cell_type": "markdown",
      "metadata": {
        "id": "fczgHEMRloAc"
      },
      "source": [
        "まず、必要なライブラリを読み込んでおきます。実行は1度だけでOK"
      ]
    },
    {
      "cell_type": "code",
      "metadata": {
        "id": "F7ZI08F8lmzR"
      },
      "source": [
        "# モジュールのインポート\n",
        "!apt-get -qq -y install fonts-ipafont-gothic > /dev/null\n",
        "import pandas as pd\n",
        "import numpy as np\n",
        "from sklearn import tree\n",
        "from graphviz import Digraph,Source\n",
        "import pydotplus as pdp"
      ],
      "execution_count": 1,
      "outputs": []
    },
    {
      "cell_type": "markdown",
      "metadata": {
        "id": "ceum4vzWb_WQ"
      },
      "source": [
        "## 準備　データファイルのアップロード\n",
        "\n",
        "次のセルを実行して、\n",
        "配布されているファイル \"**titanic.xlsx**\" をアップロードしてください。\n",
        "\n",
        "左のエリアにドラッグ＆ドロップでも構いません。\n",
        "\n",
        "\n",
        "\n"
      ]
    },
    {
      "cell_type": "code",
      "metadata": {
        "colab": {
          "resources": {
            "http://localhost:8080/nbextensions/google.colab/files.js": {
              "data": "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",
              "ok": true,
              "headers": [
                [
                  "content-type",
                  "application/javascript"
                ]
              ],
              "status": 200,
              "status_text": ""
            }
          },
          "base_uri": "https://localhost:8080/",
          "height": 78
        },
        "id": "6vH2-_b7lTT8",
        "outputId": "abe6e95e-3588-4626-b947-d652e503d884"
      },
      "source": [
        "from google.colab import files\n",
        "uploaded = files.upload()\n",
        "file_name = list(uploaded.keys())[0]"
      ],
      "execution_count": 2,
      "outputs": [
        {
          "output_type": "display_data",
          "data": {
            "text/html": [
              "\n",
              "     <input type=\"file\" id=\"files-dbace113-ca2d-4f13-8047-01a0bc7e3cbc\" name=\"files[]\" multiple disabled\n",
              "        style=\"border:none\" />\n",
              "     <output id=\"result-dbace113-ca2d-4f13-8047-01a0bc7e3cbc\">\n",
              "      Upload widget is only available when the cell has been executed in the\n",
              "      current browser session. Please rerun this cell to enable.\n",
              "      </output>\n",
              "      <script src=\"/nbextensions/google.colab/files.js\"></script> "
            ],
            "text/plain": [
              "<IPython.core.display.HTML object>"
            ]
          },
          "metadata": {
            "tags": []
          }
        },
        {
          "output_type": "stream",
          "text": [
            "Saving titanic.xlsx to titanic.xlsx\n"
          ],
          "name": "stdout"
        }
      ]
    },
    {
      "cell_type": "code",
      "metadata": {
        "id": "iCIWp5m6b4ey",
        "colab": {
          "base_uri": "https://localhost:8080/",
          "height": 567
        },
        "outputId": "9eacbd33-8f4c-4f10-8901-a06966bd4b08"
      },
      "source": [
        "# エクセルファイルの読み込み\n",
        "train = pd.read_excel('titanic.xlsx')\n",
        "train.drop(['氏名'],axis=1,inplace=True) # 氏名欄を除去\n",
        "\n",
        "DSTART=0     # 訓練に使うデータの開始番号\n",
        "DNUMBER=16   # 訓練データの個数\n",
        "DEND=DSTART+DNUMBER\n",
        "\n",
        "# 例に使うデータの取り出し\n",
        "y = train['生死'].iloc[DSTART:DEND].copy()    # 正解データ\n",
        "X = train.drop('生死',axis=1).iloc[DSTART:DEND].copy()  # 訓練用データ ('生死'以外の情報)\n",
        "\n",
        "print('生死は１:生存, ０:死亡、性別は１:男性, 0：女性:')\n",
        "\n",
        "cindex = X.columns # 生死の決め手となる可能性のある属性\n",
        "# データの確認\n",
        "train.iloc[DSTART:DEND]"
      ],
      "execution_count": 3,
      "outputs": [
        {
          "output_type": "stream",
          "text": [
            "生死は１:生存, ０:死亡、性別は１:男性, 0：女性:\n"
          ],
          "name": "stdout"
        },
        {
          "output_type": "execute_result",
          "data": {
            "text/html": [
              "<div>\n",
              "<style scoped>\n",
              "    .dataframe tbody tr th:only-of-type {\n",
              "        vertical-align: middle;\n",
              "    }\n",
              "\n",
              "    .dataframe tbody tr th {\n",
              "        vertical-align: top;\n",
              "    }\n",
              "\n",
              "    .dataframe thead th {\n",
              "        text-align: right;\n",
              "    }\n",
              "</style>\n",
              "<table border=\"1\" class=\"dataframe\">\n",
              "  <thead>\n",
              "    <tr style=\"text-align: right;\">\n",
              "      <th></th>\n",
              "      <th>生死</th>\n",
              "      <th>船室等級</th>\n",
              "      <th>性別</th>\n",
              "      <th>年齢</th>\n",
              "      <th>子供の数</th>\n",
              "      <th>大人の数</th>\n",
              "      <th>船賃</th>\n",
              "    </tr>\n",
              "  </thead>\n",
              "  <tbody>\n",
              "    <tr>\n",
              "      <th>0</th>\n",
              "      <td>0</td>\n",
              "      <td>3</td>\n",
              "      <td>1</td>\n",
              "      <td>22.0</td>\n",
              "      <td>1</td>\n",
              "      <td>0</td>\n",
              "      <td>7.2500</td>\n",
              "    </tr>\n",
              "    <tr>\n",
              "      <th>1</th>\n",
              "      <td>1</td>\n",
              "      <td>1</td>\n",
              "      <td>0</td>\n",
              "      <td>38.0</td>\n",
              "      <td>1</td>\n",
              "      <td>0</td>\n",
              "      <td>71.2833</td>\n",
              "    </tr>\n",
              "    <tr>\n",
              "      <th>2</th>\n",
              "      <td>1</td>\n",
              "      <td>3</td>\n",
              "      <td>0</td>\n",
              "      <td>26.0</td>\n",
              "      <td>0</td>\n",
              "      <td>0</td>\n",
              "      <td>7.9250</td>\n",
              "    </tr>\n",
              "    <tr>\n",
              "      <th>3</th>\n",
              "      <td>1</td>\n",
              "      <td>1</td>\n",
              "      <td>0</td>\n",
              "      <td>35.0</td>\n",
              "      <td>1</td>\n",
              "      <td>0</td>\n",
              "      <td>53.1000</td>\n",
              "    </tr>\n",
              "    <tr>\n",
              "      <th>4</th>\n",
              "      <td>0</td>\n",
              "      <td>3</td>\n",
              "      <td>1</td>\n",
              "      <td>35.0</td>\n",
              "      <td>0</td>\n",
              "      <td>0</td>\n",
              "      <td>8.0500</td>\n",
              "    </tr>\n",
              "    <tr>\n",
              "      <th>5</th>\n",
              "      <td>0</td>\n",
              "      <td>3</td>\n",
              "      <td>1</td>\n",
              "      <td>27.0</td>\n",
              "      <td>0</td>\n",
              "      <td>0</td>\n",
              "      <td>8.4583</td>\n",
              "    </tr>\n",
              "    <tr>\n",
              "      <th>6</th>\n",
              "      <td>0</td>\n",
              "      <td>1</td>\n",
              "      <td>1</td>\n",
              "      <td>54.0</td>\n",
              "      <td>0</td>\n",
              "      <td>0</td>\n",
              "      <td>51.8625</td>\n",
              "    </tr>\n",
              "    <tr>\n",
              "      <th>7</th>\n",
              "      <td>0</td>\n",
              "      <td>3</td>\n",
              "      <td>1</td>\n",
              "      <td>2.0</td>\n",
              "      <td>3</td>\n",
              "      <td>1</td>\n",
              "      <td>21.0750</td>\n",
              "    </tr>\n",
              "    <tr>\n",
              "      <th>8</th>\n",
              "      <td>1</td>\n",
              "      <td>3</td>\n",
              "      <td>0</td>\n",
              "      <td>27.0</td>\n",
              "      <td>0</td>\n",
              "      <td>2</td>\n",
              "      <td>11.1333</td>\n",
              "    </tr>\n",
              "    <tr>\n",
              "      <th>9</th>\n",
              "      <td>1</td>\n",
              "      <td>2</td>\n",
              "      <td>0</td>\n",
              "      <td>14.0</td>\n",
              "      <td>1</td>\n",
              "      <td>0</td>\n",
              "      <td>30.0708</td>\n",
              "    </tr>\n",
              "    <tr>\n",
              "      <th>10</th>\n",
              "      <td>1</td>\n",
              "      <td>3</td>\n",
              "      <td>0</td>\n",
              "      <td>4.0</td>\n",
              "      <td>1</td>\n",
              "      <td>1</td>\n",
              "      <td>16.7000</td>\n",
              "    </tr>\n",
              "    <tr>\n",
              "      <th>11</th>\n",
              "      <td>1</td>\n",
              "      <td>1</td>\n",
              "      <td>0</td>\n",
              "      <td>58.0</td>\n",
              "      <td>0</td>\n",
              "      <td>0</td>\n",
              "      <td>26.5500</td>\n",
              "    </tr>\n",
              "    <tr>\n",
              "      <th>12</th>\n",
              "      <td>0</td>\n",
              "      <td>3</td>\n",
              "      <td>1</td>\n",
              "      <td>20.0</td>\n",
              "      <td>0</td>\n",
              "      <td>0</td>\n",
              "      <td>8.0500</td>\n",
              "    </tr>\n",
              "    <tr>\n",
              "      <th>13</th>\n",
              "      <td>0</td>\n",
              "      <td>3</td>\n",
              "      <td>1</td>\n",
              "      <td>39.0</td>\n",
              "      <td>1</td>\n",
              "      <td>5</td>\n",
              "      <td>31.2750</td>\n",
              "    </tr>\n",
              "    <tr>\n",
              "      <th>14</th>\n",
              "      <td>0</td>\n",
              "      <td>3</td>\n",
              "      <td>0</td>\n",
              "      <td>14.0</td>\n",
              "      <td>0</td>\n",
              "      <td>0</td>\n",
              "      <td>7.8542</td>\n",
              "    </tr>\n",
              "    <tr>\n",
              "      <th>15</th>\n",
              "      <td>1</td>\n",
              "      <td>2</td>\n",
              "      <td>0</td>\n",
              "      <td>55.0</td>\n",
              "      <td>0</td>\n",
              "      <td>0</td>\n",
              "      <td>16.0000</td>\n",
              "    </tr>\n",
              "  </tbody>\n",
              "</table>\n",
              "</div>"
            ],
            "text/plain": [
              "    生死  船室等級  性別    年齢  子供の数  大人の数       船賃\n",
              "0    0     3   1  22.0     1     0   7.2500\n",
              "1    1     1   0  38.0     1     0  71.2833\n",
              "2    1     3   0  26.0     0     0   7.9250\n",
              "3    1     1   0  35.0     1     0  53.1000\n",
              "4    0     3   1  35.0     0     0   8.0500\n",
              "5    0     3   1  27.0     0     0   8.4583\n",
              "6    0     1   1  54.0     0     0  51.8625\n",
              "7    0     3   1   2.0     3     1  21.0750\n",
              "8    1     3   0  27.0     0     2  11.1333\n",
              "9    1     2   0  14.0     1     0  30.0708\n",
              "10   1     3   0   4.0     1     1  16.7000\n",
              "11   1     1   0  58.0     0     0  26.5500\n",
              "12   0     3   1  20.0     0     0   8.0500\n",
              "13   0     3   1  39.0     1     5  31.2750\n",
              "14   0     3   0  14.0     0     0   7.8542\n",
              "15   1     2   0  55.0     0     0  16.0000"
            ]
          },
          "metadata": {
            "tags": []
          },
          "execution_count": 3
        }
      ]
    },
    {
      "cell_type": "markdown",
      "metadata": {
        "id": "uduQu99yfM4g"
      },
      "source": [
        "# 情報量基準による決定木の生成\n",
        "\n",
        "試しに、上の16名の犠牲者のデータの生死を分けた決定木を生成してみましょう。"
      ]
    },
    {
      "cell_type": "code",
      "metadata": {
        "id": "I5fYjBn1b4e5"
      },
      "source": [
        "# 決定木の学習　（entropy => 情報量基準）\n",
        "clf = tree.DecisionTreeClassifier(max_depth=4,criterion='entropy')\n",
        "clf.fit(X, y);"
      ],
      "execution_count": 4,
      "outputs": []
    },
    {
      "cell_type": "markdown",
      "metadata": {
        "id": "I1jfbg7Xe11w"
      },
      "source": [
        "# プログラム解説\n",
        "２行目の、criterion='entropy' で、決定木を作成する基準がエントロピー、すなわち情報量基準であることを指定しています。\n",
        "\n",
        "## 決定木の保存と図示"
      ]
    },
    {
      "cell_type": "code",
      "metadata": {
        "id": "VJALx7tbb4e7",
        "colab": {
          "base_uri": "https://localhost:8080/",
          "height": 439
        },
        "outputId": "ccd9beed-0e93-4ea6-b150-220b14837a18"
      },
      "source": [
        "# 決定木の描画用データ dot_data を生成する\n",
        "dot_data = tree.export_graphviz(clf, \n",
        "            out_file=None, # 出力ファイル名 None なら出力しない\n",
        "            filled=True, # ノードを色づけする\n",
        "            rounded=True, # ノードの角を丸く\n",
        "            class_names=['死亡','生存'],\n",
        "            feature_names=cindex) \n",
        "\n",
        "# 画像の保存\n",
        "graph = pdp.graph_from_dot_data(dot_data)\n",
        "for node in graph.get_nodes():\n",
        "    node.set_fontname(\"IPAGothic\")\n",
        "graph.write_png(\"タイタニック号最初の16人の生死の決定木.png\")\n",
        "\n",
        "# 決定木の表示\n",
        "Source(dot_data)"
      ],
      "execution_count": 5,
      "outputs": [
        {
          "output_type": "execute_result",
          "data": {
            "text/plain": [
              "<graphviz.files.Source at 0x7fe7c47ee110>"
            ],
            "image/svg+xml": "<?xml version=\"1.0\" encoding=\"UTF-8\" standalone=\"no\"?>\n<!DOCTYPE svg PUBLIC \"-//W3C//DTD SVG 1.1//EN\"\n \"http://www.w3.org/Graphics/SVG/1.1/DTD/svg11.dtd\">\n<!-- Generated by graphviz version 2.40.1 (20161225.0304)\n -->\n<!-- Title: Tree Pages: 1 -->\n<svg width=\"296pt\" height=\"314pt\"\n viewBox=\"0.00 0.00 296.00 314.00\" xmlns=\"http://www.w3.org/2000/svg\" xmlns:xlink=\"http://www.w3.org/1999/xlink\">\n<g id=\"graph0\" class=\"graph\" transform=\"scale(1 1) rotate(0) translate(4 310)\">\n<title>Tree</title>\n<polygon fill=\"#ffffff\" stroke=\"transparent\" points=\"-4,4 -4,-310 292,-310 292,4 -4,4\"/>\n<!-- 0 -->\n<g id=\"node1\" class=\"node\">\n<title>0</title>\n<path fill=\"#ffffff\" stroke=\"#000000\" d=\"M213.5,-306C213.5,-306 133.5,-306 133.5,-306 127.5,-306 121.5,-300 121.5,-294 121.5,-294 121.5,-235 121.5,-235 121.5,-229 127.5,-223 133.5,-223 133.5,-223 213.5,-223 213.5,-223 219.5,-223 225.5,-229 225.5,-235 225.5,-235 225.5,-294 225.5,-294 225.5,-300 219.5,-306 213.5,-306\"/>\n<text text-anchor=\"middle\" x=\"173.5\" y=\"-290.8\" font-family=\"Helvetica,sans-Serif\" font-size=\"14.00\" fill=\"#000000\">性別 &lt;= 0.5</text>\n<text text-anchor=\"middle\" x=\"173.5\" y=\"-275.8\" font-family=\"Helvetica,sans-Serif\" font-size=\"14.00\" fill=\"#000000\">entropy = 1.0</text>\n<text text-anchor=\"middle\" x=\"173.5\" y=\"-260.8\" font-family=\"Helvetica,sans-Serif\" font-size=\"14.00\" fill=\"#000000\">samples = 16</text>\n<text text-anchor=\"middle\" x=\"173.5\" y=\"-245.8\" font-family=\"Helvetica,sans-Serif\" font-size=\"14.00\" fill=\"#000000\">value = [8, 8]</text>\n<text text-anchor=\"middle\" x=\"173.5\" y=\"-230.8\" font-family=\"Helvetica,sans-Serif\" font-size=\"14.00\" fill=\"#000000\">class = 死亡</text>\n</g>\n<!-- 1 -->\n<g id=\"node2\" class=\"node\">\n<title>1</title>\n<path fill=\"#52a9e8\" stroke=\"#000000\" d=\"M156.5,-187C156.5,-187 62.5,-187 62.5,-187 56.5,-187 50.5,-181 50.5,-175 50.5,-175 50.5,-116 50.5,-116 50.5,-110 56.5,-104 62.5,-104 62.5,-104 156.5,-104 156.5,-104 162.5,-104 168.5,-110 168.5,-116 168.5,-116 168.5,-175 168.5,-175 168.5,-181 162.5,-187 156.5,-187\"/>\n<text text-anchor=\"middle\" x=\"109.5\" y=\"-171.8\" font-family=\"Helvetica,sans-Serif\" font-size=\"14.00\" fill=\"#000000\">船賃 &lt;= 7.89</text>\n<text text-anchor=\"middle\" x=\"109.5\" y=\"-156.8\" font-family=\"Helvetica,sans-Serif\" font-size=\"14.00\" fill=\"#000000\">entropy = 0.503</text>\n<text text-anchor=\"middle\" x=\"109.5\" y=\"-141.8\" font-family=\"Helvetica,sans-Serif\" font-size=\"14.00\" fill=\"#000000\">samples = 9</text>\n<text text-anchor=\"middle\" x=\"109.5\" y=\"-126.8\" font-family=\"Helvetica,sans-Serif\" font-size=\"14.00\" fill=\"#000000\">value = [1, 8]</text>\n<text text-anchor=\"middle\" x=\"109.5\" y=\"-111.8\" font-family=\"Helvetica,sans-Serif\" font-size=\"14.00\" fill=\"#000000\">class = 生存</text>\n</g>\n<!-- 0&#45;&gt;1 -->\n<g id=\"edge1\" class=\"edge\">\n<title>0&#45;&gt;1</title>\n<path fill=\"none\" stroke=\"#000000\" d=\"M151.1159,-222.8796C146.5144,-214.3236 141.6204,-205.2238 136.8658,-196.3833\"/>\n<polygon fill=\"#000000\" stroke=\"#000000\" points=\"139.7988,-194.4473 131.9796,-187.2981 133.6338,-197.763 139.7988,-194.4473\"/>\n<text text-anchor=\"middle\" x=\"124.7839\" y=\"-207.5401\" font-family=\"Helvetica,sans-Serif\" font-size=\"14.00\" fill=\"#000000\">True</text>\n</g>\n<!-- 4 -->\n<g id=\"node5\" class=\"node\">\n<title>4</title>\n<path fill=\"#e58139\" stroke=\"#000000\" d=\"M276,-179.5C276,-179.5 199,-179.5 199,-179.5 193,-179.5 187,-173.5 187,-167.5 187,-167.5 187,-123.5 187,-123.5 187,-117.5 193,-111.5 199,-111.5 199,-111.5 276,-111.5 276,-111.5 282,-111.5 288,-117.5 288,-123.5 288,-123.5 288,-167.5 288,-167.5 288,-173.5 282,-179.5 276,-179.5\"/>\n<text text-anchor=\"middle\" x=\"237.5\" y=\"-164.3\" font-family=\"Helvetica,sans-Serif\" font-size=\"14.00\" fill=\"#000000\">entropy = 0.0</text>\n<text text-anchor=\"middle\" x=\"237.5\" y=\"-149.3\" font-family=\"Helvetica,sans-Serif\" font-size=\"14.00\" fill=\"#000000\">samples = 7</text>\n<text text-anchor=\"middle\" x=\"237.5\" y=\"-134.3\" font-family=\"Helvetica,sans-Serif\" font-size=\"14.00\" fill=\"#000000\">value = [7, 0]</text>\n<text text-anchor=\"middle\" x=\"237.5\" y=\"-119.3\" font-family=\"Helvetica,sans-Serif\" font-size=\"14.00\" fill=\"#000000\">class = 死亡</text>\n</g>\n<!-- 0&#45;&gt;4 -->\n<g id=\"edge4\" class=\"edge\">\n<title>0&#45;&gt;4</title>\n<path fill=\"none\" stroke=\"#000000\" d=\"M195.8841,-222.8796C201.798,-211.8835 208.1949,-199.9893 214.158,-188.9015\"/>\n<polygon fill=\"#000000\" stroke=\"#000000\" points=\"217.3908,-190.2799 219.0449,-179.8149 211.2258,-186.9642 217.3908,-190.2799\"/>\n<text text-anchor=\"middle\" x=\"226.2406\" y=\"-200.057\" font-family=\"Helvetica,sans-Serif\" font-size=\"14.00\" fill=\"#000000\">False</text>\n</g>\n<!-- 2 -->\n<g id=\"node3\" class=\"node\">\n<title>2</title>\n<path fill=\"#e58139\" stroke=\"#000000\" d=\"M89,-68C89,-68 12,-68 12,-68 6,-68 0,-62 0,-56 0,-56 0,-12 0,-12 0,-6 6,0 12,0 12,0 89,0 89,0 95,0 101,-6 101,-12 101,-12 101,-56 101,-56 101,-62 95,-68 89,-68\"/>\n<text text-anchor=\"middle\" x=\"50.5\" y=\"-52.8\" font-family=\"Helvetica,sans-Serif\" font-size=\"14.00\" fill=\"#000000\">entropy = 0.0</text>\n<text text-anchor=\"middle\" x=\"50.5\" y=\"-37.8\" font-family=\"Helvetica,sans-Serif\" font-size=\"14.00\" fill=\"#000000\">samples = 1</text>\n<text text-anchor=\"middle\" x=\"50.5\" y=\"-22.8\" font-family=\"Helvetica,sans-Serif\" font-size=\"14.00\" fill=\"#000000\">value = [1, 0]</text>\n<text text-anchor=\"middle\" x=\"50.5\" y=\"-7.8\" font-family=\"Helvetica,sans-Serif\" font-size=\"14.00\" fill=\"#000000\">class = 死亡</text>\n</g>\n<!-- 1&#45;&gt;2 -->\n<g id=\"edge2\" class=\"edge\">\n<title>1&#45;&gt;2</title>\n<path fill=\"none\" stroke=\"#000000\" d=\"M87.5306,-103.9815C82.9105,-95.2504 78.0264,-86.0202 73.374,-77.2281\"/>\n<polygon fill=\"#000000\" stroke=\"#000000\" points=\"76.4013,-75.4655 68.6306,-68.2637 70.2141,-78.7395 76.4013,-75.4655\"/>\n</g>\n<!-- 3 -->\n<g id=\"node4\" class=\"node\">\n<title>3</title>\n<path fill=\"#399de5\" stroke=\"#000000\" d=\"M208,-68C208,-68 131,-68 131,-68 125,-68 119,-62 119,-56 119,-56 119,-12 119,-12 119,-6 125,0 131,0 131,0 208,0 208,0 214,0 220,-6 220,-12 220,-12 220,-56 220,-56 220,-62 214,-68 208,-68\"/>\n<text text-anchor=\"middle\" x=\"169.5\" y=\"-52.8\" font-family=\"Helvetica,sans-Serif\" font-size=\"14.00\" fill=\"#000000\">entropy = 0.0</text>\n<text text-anchor=\"middle\" x=\"169.5\" y=\"-37.8\" font-family=\"Helvetica,sans-Serif\" font-size=\"14.00\" fill=\"#000000\">samples = 8</text>\n<text text-anchor=\"middle\" x=\"169.5\" y=\"-22.8\" font-family=\"Helvetica,sans-Serif\" font-size=\"14.00\" fill=\"#000000\">value = [0, 8]</text>\n<text text-anchor=\"middle\" x=\"169.5\" y=\"-7.8\" font-family=\"Helvetica,sans-Serif\" font-size=\"14.00\" fill=\"#000000\">class = 生存</text>\n</g>\n<!-- 1&#45;&gt;3 -->\n<g id=\"edge3\" class=\"edge\">\n<title>1&#45;&gt;3</title>\n<path fill=\"none\" stroke=\"#000000\" d=\"M131.8418,-103.9815C136.5402,-95.2504 141.5071,-86.0202 146.2383,-77.2281\"/>\n<polygon fill=\"#000000\" stroke=\"#000000\" points=\"149.4056,-78.7282 151.0621,-68.2637 143.2414,-75.4111 149.4056,-78.7282\"/>\n</g>\n</g>\n</svg>\n"
          },
          "metadata": {
            "tags": []
          },
          "execution_count": 5
        }
      ]
    },
    {
      "cell_type": "markdown",
      "metadata": {
        "id": "MKORPk1jpBP4"
      },
      "source": [
        "（注）上に表示されている画像は右クリップでの保存ができません。レポートに図を使いたい場合は、左のエリアに保存されているファイルを使ってください。"
      ]
    },
    {
      "cell_type": "markdown",
      "metadata": {
        "id": "jySYLyJ0gWyA"
      },
      "source": [
        "# 補足\n",
        "(1) 性別は０が女性、１が男性なので、最初のテスト「性別 ≦ 0.5」は男女の振り分けを意味します。女性の場合は左の枝へ、男性の場合は右の枝へ進むことになります。  \n",
        "(2) 次は船賃が 7.89 より低ければ左、高ければ右です。"
      ]
    },
    {
      "cell_type": "markdown",
      "metadata": {
        "id": "P3v6A1Leb4e-"
      },
      "source": [
        "# 結果について\n",
        "\n",
        "先頭から１６人について言えることでしかありませんが、\n",
        "\n",
        "1. まず性別で振り分けると、16人中7人が男性で、全員死亡（最初の右の枝）\n",
        "2. 女性（左の枝）は、船賃が安かった人（２段目左の枝）１人だけ死亡、残り８人（右の枝）は生存\n",
        "\n",
        "という結果でした。\n",
        "\n",
        "## 学習と評価の関数化"
      ]
    },
    {
      "cell_type": "code",
      "metadata": {
        "id": "YHehxViLxt8E"
      },
      "source": [
        "# 一部を学習に用いて作った決定木で別のデータを分別する\n",
        "def ds_predict(DSTART=0,DNUMBER=16,TSTART=0,TNUMBER=16,max_depth=3,showresult=True):\n",
        "  # DSTART   訓練に使うデータの開始番号\n",
        "  # DNUMBER  訓練に使うデータ数\n",
        "  # TSTART   テストに使うデータの開始番号\n",
        "  # TNUMBER  テストに使うデータ数\n",
        "  DEND=DSTART+DNUMBER\n",
        "  TEND=TSTART+TNUMBER\n",
        "\n",
        "  # 例に使うデータの取り出し\n",
        "  y = train['生死'].iloc[DSTART:DEND].copy()    # 正解データ\n",
        "  X = train.drop('生死',axis=1).iloc[DSTART:DEND].copy()  # 訓練用データ ('生死'以外の情報)\n",
        "  cindex = X.columns # 生死の決め手となる可能性のある属性\n",
        "\n",
        "  # 決定木の学習　（entropy => 情報量基準）\n",
        "  clf = tree.DecisionTreeClassifier(max_depth=max_depth,criterion='entropy')\n",
        "  clf.fit(X, y)\n",
        "\n",
        "  # テストデータの抽出\n",
        "  T = train.iloc[TSTART:TEND].copy()  \n",
        "  # 生死予測\n",
        "  T['生死予測']=clf.predict(T[cindex])\n",
        "\n",
        "  dead = T[T['生死'] == 0] # テストデータ中の死者データ\n",
        "  survivor = T[T['生死'] == 1] # テストデータ中の生存者データ\n",
        "  n_dead = len(dead) # テストデータ中の死者数\n",
        "  n_survivor = len(survivor) # テストデータ中の生存者数\n",
        "\n",
        "  n_correct = (T['生死'] == T['生死予測']).value_counts()[True] # 全データ中の正解数\n",
        "  n_dcorrect = (dead['生死予測']==0).value_counts()[True]\n",
        "  n_scorrect = (survivor['生死予測']==1).value_counts()[True]\n",
        "\n",
        "  if showresult:\n",
        "      print(f\"訓練データは{DSTART}番から{DNUMBER}個\")\n",
        "      print(f\"テストデータは{TSTART}番から{TNUMBER}個\")\n",
        "      print(\"全正解率 {:3.2f}％\".format(n_correct*100/len(T)))\n",
        "      print(\"死者{}名中、正しく予想した割合は {:3.2f}％\".format(n_dead,n_dcorrect*100/n_dead))\n",
        "      print(\"生存者{}名中、正しく予想した割合は {:3.2f}％\".format(n_survivor,n_scorrect*100/n_survivor))\n",
        "\n",
        "  return clf,n_correct/len(T)\n",
        "\n",
        "# 決定木の描画と保存\n",
        "def showtree(clf,saveimg=False,filename=\"dtree\"):\n",
        "    # 決定木の描画用データ dot_data を生成する\n",
        "    dot_data = tree.export_graphviz(clf, \n",
        "                out_file=None, # 出力ファイル名 None なら出力しない\n",
        "                filled=True, # ノードを色づけする\n",
        "                rounded=True, # ノードの角を丸く\n",
        "                class_names=['死亡','生存'],\n",
        "                feature_names=cindex) \n",
        "\n",
        "    # 画像の保存\n",
        "    if saveimg:\n",
        "        graph = pdp.graph_from_dot_data(dot_data)\n",
        "        for node in graph.get_nodes():\n",
        "            node.set_fontname(\"IPAGothic\")\n",
        "        graph.write_png(filename+\".png\")\n",
        "\n",
        "    # 決定木の表示\n",
        "    return Source(dot_data)"
      ],
      "execution_count": 6,
      "outputs": []
    },
    {
      "cell_type": "markdown",
      "metadata": {
        "id": "mxkZA7kDVUFh"
      },
      "source": [
        "# 関数の解説\n",
        "\n",
        "## **ds_predict()**　決定木の学習と評価\n",
        "\n",
        "```\n",
        "ds_predict(DSTART=0,DNUMBER=16,TSTART=0,TNUMBER=16,max_depth=3,showresult=True)\n",
        "```\n",
        "\n",
        "### **パラメータ**\n",
        "- **DSTART** 番目から **DNUMBER** 個のデータを訓練データとする。   \n",
        "- **TSTART** 番目から **TNUMBER** 個のデータを評価用データとする。 \n",
        "- **max_depth** 決定木の最大の深さ　デフォルトは3   \n",
        "- **showresult** 結果を表示するかどうか。\n",
        "\n",
        "### **返り値**\n",
        "- **clf** 決定木   \n",
        "- **c** 正解率\n",
        "\n",
        "## **showtree()**　決定木の描画\n",
        "\n",
        "```\n",
        "showtree(clf,saveimg=False,filename=\"dtree\")\n",
        "```\n",
        "### **パラメータ**\n",
        "- **clf** 識別器(決定木)   \n",
        "- **saveimg** 決定木の画像を保存するかいなか。   \n",
        "- **filename** 保存する場合のファイル名\n",
        "\n",
        "# 実行例\n",
        "\n",
        "33番のデータから100個を訓練例として使って決定木を作成し、同じデータを使って検証してみます。\n",
        "\n"
      ]
    },
    {
      "cell_type": "code",
      "metadata": {
        "colab": {
          "base_uri": "https://localhost:8080/"
        },
        "id": "wvH8fgySHmZK",
        "outputId": "d39731f1-c10e-4cab-cb3b-0afa3cd4bc6e"
      },
      "source": [
        "clf,c = ds_predict(DSTART=33,DNUMBER=100,TSTART=33,TNUMBER=100,max_depth=3,showresult=True)"
      ],
      "execution_count": 7,
      "outputs": [
        {
          "output_type": "stream",
          "text": [
            "訓練データは33番から100個\n",
            "テストデータは33番から100個\n",
            "全正解率 86.00％\n",
            "死者68名中、正しく予想した割合は 97.06％\n",
            "生存者32名中、正しく予想した割合は 62.50％\n"
          ],
          "name": "stdout"
        }
      ]
    },
    {
      "cell_type": "markdown",
      "metadata": {
        "id": "8diHUmnFYWpx"
      },
      "source": [
        "できた決定木を描画します。"
      ]
    },
    {
      "cell_type": "code",
      "metadata": {
        "colab": {
          "base_uri": "https://localhost:8080/",
          "height": 618
        },
        "id": "1Hc-yW9pE41u",
        "outputId": "6b685d48-cc3f-488a-a3d9-079c25759dc0"
      },
      "source": [
        "showtree(clf,saveimg=True,filename=\"dtree\")"
      ],
      "execution_count": 8,
      "outputs": [
        {
          "output_type": "execute_result",
          "data": {
            "text/plain": [
              "<graphviz.files.Source at 0x7fe7c4882ed0>"
            ],
            "image/svg+xml": "<?xml version=\"1.0\" encoding=\"UTF-8\" standalone=\"no\"?>\n<!DOCTYPE svg PUBLIC \"-//W3C//DTD SVG 1.1//EN\"\n \"http://www.w3.org/Graphics/SVG/1.1/DTD/svg11.dtd\">\n<!-- Generated by graphviz version 2.40.1 (20161225.0304)\n -->\n<!-- Title: Tree Pages: 1 -->\n<svg width=\"1018pt\" height=\"433pt\"\n viewBox=\"0.00 0.00 1018.00 433.00\" xmlns=\"http://www.w3.org/2000/svg\" xmlns:xlink=\"http://www.w3.org/1999/xlink\">\n<g id=\"graph0\" class=\"graph\" transform=\"scale(1 1) rotate(0) translate(4 429)\">\n<title>Tree</title>\n<polygon fill=\"#ffffff\" stroke=\"transparent\" points=\"-4,4 -4,-429 1014,-429 1014,4 -4,4\"/>\n<!-- 0 -->\n<g id=\"node1\" class=\"node\">\n<title>0</title>\n<path fill=\"#f1bc96\" stroke=\"#000000\" d=\"M549,-425C549,-425 455,-425 455,-425 449,-425 443,-419 443,-413 443,-413 443,-354 443,-354 443,-348 449,-342 455,-342 455,-342 549,-342 549,-342 555,-342 561,-348 561,-354 561,-354 561,-413 561,-413 561,-419 555,-425 549,-425\"/>\n<text text-anchor=\"middle\" x=\"502\" y=\"-409.8\" font-family=\"Helvetica,sans-Serif\" font-size=\"14.00\" fill=\"#000000\">性別 &lt;= 0.5</text>\n<text text-anchor=\"middle\" x=\"502\" y=\"-394.8\" font-family=\"Helvetica,sans-Serif\" font-size=\"14.00\" fill=\"#000000\">entropy = 0.904</text>\n<text text-anchor=\"middle\" x=\"502\" y=\"-379.8\" font-family=\"Helvetica,sans-Serif\" font-size=\"14.00\" fill=\"#000000\">samples = 100</text>\n<text text-anchor=\"middle\" x=\"502\" y=\"-364.8\" font-family=\"Helvetica,sans-Serif\" font-size=\"14.00\" fill=\"#000000\">value = [68, 32]</text>\n<text text-anchor=\"middle\" x=\"502\" y=\"-349.8\" font-family=\"Helvetica,sans-Serif\" font-size=\"14.00\" fill=\"#000000\">class = 死亡</text>\n</g>\n<!-- 1 -->\n<g id=\"node2\" class=\"node\">\n<title>1</title>\n<path fill=\"#9ccef2\" stroke=\"#000000\" d=\"M425,-306C425,-306 331,-306 331,-306 325,-306 319,-300 319,-294 319,-294 319,-235 319,-235 319,-229 325,-223 331,-223 331,-223 425,-223 425,-223 431,-223 437,-229 437,-235 437,-235 437,-294 437,-294 437,-300 431,-306 425,-306\"/>\n<text text-anchor=\"middle\" x=\"378\" y=\"-290.8\" font-family=\"Helvetica,sans-Serif\" font-size=\"14.00\" fill=\"#000000\">船室等級 &lt;= 2.5</text>\n<text text-anchor=\"middle\" x=\"378\" y=\"-275.8\" font-family=\"Helvetica,sans-Serif\" font-size=\"14.00\" fill=\"#000000\">entropy = 0.918</text>\n<text text-anchor=\"middle\" x=\"378\" y=\"-260.8\" font-family=\"Helvetica,sans-Serif\" font-size=\"14.00\" fill=\"#000000\">samples = 33</text>\n<text text-anchor=\"middle\" x=\"378\" y=\"-245.8\" font-family=\"Helvetica,sans-Serif\" font-size=\"14.00\" fill=\"#000000\">value = [11, 22]</text>\n<text text-anchor=\"middle\" x=\"378\" y=\"-230.8\" font-family=\"Helvetica,sans-Serif\" font-size=\"14.00\" fill=\"#000000\">class = 生存</text>\n</g>\n<!-- 0&#45;&gt;1 -->\n<g id=\"edge1\" class=\"edge\">\n<title>0&#45;&gt;1</title>\n<path fill=\"none\" stroke=\"#000000\" d=\"M458.6308,-341.8796C449.0584,-332.6931 438.8328,-322.8798 428.9897,-313.4336\"/>\n<polygon fill=\"#000000\" stroke=\"#000000\" points=\"431.1928,-310.6969 421.5543,-306.2981 426.3459,-315.7475 431.1928,-310.6969\"/>\n<text text-anchor=\"middle\" x=\"422.0686\" y=\"-327.5928\" font-family=\"Helvetica,sans-Serif\" font-size=\"14.00\" fill=\"#000000\">True</text>\n</g>\n<!-- 8 -->\n<g id=\"node9\" class=\"node\">\n<title>8</title>\n<path fill=\"#ea975c\" stroke=\"#000000\" d=\"M676,-306C676,-306 582,-306 582,-306 576,-306 570,-300 570,-294 570,-294 570,-235 570,-235 570,-229 576,-223 582,-223 582,-223 676,-223 676,-223 682,-223 688,-229 688,-235 688,-235 688,-294 688,-294 688,-300 682,-306 676,-306\"/>\n<text text-anchor=\"middle\" x=\"629\" y=\"-290.8\" font-family=\"Helvetica,sans-Serif\" font-size=\"14.00\" fill=\"#000000\">年齢 &lt;= 18.5</text>\n<text text-anchor=\"middle\" x=\"629\" y=\"-275.8\" font-family=\"Helvetica,sans-Serif\" font-size=\"14.00\" fill=\"#000000\">entropy = 0.608</text>\n<text text-anchor=\"middle\" x=\"629\" y=\"-260.8\" font-family=\"Helvetica,sans-Serif\" font-size=\"14.00\" fill=\"#000000\">samples = 67</text>\n<text text-anchor=\"middle\" x=\"629\" y=\"-245.8\" font-family=\"Helvetica,sans-Serif\" font-size=\"14.00\" fill=\"#000000\">value = [57, 10]</text>\n<text text-anchor=\"middle\" x=\"629\" y=\"-230.8\" font-family=\"Helvetica,sans-Serif\" font-size=\"14.00\" fill=\"#000000\">class = 死亡</text>\n</g>\n<!-- 0&#45;&gt;8 -->\n<g id=\"edge8\" class=\"edge\">\n<title>0&#45;&gt;8</title>\n<path fill=\"none\" stroke=\"#000000\" d=\"M546.4184,-341.8796C556.3186,-332.6031 566.9009,-322.6874 577.0731,-313.1559\"/>\n<polygon fill=\"#000000\" stroke=\"#000000\" points=\"579.4879,-315.6896 584.392,-306.2981 574.7016,-310.5816 579.4879,-315.6896\"/>\n<text text-anchor=\"middle\" x=\"583.5794\" y=\"-327.5849\" font-family=\"Helvetica,sans-Serif\" font-size=\"14.00\" fill=\"#000000\">False</text>\n</g>\n<!-- 2 -->\n<g id=\"node3\" class=\"node\">\n<title>2</title>\n<path fill=\"#49a5e7\" stroke=\"#000000\" d=\"M234,-187C234,-187 140,-187 140,-187 134,-187 128,-181 128,-175 128,-175 128,-116 128,-116 128,-110 134,-104 140,-104 140,-104 234,-104 234,-104 240,-104 246,-110 246,-116 246,-116 246,-175 246,-175 246,-181 240,-187 234,-187\"/>\n<text text-anchor=\"middle\" x=\"187\" y=\"-171.8\" font-family=\"Helvetica,sans-Serif\" font-size=\"14.00\" fill=\"#000000\">船賃 &lt;= 22.0</text>\n<text text-anchor=\"middle\" x=\"187\" y=\"-156.8\" font-family=\"Helvetica,sans-Serif\" font-size=\"14.00\" fill=\"#000000\">entropy = 0.391</text>\n<text text-anchor=\"middle\" x=\"187\" y=\"-141.8\" font-family=\"Helvetica,sans-Serif\" font-size=\"14.00\" fill=\"#000000\">samples = 13</text>\n<text text-anchor=\"middle\" x=\"187\" y=\"-126.8\" font-family=\"Helvetica,sans-Serif\" font-size=\"14.00\" fill=\"#000000\">value = [1, 12]</text>\n<text text-anchor=\"middle\" x=\"187\" y=\"-111.8\" font-family=\"Helvetica,sans-Serif\" font-size=\"14.00\" fill=\"#000000\">class = 生存</text>\n</g>\n<!-- 1&#45;&gt;2 -->\n<g id=\"edge2\" class=\"edge\">\n<title>1&#45;&gt;2</title>\n<path fill=\"none\" stroke=\"#000000\" d=\"M318.8744,-227.6626C298.5566,-215.0039 275.6563,-200.7361 254.7098,-187.6857\"/>\n<polygon fill=\"#000000\" stroke=\"#000000\" points=\"256.5133,-184.6856 246.175,-182.3682 252.8117,-190.6269 256.5133,-184.6856\"/>\n</g>\n<!-- 5 -->\n<g id=\"node6\" class=\"node\">\n<title>5</title>\n<path fill=\"#ffffff\" stroke=\"#000000\" d=\"M424,-187C424,-187 332,-187 332,-187 326,-187 320,-181 320,-175 320,-175 320,-116 320,-116 320,-110 326,-104 332,-104 332,-104 424,-104 424,-104 430,-104 436,-110 436,-116 436,-116 436,-175 436,-175 436,-181 430,-187 424,-187\"/>\n<text text-anchor=\"middle\" x=\"378\" y=\"-171.8\" font-family=\"Helvetica,sans-Serif\" font-size=\"14.00\" fill=\"#000000\">船賃 &lt;= 7.888</text>\n<text text-anchor=\"middle\" x=\"378\" y=\"-156.8\" font-family=\"Helvetica,sans-Serif\" font-size=\"14.00\" fill=\"#000000\">entropy = 1.0</text>\n<text text-anchor=\"middle\" x=\"378\" y=\"-141.8\" font-family=\"Helvetica,sans-Serif\" font-size=\"14.00\" fill=\"#000000\">samples = 20</text>\n<text text-anchor=\"middle\" x=\"378\" y=\"-126.8\" font-family=\"Helvetica,sans-Serif\" font-size=\"14.00\" fill=\"#000000\">value = [10, 10]</text>\n<text text-anchor=\"middle\" x=\"378\" y=\"-111.8\" font-family=\"Helvetica,sans-Serif\" font-size=\"14.00\" fill=\"#000000\">class = 死亡</text>\n</g>\n<!-- 1&#45;&gt;5 -->\n<g id=\"edge5\" class=\"edge\">\n<title>1&#45;&gt;5</title>\n<path fill=\"none\" stroke=\"#000000\" d=\"M378,-222.8796C378,-214.6838 378,-205.9891 378,-197.5013\"/>\n<polygon fill=\"#000000\" stroke=\"#000000\" points=\"381.5001,-197.298 378,-187.2981 374.5001,-197.2981 381.5001,-197.298\"/>\n</g>\n<!-- 3 -->\n<g id=\"node4\" class=\"node\">\n<title>3</title>\n<path fill=\"#6ab6ec\" stroke=\"#000000\" d=\"M106,-68C106,-68 12,-68 12,-68 6,-68 0,-62 0,-56 0,-56 0,-12 0,-12 0,-6 6,0 12,0 12,0 106,0 106,0 112,0 118,-6 118,-12 118,-12 118,-56 118,-56 118,-62 112,-68 106,-68\"/>\n<text text-anchor=\"middle\" x=\"59\" y=\"-52.8\" font-family=\"Helvetica,sans-Serif\" font-size=\"14.00\" fill=\"#000000\">entropy = 0.722</text>\n<text text-anchor=\"middle\" x=\"59\" y=\"-37.8\" font-family=\"Helvetica,sans-Serif\" font-size=\"14.00\" fill=\"#000000\">samples = 5</text>\n<text text-anchor=\"middle\" x=\"59\" y=\"-22.8\" font-family=\"Helvetica,sans-Serif\" font-size=\"14.00\" fill=\"#000000\">value = [1, 4]</text>\n<text text-anchor=\"middle\" x=\"59\" y=\"-7.8\" font-family=\"Helvetica,sans-Serif\" font-size=\"14.00\" fill=\"#000000\">class = 生存</text>\n</g>\n<!-- 2&#45;&gt;3 -->\n<g id=\"edge3\" class=\"edge\">\n<title>2&#45;&gt;3</title>\n<path fill=\"none\" stroke=\"#000000\" d=\"M139.3375,-103.9815C128.4703,-94.5151 116.9295,-84.462 106.0865,-75.0168\"/>\n<polygon fill=\"#000000\" stroke=\"#000000\" points=\"108.1734,-72.1929 98.3341,-68.2637 103.5755,-77.4712 108.1734,-72.1929\"/>\n</g>\n<!-- 4 -->\n<g id=\"node5\" class=\"node\">\n<title>4</title>\n<path fill=\"#399de5\" stroke=\"#000000\" d=\"M225.5,-68C225.5,-68 148.5,-68 148.5,-68 142.5,-68 136.5,-62 136.5,-56 136.5,-56 136.5,-12 136.5,-12 136.5,-6 142.5,0 148.5,0 148.5,0 225.5,0 225.5,0 231.5,0 237.5,-6 237.5,-12 237.5,-12 237.5,-56 237.5,-56 237.5,-62 231.5,-68 225.5,-68\"/>\n<text text-anchor=\"middle\" x=\"187\" y=\"-52.8\" font-family=\"Helvetica,sans-Serif\" font-size=\"14.00\" fill=\"#000000\">entropy = 0.0</text>\n<text text-anchor=\"middle\" x=\"187\" y=\"-37.8\" font-family=\"Helvetica,sans-Serif\" font-size=\"14.00\" fill=\"#000000\">samples = 8</text>\n<text text-anchor=\"middle\" x=\"187\" y=\"-22.8\" font-family=\"Helvetica,sans-Serif\" font-size=\"14.00\" fill=\"#000000\">value = [0, 8]</text>\n<text text-anchor=\"middle\" x=\"187\" y=\"-7.8\" font-family=\"Helvetica,sans-Serif\" font-size=\"14.00\" fill=\"#000000\">class = 生存</text>\n</g>\n<!-- 2&#45;&gt;4 -->\n<g id=\"edge4\" class=\"edge\">\n<title>2&#45;&gt;4</title>\n<path fill=\"none\" stroke=\"#000000\" d=\"M187,-103.9815C187,-95.618 187,-86.7965 187,-78.3409\"/>\n<polygon fill=\"#000000\" stroke=\"#000000\" points=\"190.5001,-78.2636 187,-68.2637 183.5001,-78.2637 190.5001,-78.2636\"/>\n</g>\n<!-- 6 -->\n<g id=\"node7\" class=\"node\">\n<title>6</title>\n<path fill=\"#399de5\" stroke=\"#000000\" d=\"M344.5,-68C344.5,-68 267.5,-68 267.5,-68 261.5,-68 255.5,-62 255.5,-56 255.5,-56 255.5,-12 255.5,-12 255.5,-6 261.5,0 267.5,0 267.5,0 344.5,0 344.5,0 350.5,0 356.5,-6 356.5,-12 356.5,-12 356.5,-56 356.5,-56 356.5,-62 350.5,-68 344.5,-68\"/>\n<text text-anchor=\"middle\" x=\"306\" y=\"-52.8\" font-family=\"Helvetica,sans-Serif\" font-size=\"14.00\" fill=\"#000000\">entropy = 0.0</text>\n<text text-anchor=\"middle\" x=\"306\" y=\"-37.8\" font-family=\"Helvetica,sans-Serif\" font-size=\"14.00\" fill=\"#000000\">samples = 4</text>\n<text text-anchor=\"middle\" x=\"306\" y=\"-22.8\" font-family=\"Helvetica,sans-Serif\" font-size=\"14.00\" fill=\"#000000\">value = [0, 4]</text>\n<text text-anchor=\"middle\" x=\"306\" y=\"-7.8\" font-family=\"Helvetica,sans-Serif\" font-size=\"14.00\" fill=\"#000000\">class = 生存</text>\n</g>\n<!-- 5&#45;&gt;6 -->\n<g id=\"edge6\" class=\"edge\">\n<title>5&#45;&gt;6</title>\n<path fill=\"none\" stroke=\"#000000\" d=\"M351.1899,-103.9815C345.4331,-95.0666 339.3404,-85.6313 333.5559,-76.6734\"/>\n<polygon fill=\"#000000\" stroke=\"#000000\" points=\"336.4904,-74.7658 328.1254,-68.2637 330.6099,-78.5631 336.4904,-74.7658\"/>\n</g>\n<!-- 7 -->\n<g id=\"node8\" class=\"node\">\n<title>7</title>\n<path fill=\"#f5cdb0\" stroke=\"#000000\" d=\"M481,-68C481,-68 387,-68 387,-68 381,-68 375,-62 375,-56 375,-56 375,-12 375,-12 375,-6 381,0 387,0 387,0 481,0 481,0 487,0 493,-6 493,-12 493,-12 493,-56 493,-56 493,-62 487,-68 481,-68\"/>\n<text text-anchor=\"middle\" x=\"434\" y=\"-52.8\" font-family=\"Helvetica,sans-Serif\" font-size=\"14.00\" fill=\"#000000\">entropy = 0.954</text>\n<text text-anchor=\"middle\" x=\"434\" y=\"-37.8\" font-family=\"Helvetica,sans-Serif\" font-size=\"14.00\" fill=\"#000000\">samples = 16</text>\n<text text-anchor=\"middle\" x=\"434\" y=\"-22.8\" font-family=\"Helvetica,sans-Serif\" font-size=\"14.00\" fill=\"#000000\">value = [10, 6]</text>\n<text text-anchor=\"middle\" x=\"434\" y=\"-7.8\" font-family=\"Helvetica,sans-Serif\" font-size=\"14.00\" fill=\"#000000\">class = 死亡</text>\n</g>\n<!-- 5&#45;&gt;7 -->\n<g id=\"edge7\" class=\"edge\">\n<title>5&#45;&gt;7</title>\n<path fill=\"none\" stroke=\"#000000\" d=\"M398.8523,-103.9815C403.2375,-95.2504 407.8733,-86.0202 412.289,-77.2281\"/>\n<polygon fill=\"#000000\" stroke=\"#000000\" points=\"415.4308,-78.7708 416.7913,-68.2637 409.1754,-75.6291 415.4308,-78.7708\"/>\n</g>\n<!-- 9 -->\n<g id=\"node10\" class=\"node\">\n<title>9</title>\n<path fill=\"#fae6d7\" stroke=\"#000000\" d=\"M676,-187C676,-187 582,-187 582,-187 576,-187 570,-181 570,-175 570,-175 570,-116 570,-116 570,-110 576,-104 582,-104 582,-104 676,-104 676,-104 682,-104 688,-110 688,-116 688,-116 688,-175 688,-175 688,-181 682,-187 676,-187\"/>\n<text text-anchor=\"middle\" x=\"629\" y=\"-171.8\" font-family=\"Helvetica,sans-Serif\" font-size=\"14.00\" fill=\"#000000\">子供の数 &lt;= 1.5</text>\n<text text-anchor=\"middle\" x=\"629\" y=\"-156.8\" font-family=\"Helvetica,sans-Serif\" font-size=\"14.00\" fill=\"#000000\">entropy = 0.991</text>\n<text text-anchor=\"middle\" x=\"629\" y=\"-141.8\" font-family=\"Helvetica,sans-Serif\" font-size=\"14.00\" fill=\"#000000\">samples = 9</text>\n<text text-anchor=\"middle\" x=\"629\" y=\"-126.8\" font-family=\"Helvetica,sans-Serif\" font-size=\"14.00\" fill=\"#000000\">value = [5, 4]</text>\n<text text-anchor=\"middle\" x=\"629\" y=\"-111.8\" font-family=\"Helvetica,sans-Serif\" font-size=\"14.00\" fill=\"#000000\">class = 死亡</text>\n</g>\n<!-- 8&#45;&gt;9 -->\n<g id=\"edge9\" class=\"edge\">\n<title>8&#45;&gt;9</title>\n<path fill=\"none\" stroke=\"#000000\" d=\"M629,-222.8796C629,-214.6838 629,-205.9891 629,-197.5013\"/>\n<polygon fill=\"#000000\" stroke=\"#000000\" points=\"632.5001,-197.298 629,-187.2981 625.5001,-197.2981 632.5001,-197.298\"/>\n</g>\n<!-- 12 -->\n<g id=\"node13\" class=\"node\">\n<title>12</title>\n<path fill=\"#e89050\" stroke=\"#000000\" d=\"M863,-187C863,-187 777,-187 777,-187 771,-187 765,-181 765,-175 765,-175 765,-116 765,-116 765,-110 771,-104 777,-104 777,-104 863,-104 863,-104 869,-104 875,-110 875,-116 875,-116 875,-175 875,-175 875,-181 869,-187 863,-187\"/>\n<text text-anchor=\"middle\" x=\"820\" y=\"-171.8\" font-family=\"Helvetica,sans-Serif\" font-size=\"14.00\" fill=\"#000000\">年齢 &lt;= 22.5</text>\n<text text-anchor=\"middle\" x=\"820\" y=\"-156.8\" font-family=\"Helvetica,sans-Serif\" font-size=\"14.00\" fill=\"#000000\">entropy = 0.48</text>\n<text text-anchor=\"middle\" x=\"820\" y=\"-141.8\" font-family=\"Helvetica,sans-Serif\" font-size=\"14.00\" fill=\"#000000\">samples = 58</text>\n<text text-anchor=\"middle\" x=\"820\" y=\"-126.8\" font-family=\"Helvetica,sans-Serif\" font-size=\"14.00\" fill=\"#000000\">value = [52, 6]</text>\n<text text-anchor=\"middle\" x=\"820\" y=\"-111.8\" font-family=\"Helvetica,sans-Serif\" font-size=\"14.00\" fill=\"#000000\">class = 死亡</text>\n</g>\n<!-- 8&#45;&gt;12 -->\n<g id=\"edge12\" class=\"edge\">\n<title>8&#45;&gt;12</title>\n<path fill=\"none\" stroke=\"#000000\" d=\"M688.1256,-227.6626C709.6943,-214.2245 734.1734,-198.9731 756.1359,-185.2896\"/>\n<polygon fill=\"#000000\" stroke=\"#000000\" points=\"758.0997,-188.1899 764.7364,-179.9313 754.3981,-182.2487 758.0997,-188.1899\"/>\n</g>\n<!-- 10 -->\n<g id=\"node11\" class=\"node\">\n<title>10</title>\n<path fill=\"#6ab6ec\" stroke=\"#000000\" d=\"M617,-68C617,-68 523,-68 523,-68 517,-68 511,-62 511,-56 511,-56 511,-12 511,-12 511,-6 517,0 523,0 523,0 617,0 617,0 623,0 629,-6 629,-12 629,-12 629,-56 629,-56 629,-62 623,-68 617,-68\"/>\n<text text-anchor=\"middle\" x=\"570\" y=\"-52.8\" font-family=\"Helvetica,sans-Serif\" font-size=\"14.00\" fill=\"#000000\">entropy = 0.722</text>\n<text text-anchor=\"middle\" x=\"570\" y=\"-37.8\" font-family=\"Helvetica,sans-Serif\" font-size=\"14.00\" fill=\"#000000\">samples = 5</text>\n<text text-anchor=\"middle\" x=\"570\" y=\"-22.8\" font-family=\"Helvetica,sans-Serif\" font-size=\"14.00\" fill=\"#000000\">value = [1, 4]</text>\n<text text-anchor=\"middle\" x=\"570\" y=\"-7.8\" font-family=\"Helvetica,sans-Serif\" font-size=\"14.00\" fill=\"#000000\">class = 生存</text>\n</g>\n<!-- 9&#45;&gt;10 -->\n<g id=\"edge10\" class=\"edge\">\n<title>9&#45;&gt;10</title>\n<path fill=\"none\" stroke=\"#000000\" d=\"M607.0306,-103.9815C602.4105,-95.2504 597.5264,-86.0202 592.874,-77.2281\"/>\n<polygon fill=\"#000000\" stroke=\"#000000\" points=\"595.9013,-75.4655 588.1306,-68.2637 589.7141,-78.7395 595.9013,-75.4655\"/>\n</g>\n<!-- 11 -->\n<g id=\"node12\" class=\"node\">\n<title>11</title>\n<path fill=\"#e58139\" stroke=\"#000000\" d=\"M736.5,-68C736.5,-68 659.5,-68 659.5,-68 653.5,-68 647.5,-62 647.5,-56 647.5,-56 647.5,-12 647.5,-12 647.5,-6 653.5,0 659.5,0 659.5,0 736.5,0 736.5,0 742.5,0 748.5,-6 748.5,-12 748.5,-12 748.5,-56 748.5,-56 748.5,-62 742.5,-68 736.5,-68\"/>\n<text text-anchor=\"middle\" x=\"698\" y=\"-52.8\" font-family=\"Helvetica,sans-Serif\" font-size=\"14.00\" fill=\"#000000\">entropy = 0.0</text>\n<text text-anchor=\"middle\" x=\"698\" y=\"-37.8\" font-family=\"Helvetica,sans-Serif\" font-size=\"14.00\" fill=\"#000000\">samples = 4</text>\n<text text-anchor=\"middle\" x=\"698\" y=\"-22.8\" font-family=\"Helvetica,sans-Serif\" font-size=\"14.00\" fill=\"#000000\">value = [4, 0]</text>\n<text text-anchor=\"middle\" x=\"698\" y=\"-7.8\" font-family=\"Helvetica,sans-Serif\" font-size=\"14.00\" fill=\"#000000\">class = 死亡</text>\n</g>\n<!-- 9&#45;&gt;11 -->\n<g id=\"edge11\" class=\"edge\">\n<title>9&#45;&gt;11</title>\n<path fill=\"none\" stroke=\"#000000\" d=\"M654.6931,-103.9815C660.1531,-95.1585 665.9284,-85.8258 671.4207,-76.9506\"/>\n<polygon fill=\"#000000\" stroke=\"#000000\" points=\"674.5104,-78.609 676.7965,-68.2637 668.558,-74.9254 674.5104,-78.609\"/>\n</g>\n<!-- 13 -->\n<g id=\"node14\" class=\"node\">\n<title>13</title>\n<path fill=\"#e58139\" stroke=\"#000000\" d=\"M861.5,-68C861.5,-68 778.5,-68 778.5,-68 772.5,-68 766.5,-62 766.5,-56 766.5,-56 766.5,-12 766.5,-12 766.5,-6 772.5,0 778.5,0 778.5,0 861.5,0 861.5,0 867.5,0 873.5,-6 873.5,-12 873.5,-12 873.5,-56 873.5,-56 873.5,-62 867.5,-68 861.5,-68\"/>\n<text text-anchor=\"middle\" x=\"820\" y=\"-52.8\" font-family=\"Helvetica,sans-Serif\" font-size=\"14.00\" fill=\"#000000\">entropy = 0.0</text>\n<text text-anchor=\"middle\" x=\"820\" y=\"-37.8\" font-family=\"Helvetica,sans-Serif\" font-size=\"14.00\" fill=\"#000000\">samples = 17</text>\n<text text-anchor=\"middle\" x=\"820\" y=\"-22.8\" font-family=\"Helvetica,sans-Serif\" font-size=\"14.00\" fill=\"#000000\">value = [17, 0]</text>\n<text text-anchor=\"middle\" x=\"820\" y=\"-7.8\" font-family=\"Helvetica,sans-Serif\" font-size=\"14.00\" fill=\"#000000\">class = 死亡</text>\n</g>\n<!-- 12&#45;&gt;13 -->\n<g id=\"edge13\" class=\"edge\">\n<title>12&#45;&gt;13</title>\n<path fill=\"none\" stroke=\"#000000\" d=\"M820,-103.9815C820,-95.618 820,-86.7965 820,-78.3409\"/>\n<polygon fill=\"#000000\" stroke=\"#000000\" points=\"823.5001,-78.2636 820,-68.2637 816.5001,-78.2637 823.5001,-78.2636\"/>\n</g>\n<!-- 14 -->\n<g id=\"node15\" class=\"node\">\n<title>14</title>\n<path fill=\"#e9975b\" stroke=\"#000000\" d=\"M998,-68C998,-68 904,-68 904,-68 898,-68 892,-62 892,-56 892,-56 892,-12 892,-12 892,-6 898,0 904,0 904,0 998,0 998,0 1004,0 1010,-6 1010,-12 1010,-12 1010,-56 1010,-56 1010,-62 1004,-68 998,-68\"/>\n<text text-anchor=\"middle\" x=\"951\" y=\"-52.8\" font-family=\"Helvetica,sans-Serif\" font-size=\"14.00\" fill=\"#000000\">entropy = 0.601</text>\n<text text-anchor=\"middle\" x=\"951\" y=\"-37.8\" font-family=\"Helvetica,sans-Serif\" font-size=\"14.00\" fill=\"#000000\">samples = 41</text>\n<text text-anchor=\"middle\" x=\"951\" y=\"-22.8\" font-family=\"Helvetica,sans-Serif\" font-size=\"14.00\" fill=\"#000000\">value = [35, 6]</text>\n<text text-anchor=\"middle\" x=\"951\" y=\"-7.8\" font-family=\"Helvetica,sans-Serif\" font-size=\"14.00\" fill=\"#000000\">class = 死亡</text>\n</g>\n<!-- 12&#45;&gt;14 -->\n<g id=\"edge14\" class=\"edge\">\n<title>12&#45;&gt;14</title>\n<path fill=\"none\" stroke=\"#000000\" d=\"M868.7796,-103.9815C879.9015,-94.5151 891.7128,-84.462 902.8099,-75.0168\"/>\n<polygon fill=\"#000000\" stroke=\"#000000\" points=\"905.3975,-77.4105 910.744,-68.2637 900.8604,-72.08 905.3975,-77.4105\"/>\n</g>\n</g>\n</svg>\n"
          },
          "metadata": {
            "tags": []
          },
          "execution_count": 8
        }
      ]
    },
    {
      "cell_type": "markdown",
      "metadata": {
        "id": "EKkH3bCSYgqQ"
      },
      "source": [
        "訓練例そのもので評価していますが、正解率は86％しかありません。これは最初の例がデータ16個であったのに対し、データが100と増えており、決定木の段数を３段に制限しているためです。\n",
        "\n",
        "決定木を見ると、一番下のノードでも、value が[1,4],[10,6]のように、片方が０とはなっていません。つまり、下まできても生存例と死亡例が混在するということです。\n",
        "\n",
        "つまり、タイタニック号の悲劇での生死の分かれ目は３つの条件程度では決められないわけです。\n",
        "\n",
        "上の決定木の概要をまとめておきます。 \n",
        "(1段目)まず性別で男女に分ける。   \n",
        "(2段目左)左は女性ですが、女性は33人うち11人死亡22人生存です。女性の場合は、船室等級を判定、１，２等は左の枝、２等船室は右。   \n",
        "(3段目1）女性で１か２等船室の場合です。この場合、最後に船賃が22以下かそうでないかで分かれます。22以下の場合は生存者４、死者１で、生死は確定しません。あえて推測を求められれば、生存と答えることになります。   \n",
        "(3段目2）女性で３等船室の場合です。船賃が 7.88 をしきい値として少ないか多いかで振り分けです。7.88 以下の人は生存確定。それを超える場合は、死亡例が10、生存例が６。敢えてどちらかと言えば、死亡となります。      \n",
        "(2段目右）右は男性の場合です。男性はまず、年齢が18歳以下か19歳以上かでわけます。    \n",
        "(3段目3）男性で18歳以下の場合です。この場合、同室の子供が１以下か2以上かでわけます。1以下の場合は５例あり、内４例は生存ですので、生存確率が高い。子供が２以上の場合は４例あり、皆死亡です。男性で18歳以下、子供の数が多い場合は死亡という判定となります。    \n",
        "(3段目4）男性で19歳以上の場合、さらに年齢で、22歳までと23歳以上とに分けます。22歳まで、つまり、19歳～22歳の男性は全員死亡。23歳以上の男性は41人中35人が死亡、6人が生存でした。   \n",
        "結局男性はほとんど死亡で、生存と判定されるのは、18歳以下で子供がいないか1人の場合だけになります。\n"
      ]
    },
    {
      "cell_type": "markdown",
      "metadata": {
        "id": "8yQbnyL-c7Wh"
      },
      "source": [
        "試しに max_depth をもっと増やしてみましょう。"
      ]
    },
    {
      "cell_type": "code",
      "metadata": {
        "colab": {
          "base_uri": "https://localhost:8080/"
        },
        "id": "zcENY-fdNLFw",
        "outputId": "f35d2ffa-1b05-4334-a4d9-6d7a52314bf3"
      },
      "source": [
        "clf,c = ds_predict(DSTART=0,DNUMBER=400,TSTART=0,TNUMBER=400,showresult=True,max_depth=15)"
      ],
      "execution_count": 13,
      "outputs": [
        {
          "output_type": "stream",
          "text": [
            "訓練データは0番から400個\n",
            "テストデータは0番から400個\n",
            "全正解率 95.50％\n",
            "死者242名中、正しく予想した割合は 100.00％\n",
            "生存者158名中、正しく予想した割合は 88.61％\n"
          ],
          "name": "stdout"
        }
      ]
    },
    {
      "cell_type": "markdown",
      "metadata": {
        "id": "hEu3GGGBdA-e"
      },
      "source": [
        "15段で死者に関しては100％、生存者は9割近い正解率となりました。"
      ]
    },
    {
      "cell_type": "markdown",
      "metadata": {
        "id": "7HOru2i-dXyY"
      },
      "source": [
        "同じ訓練データで、未知データである400番以降400人の生死予測をしてみます。"
      ]
    },
    {
      "cell_type": "code",
      "metadata": {
        "colab": {
          "base_uri": "https://localhost:8080/"
        },
        "id": "ZhlNaFxQbuFc",
        "outputId": "772110ac-763b-44ba-f682-512e29a68c54"
      },
      "source": [
        "clf,c = ds_predict(DSTART=0,DNUMBER=400,TSTART=400,TNUMBER=400,showresult=True,max_depth=15)"
      ],
      "execution_count": 14,
      "outputs": [
        {
          "output_type": "stream",
          "text": [
            "訓練データは0番から400個\n",
            "テストデータは400番から400個\n",
            "全正解率 76.25％\n",
            "死者247名中、正しく予想した割合は 82.19％\n",
            "生存者153名中、正しく予想した割合は 66.67％\n"
          ],
          "name": "stdout"
        }
      ]
    },
    {
      "cell_type": "markdown",
      "metadata": {
        "id": "ru8FbNsSd2eO"
      },
      "source": [
        "同じ訓練データ、テストデータで、max_depth=3 としてみます。"
      ]
    },
    {
      "cell_type": "code",
      "metadata": {
        "colab": {
          "base_uri": "https://localhost:8080/"
        },
        "id": "1nvsP51KcIhd",
        "outputId": "37e97fab-0338-4e2f-c491-76a68e099586"
      },
      "source": [
        "clf,c = ds_predict(DSTART=0,DNUMBER=400,TSTART=400,TNUMBER=400,showresult=True,max_depth=3)"
      ],
      "execution_count": 15,
      "outputs": [
        {
          "output_type": "stream",
          "text": [
            "訓練データは0番から400個\n",
            "テストデータは400番から400個\n",
            "全正解率 78.25％\n",
            "死者247名中、正しく予想した割合は 87.45％\n",
            "生存者153名中、正しく予想した割合は 63.40％\n"
          ],
          "name": "stdout"
        }
      ]
    },
    {
      "cell_type": "markdown",
      "metadata": {
        "id": "68P_VyCveAJG"
      },
      "source": [
        "16段の決定木よりも、3段の決定木の方が勝るという不思議な結果となります。\n",
        "\n",
        "訓練データとテストデータが別の場合、こういうことが起こるのは不思議ではありません。これは、16段では訓練データに**オーバフィッティング**している、**過学習**が起こっているということです。\n",
        "\n",
        "# 課題\n",
        "\n",
        "- DSTART=任意, DNUMBER=100, TSTART=400, TNUMBER=400, max_depth=3 という条件で２つ決定木を作り、結果を報告する。\n",
        "\n",
        "-- 実験条件   \n",
        "-- 正解率（全体、死者、生存者）   \n",
        "-- 決定木   \n",
        "-- それぞれの決定木の判定方法の概要を言葉で説明\n",
        "\n"
      ]
    }
  ]
}