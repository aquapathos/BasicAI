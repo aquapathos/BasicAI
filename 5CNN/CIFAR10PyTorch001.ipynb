{
  "cells": [
    {
      "cell_type": "markdown",
      "metadata": {
        "id": "view-in-github",
        "colab_type": "text"
      },
      "source": [
        "<a href=\"https://colab.research.google.com/github/aquapathos/BasicAI/blob/master/5CNN/CIFAR10PyTorch001.ipynb\" target=\"_parent\"><img src=\"https://colab.research.google.com/assets/colab-badge.svg\" alt=\"Open In Colab\"/></a>"
      ]
    },
    {
      "cell_type": "markdown",
      "source": [
        "<font color=red>ランタイムメニューで「ランタイムのタイプを変更」を開き、「ハードウェアアクセラレータ」が**GPU**となっていることを確認してください。なっていないなら**GPU**に切り替え、次のセルを実行してください。</font>\n",
        "\n",
        "次のセルを実行してください（▶マークをクリックするか、Shift＋Enter）\n",
        "\n"
      ],
      "metadata": {
        "id": "AtTcwnMeBSCB"
      }
    },
    {
      "cell_type": "code",
      "source": [
        "#@title\n",
        "import datetime\n",
        "print(datetime.datetime.now())\n",
        "\n",
        "# 動作環境の確認\n",
        "import torch,os\n",
        "device = torch.device('cuda:0' if torch.cuda.is_available() else 'cpu')\n",
        "\n",
        "if device.type == 'cpu':\n",
        "  print('このランタイムはCPUのみです。GPUによる機械学習の高速化は利用できません。')\n",
        "  batch_size = 4 # バッチサイズ　データ数いくつごとにモデル修正するか\n",
        "  EPOCH = 2 # エポック（＝全データをモデル修正に１回ずつ使う）を２回繰り返す\n",
        "  EXTEPOCH = 3 # model3 の追加学習\n",
        "  workers = 2 # 並列処理するときの並列実行の数\n",
        "  N_MID=32 # model3 の後半の畳み込み層のノード数\n",
        "else:\n",
        "  print(f'このランタイムはGPU {torch.cuda.get_device_name()}が利用可能です。')\n",
        "  os.environ['CUDA_LAUNCH_BLOCKING'] = \"1\"   # device side error が出る場合があるので同期を有効にしておく。（デバッグ用）\n",
        "  batch_size = 8 # バッチサイズ　データ数いくつごとにモデル修正するか\n",
        "  EPOCH = 5 # エポック（＝全データをモデル修正に５回ずつ使う）を５回繰り返す\n",
        "  EXTEPOCH=10 # model3 の追加学習\n",
        "  workers = 1 # 並列処理するときの並列実行の数\n",
        "  N_MID=64 # model3 の後半畳み込み層のノード数"
      ],
      "metadata": {
        "colab": {
          "base_uri": "https://localhost:8080/"
        },
        "id": "eAVM9-ASRcur",
        "outputId": "9b82c8dc-2c5b-4ef2-a9d9-8e5dd327ba82",
        "cellView": "form"
      },
      "execution_count": 3,
      "outputs": [
        {
          "output_type": "stream",
          "name": "stdout",
          "text": [
            "2022-08-15 10:29:20.298045\n",
            "このランタイムはGPU Tesla P100-PCIE-16GBが利用可能です。\n"
          ]
        }
      ]
    },
    {
      "cell_type": "markdown",
      "metadata": {
        "id": "qEfwOxDSdIL2"
      },
      "source": [
        "# CIFAR-10 にチャレンジ\n",
        "(参考）[CIFAR-10データセットの日本語による解説](https://atmarkit.itmedia.co.jp/ait/articles/2006/10/news021.html)\n",
        "\n",
        "## CIFAR-10\n",
        "\n",
        "![](https://pytorch.org/tutorials/_images/cifar10.png)\n",
        "\n",
        "CIFAR-10 はAlex Krizhevsky, Vinod Nair, Geoffrey Hinton によって収集された画像データセットで、画像認識のための機械学習の研究や学習でよく取り上げられます。\n",
        "\n",
        "このデータセットに集められている画像は、縦32×横32ピクセルという小さいカラー画像で、容量の小さいPCでも扱えるのが特徴です。\n",
        "\n",
        "CIFAR-10 には訓練用50000枚、テスト用10000枚、計60000枚の画像が含まれており、\n",
        "- airplane (飛行機)\n",
        "- automobile (自動車）\n",
        "- bird (鳥類）\n",
        "- cat （ネコ)\n",
        "- deer (シカ）\n",
        "- dog （イヌ）\n",
        "- frog （カエル）\n",
        "- horse（ウマ）\n",
        "- ship（船舶）\n",
        "- truck（トラック） \n",
        "\n",
        "のいずれかのラベルがつけられています。\n",
        "\n"
      ]
    },
    {
      "cell_type": "markdown",
      "metadata": {
        "id": "ipfDxuNghX10"
      },
      "source": [
        "# １．データの読み込みと確認\n",
        "　<font color=blue>次のセルを実行してください</font>　コードは非表示にしてありますが、必ず実行してください。"
      ]
    },
    {
      "cell_type": "code",
      "execution_count": 4,
      "metadata": {
        "colab": {
          "base_uri": "https://localhost:8080/",
          "height": 494,
          "referenced_widgets": [
            "d6131e852f30427bbdf8ae9e39d8be2a",
            "f173660caab84027b6d00502db9a1ed3",
            "d6b6c1f2506b4180b81085d6a59538bf",
            "7b9001a007bd4b0c802fe474371c0531",
            "4b8cad7ffa184274ae196f482e145d29",
            "d6be52117c2f4367838465139a9cee9c",
            "98b9e629d06944c698aa07d3ac71d295",
            "35d3f41217cc444d87f7cc8bccd380c4",
            "bc5c5665bfe942b0b2160a1f6a8a7ac4",
            "45a515b6ab494c1c9e4fbaa95145393a",
            "a660e11df22145b5891450cbfa484cf6"
          ]
        },
        "id": "8JDYnjbKtUe1",
        "outputId": "3dc7baa9-0bd2-4a2e-9597-b5d58f2e58f5",
        "cellView": "form"
      },
      "outputs": [
        {
          "output_type": "stream",
          "name": "stdout",
          "text": [
            "Downloading https://www.cs.toronto.edu/~kriz/cifar-10-python.tar.gz to ./data/cifar-10-python.tar.gz\n"
          ]
        },
        {
          "output_type": "display_data",
          "data": {
            "text/plain": [
              "  0%|          | 0/170498071 [00:00<?, ?it/s]"
            ],
            "application/vnd.jupyter.widget-view+json": {
              "version_major": 2,
              "version_minor": 0,
              "model_id": "d6131e852f30427bbdf8ae9e39d8be2a"
            }
          },
          "metadata": {}
        },
        {
          "output_type": "stream",
          "name": "stdout",
          "text": [
            "Extracting ./data/cifar-10-python.tar.gz to ./data\n",
            "Files already downloaded and verified\n"
          ]
        },
        {
          "output_type": "display_data",
          "data": {
            "text/plain": [
              "<Figure size 432x288 with 1 Axes>"
            ],
            "image/png": "[encoded data removed]"
          },
          "metadata": {
            "needs_background": "light"
          }
        },
        {
          "output_type": "display_data",
          "data": {
            "text/plain": [
              "<Figure size 1000x400 with 8 Axes>"
            ],
            "image/png": "[encoded data removed]"
          },
          "metadata": {}
        }
      ],
      "source": [
        "#@title  CIFAR10データセットの読み込み\n",
        "import torch\n",
        "import torchvision\n",
        "import torchvision.transforms as transforms\n",
        "import torch.nn as nn\n",
        "import torch.nn.functional as F\n",
        "import torch.optim as optim\n",
        "from torchsummary import summary\n",
        "from torch.utils.tensorboard import SummaryWriter\n",
        "import numpy as np\n",
        "import matplotlib.pyplot as plt\n",
        "import os\n",
        "\n",
        "TESTEPOCH = 1 # 動作確認のためのエポック数\n",
        "\n",
        "classesC10 = ('plane', 'car', 'bird', 'cat',\n",
        "           'deer', 'dog', 'frog', 'horse', 'ship', 'truck')\n",
        "\n",
        "# データ変換の定義　範囲[-1,+1]のテンソル表現への変換\n",
        "transform0 = transforms.Compose(\n",
        "    [transforms.ToTensor(),\n",
        "     transforms.Normalize((0.5, 0.5, 0.5), (0.5, 0.5, 0.5))])\n",
        "\n",
        "# CIFAR10の訓練用データとデータローダ\n",
        "trainsetC10 = torchvision.datasets.CIFAR10(root='./data', train=True,\n",
        "                                        download=True, transform = transform0)\n",
        "trainloaderC10 = torch.utils.data.DataLoader(trainsetC10, batch_size=batch_size,\n",
        "                                          shuffle=True, num_workers=workers)\n",
        "# CIFAR10のテスト用データとデータローダ\n",
        "testsetC10 = torchvision.datasets.CIFAR10(root='./data', train=False,\n",
        "                                        download=True, transform = transform0)\n",
        "testloaderC10 = torch.utils.data.DataLoader(testsetC10, batch_size=batch_size,\n",
        "                                          shuffle=True, num_workers=workers)\n",
        "\n",
        "# 画像を１枚表示する関数\n",
        "def t2np(img):\n",
        "    img = img / 2 + 0.5     # unnormalize\n",
        "    npimg = img.numpy()\n",
        "    return np.transpose(npimg, (1, 2, 0))\n",
        "\n",
        "# データローダからバッチ数分の画像を取り出す。\n",
        "dataiter = iter(trainloaderC10)\n",
        "images, labels = dataiter.next()\n",
        "\n",
        "# 先頭の画像を表示\n",
        "plt.title(\"%s\" % classesC10[labels[0]])\n",
        "plt.imshow(t2np(images[0]))\n",
        "\n",
        "# １バッチ分の画像を並べて表示\n",
        "def plotchr(images,labels,tlabels=[]):\n",
        "    # sns.set_context(\"talk\")   # \"talk\" はタイトルの文字サイズ。　paper <  notebook <  talk <  poster の順にフォントサイズが大きくなる\n",
        "    low = (len(images)-1)//batch_size+1\n",
        "    for i,(image,label) in enumerate(zip(images,labels)):\n",
        "        clabel = classesC10[label]\n",
        "        image = t2np(image)\n",
        "        plt.subplot(1,batch_size,i+1)\n",
        "        plt.xticks([])\n",
        "        plt.yticks([])\n",
        "        if len(tlabels) > 0:\n",
        "          plt.title(f\"{clabel}/{classesC10[tlabels[i]]}\") \n",
        "        else:\n",
        "          plt.title(\"%s\" % clabel) \n",
        "        plt.imshow(image,cmap=plt.cm.gray_r)\n",
        "plt.figure(figsize=(10,4),dpi=100)\n",
        "plotchr(images,labels,tlabels=[])"
      ]
    },
    {
      "cell_type": "markdown",
      "metadata": {
        "id": "b9NWL3ewi7t9"
      },
      "source": [
        "# ２．ヘルパー関数の定義\n",
        "　<font color=blue>次のセルを実行してください。</font>　　コードは非表示にしてあります"
      ]
    },
    {
      "cell_type": "code",
      "execution_count": 5,
      "metadata": {
        "id": "2_I3UUXdhQyG",
        "cellView": "form"
      },
      "outputs": [],
      "source": [
        "#@title  ヘルパー関数の定義 train,, recognitionResult \n",
        "from torch.utils.tensorboard import SummaryWriter\n",
        "writer = SummaryWriter(log_dir=\"./logs\")\n",
        "\n",
        "# 学習ヘルパー関数\n",
        "# 学習の実行\n",
        "def train(model, dataloader, optimizer, epochs=EPOCH,lastepoch=0,label=\"loss\"):\n",
        "    for epoch in range(lastepoch,epochs,1):  # 全データをEPOCH回学習に利用したら終わり\n",
        "        running_loss = 0.0\n",
        "        accuracy = 0\n",
        "        total = 0\n",
        "        r_total = 0\n",
        "        for i, data in enumerate(dataloader, 0):\n",
        "            # データセットからバッチサイズ個分のデータ[inputs, labels]を取り出す。\n",
        "            images, labels = data\n",
        "            images = images.to(device)\n",
        "            labels = labels.to(device)\n",
        "\n",
        "            # すべての学習対象パラメータ（結合重み、しきい値）の微係数を０にセット\n",
        "            optimizer.zero_grad()\n",
        "\n",
        "            # forward + backward + optimize\n",
        "            outputs = model(images) # 現モデルを使って出力を求める (forward)\n",
        "            predicted = torch.max(model(images),1)[1]\n",
        "            loss = criterion(outputs, labels) # 誤差を計算\n",
        "            loss.backward() # パラメータを変数として誤差を偏微分(backward)\n",
        "            optimizer.step() # 誤差逆伝搬学習　誤差が減る方向にパラメータを修正 (optimize) \n",
        "\n",
        "            # 統計量の出力\n",
        "            running_loss += loss.item()\n",
        "            accuracy += (predicted == labels).sum().item() # 正解数を積算\n",
        "            total += labels.size(0) # 入力画像数を積算\n",
        "            r_total += labels.size(0) # 入力画像数の積算、1000バッチ区切りで０リセット\n",
        "            if i % 100 == 99:\n",
        "                ndata = len(dataloader.dataset)\n",
        "                writer.add_scalar(label+\"loss\", running_loss/r_total,epoch*ndata+total)\n",
        "                writer.add_scalar(label+\"acc\", accuracy/r_total,epoch*ndata+total)\n",
        "            if i % 1000 == 999:    # 1000 バッチごとに表示\n",
        "                print(f'[{epoch + 1}, {i + 1:5d}] loss: {running_loss /r_total:.3f}  acc:{accuracy/r_total:.3f}  ({accuracy}/{r_total})')\n",
        "                running_loss = 0.0\n",
        "                accuracy = 0\n",
        "                r_total = 0\n",
        "\n",
        "    print('学習完了')\n",
        "\n",
        "# 結果分析用ヘルパー関数\n",
        "from pandas.compat.numpy import np_datetime64_compat\n",
        "import pandas as pd\n",
        "# クロス集計\n",
        "def recognitionResult(model, dataloader, classes=[]):\n",
        "    ndata = 0 #\n",
        "    NCAT = len(classes) \n",
        "    ct1 = np.zeros((NCAT,NCAT),np.uint16) # 認識結果集計表\n",
        "    for data in dataloader:\n",
        "      images, labels = data\n",
        "      ndata += len(images)\n",
        "      # バッチごとに出力を求める\n",
        "      images = images.to(device)\n",
        "      outputs = torch.max(model(images),1)[1]\n",
        "      for i in range(len(labels)):\n",
        "        ct1[labels[i],outputs[i]] += 1\n",
        "    crossT1 = pd.concat([pd.DataFrame(classes,columns=['正解カテゴリ']),pd.DataFrame(ct1,columns=classes)],axis=1)\n",
        "    #crossT1 = pd.concat([crossT1,pd.DataFrame([np.round(1000*crossT1[cat][i]/ndata*NCAT)/10 for i,cat in enumerate(classes)],columns=['正解率'])],axis=1).set_index('正解カテゴリ')\n",
        "    crossT1 = pd.concat([crossT1,pd.DataFrame([np.nan if sum(ct1[i])==0 else np.round(1000*crossT1[cat][i]/np.sum(ct1[i]))/10 for i,cat in enumerate(classes)],columns=['正解率'])],axis=1).set_index('正解カテゴリ')\n",
        "    ccount = 0\n",
        "    for i in range(len(classes)):\n",
        "      ccount += ct1[i,i]\n",
        "    print(f\"正解率は{np.round(1000*ccount/ct1.sum())/10}%\")\n",
        "    return crossT1\n"
      ]
    },
    {
      "cell_type": "markdown",
      "metadata": {
        "id": "QW114f6djhMN"
      },
      "source": [
        "# ３．モデル定義\n",
        "\n",
        "\n",
        "![models0](https://user-images.githubusercontent.com/5820803/184133695-65687a01-f4b8-469f-ada9-016926254d73.png)"
      ]
    },
    {
      "cell_type": "markdown",
      "metadata": {
        "id": "s9VofovMeh4I"
      },
      "source": [
        "次の3つのモデルで機械学習と認識を試してみます。  \n",
        "1. model1 ３層の全結合層からなるバックプロパゲーションネットワーク\n",
        "2. model2 基本的なCNN（畳み込みニューラルネットワーク）\n",
        "3. model3 全結合層をGAP(グローバルアベレージプーリング）層で置き換えたCNN\n",
        "\n",
        "## (1) model1 ３層全結合モデル\n",
        "入力層は3072ノード、中間層16ノード、出力層10ノードとします。\n",
        "入力画像は32✕32画素で各画素がRGBの３成分を持ち、32×32✕3＝3072バイトで表されますので、1つの画素の１つの色成分を１つのニューロンに対応付けます。\n",
        "\n",
        "出力の表現としては、出力とカテゴリを１：１に対応付けるワンホットエンコーディングを採用し、10ノードとします。  \n",
        "　\n",
        "中間層は16としていますが、16と言う数に根拠はありませんので、この数を変えればもっとよい結果が得られるかもしれません。ぜひチャレンジしてみてください。\n",
        "\n",
        "## 参考　出力とカテゴリの対応付け方法\n",
        "##### **数値エンコーディング(numeric encoding)** \n",
        "　　各カテゴリに１つの数値を割り当てる。出力ノードは１つでよい。\n",
        "##### **バイナリエンコーディング(binary encoding)**  \n",
        "　　各カテゴリに１つの２進表現を割り当てる。出力ノード数は2進表現の桁数。  \n",
        "##### **ワンホットエンコーディング (one hot encoding)**    \n",
        "　　カテゴリに１つにノードを１つ対応付ける。出力ノード数はカテゴリ数に一致する。\n",
        "\n",
        " >| カテゴリ|数値エンコーディング | バイナリエンコーディング|ワンホットエンコーディング|  \n",
        " |:---:|:---:|:---:|:---:|\n",
        " |ネコ|0|0 0|1 0 0 0|\n",
        " |イヌ|1|0 1|0 1 0 0|  \n",
        " |家|2|1 0|0 0 1 0|\n",
        " |車|3|1 1|0 0 0 1|\n",
        "||||\n",
        "\n",
        "　<font color=blue>次のセルを実行してください</font>  コードは非表示にしてあります\n",
        "\n"
      ]
    },
    {
      "cell_type": "code",
      "execution_count": 6,
      "metadata": {
        "colab": {
          "base_uri": "https://localhost:8080/"
        },
        "id": "yTEjnedHho3M",
        "outputId": "773bb5bb-b05d-436e-f01f-ee861a2ee103",
        "cellView": "form"
      },
      "outputs": [
        {
          "output_type": "stream",
          "name": "stdout",
          "text": [
            "----------------------------------------------------------------\n",
            "        Layer (type)               Output Shape         Param #\n",
            "================================================================\n",
            "            Linear-1                   [-1, 16]          49,168\n",
            "              ReLU-2                   [-1, 16]               0\n",
            "            Linear-3                   [-1, 10]             170\n",
            "================================================================\n",
            "Total params: 49,338\n",
            "Trainable params: 49,338\n",
            "Non-trainable params: 0\n",
            "----------------------------------------------------------------\n",
            "Input size (MB): 0.01\n",
            "Forward/backward pass size (MB): 0.00\n",
            "Params size (MB): 0.19\n",
            "Estimated Total Size (MB): 0.20\n",
            "----------------------------------------------------------------\n"
          ]
        }
      ],
      "source": [
        "#@title model1\n",
        "# model1\n",
        "class Model1(nn.Module):\n",
        "    def __init__(self):\n",
        "        super().__init__()\n",
        "        self.fc1 = nn.Linear(3*32*32, 16)  # 3x32x32=3072 -> 10\n",
        "        self.relu = nn.ReLU()\n",
        "        self.fc2 = nn.Linear(16, 10)  # 3x32x32=3072 -> 10\n",
        "    def forward(self, x):\n",
        "        x = torch.flatten(x, 1) #3x32x32\n",
        "        x = self.fc1(x)\n",
        "        x = self.relu(x)\n",
        "        x = self.fc2(x)\n",
        "        return x\n",
        "\n",
        "model1 = Model1()\n",
        "model1 = model1.to(device)\n",
        "\n",
        "criterion = nn.CrossEntropyLoss() # カテゴリカルクロスエントロピー\n",
        "optimizer1 = optim.SGD(model1.parameters(), lr=0.001, momentum=0.9) # SGD（確率的勾配降下法）\n",
        "#optimizer = optim.Adam(model1.parameters(), lr=0.001) # \n",
        "\n",
        "# モデル概要\n",
        "summary(model1,(3,32,32))"
      ]
    },
    {
      "cell_type": "markdown",
      "source": [
        "**Total paras: 49,338**  \n",
        "と表示されていることに注目してください。\n",
        "これは、このニューラルネットワークに約5万の調整可能なパラメータがあることを意味しています。数学的に言うと、このモデルの正解率を最大化するという問題は、５万次元の最適化問題であることを意味します。"
      ],
      "metadata": {
        "id": "_pmtpFHd1322"
      }
    },
    {
      "cell_type": "markdown",
      "source": [
        "## (2) model2  基本的なCNN（畳み込みニューラルネットワーク）\n",
        "\n",
        "PyTorchの公式サイトの識別器のプログラムのチュートリアル、[TRAINING A CLASSIFIER](https://pytorch.org/tutorials/beginner/blitz/cifar10_tutorial.html) に掲載されているモデルです。\n",
        "\n",
        "畳み込み層が２つ、プーリング層が２つ、全結合層が３つで構成されています。必要最小限の典型的なCNNのモデルと言えるでしょう。\n",
        "\n",
        "1. 6チャネル、カーネルサイズ５の畳み込み層とプーリング層\n",
        "2. 16チャネル、カーネルサイズ16の畳み込み層とプーリング層\n",
        "3. 3層の全結合層　第1中間層のノード数120、第２中間層のノード数84\n",
        "\n",
        "から成る、最小構成の、典型的な畳み込みニューラルネットワークです。深層学習としてはほぼ最小構成ですが、結構高いパフォーマンスを示します。\n",
        "\n",
        "このネットワークも、チャネル数、全結合層のノード数は、これが最適であるという根拠はありませんし、実際に最適ではありません。\n",
        "\n",
        "　<font color=blue>次のセルを実行してください</font> 　<font color=blue>次のセルを実行してください</font>  コードは非表示にしてあります\n"
      ],
      "metadata": {
        "id": "7bbIYpgvmAN6"
      }
    },
    {
      "cell_type": "code",
      "source": [
        "#@title model2\n",
        "# PyTorch チュートリアル掲載モデル\n",
        "class Model2(nn.Module):\n",
        "    def __init__(self):\n",
        "        super().__init__()\n",
        "        self.conv1 = nn.Conv2d(3, 6, 5)\n",
        "        self.relu = nn.ReLU()\n",
        "        self.pool = nn.MaxPool2d(2, 2)\n",
        "        self.conv2 = nn.Conv2d(6, 16, 5)\n",
        "        self.fc1 = nn.Linear(16 * 5 * 5, 120)\n",
        "        self.fc2 = nn.Linear(120, 84)\n",
        "        self.fc3 = nn.Linear(84, 10)\n",
        "\n",
        "    def forward(self, x):\n",
        "        x = self.conv1(x) # 3x32x32 -> 6x28x28\n",
        "        x = self.relu(x)\n",
        "        x = self.pool(x)  # 6x28x28 -> 6x14x14\n",
        "        x = self.conv2(x) # 6x14x14 -> 16x10x10\n",
        "        x = self.relu(x)\n",
        "        x = self.pool(x)  # 16x10x10 -> 16x5x5\n",
        "        x = torch.flatten(x, 1) # 16x5x5 -> 400\n",
        "        # あるいは、x = x.view(-1,400) # 16x5x5 -> 400\n",
        "        x = self.fc1(x) # 400 -> 120\n",
        "        x = self.relu(x)\n",
        "        x = self.fc2(x) # 120 -> 84\n",
        "        x = self.relu(x)\n",
        "        x = self.fc3(x) # 84 -> 10\n",
        "        return x\n",
        "\n",
        "model2 = Model2()\n",
        "model2 = model2.to(device)\n",
        "\n",
        "criterion = nn.CrossEntropyLoss() # カテゴリカルクロスエントロピー\n",
        "optimizer2 = optim.SGD(model2.parameters(), lr=0.001, momentum=0.9) # SGD（確率的勾配降下法）\n",
        "#optimizer = optim.Adam(model1.parameters(), lr=0.001) # \n",
        "\n",
        "# モデル概要\n",
        "summary(model2,(3,32,32))"
      ],
      "metadata": {
        "colab": {
          "base_uri": "https://localhost:8080/"
        },
        "id": "k8XOAKr01c1p",
        "outputId": "c1f60e34-f4d3-4c79-9bdd-ffb707acc36a",
        "cellView": "form"
      },
      "execution_count": 7,
      "outputs": [
        {
          "output_type": "stream",
          "name": "stdout",
          "text": [
            "----------------------------------------------------------------\n",
            "        Layer (type)               Output Shape         Param #\n",
            "================================================================\n",
            "            Conv2d-1            [-1, 6, 28, 28]             456\n",
            "              ReLU-2            [-1, 6, 28, 28]               0\n",
            "         MaxPool2d-3            [-1, 6, 14, 14]               0\n",
            "            Conv2d-4           [-1, 16, 10, 10]           2,416\n",
            "              ReLU-5           [-1, 16, 10, 10]               0\n",
            "         MaxPool2d-6             [-1, 16, 5, 5]               0\n",
            "            Linear-7                  [-1, 120]          48,120\n",
            "              ReLU-8                  [-1, 120]               0\n",
            "            Linear-9                   [-1, 84]          10,164\n",
            "             ReLU-10                   [-1, 84]               0\n",
            "           Linear-11                   [-1, 10]             850\n",
            "================================================================\n",
            "Total params: 62,006\n",
            "Trainable params: 62,006\n",
            "Non-trainable params: 0\n",
            "----------------------------------------------------------------\n",
            "Input size (MB): 0.01\n",
            "Forward/backward pass size (MB): 0.11\n",
            "Params size (MB): 0.24\n",
            "Estimated Total Size (MB): 0.36\n",
            "----------------------------------------------------------------\n"
          ]
        }
      ]
    },
    {
      "cell_type": "markdown",
      "source": [
        "パラメータ数は約６万２千ですが、その大部分は Linear、つまり全結合層のパラメータです。計算量はパラメータ数に比例すると考えられるので、CNNにおいて畳み込み層の計算量は、そのノード数に比して相対的に小さいことがわかります。"
      ],
      "metadata": {
        "id": "tDxFn1WjPxNA"
      }
    },
    {
      "cell_type": "markdown",
      "source": [
        "## (3) model3  全結合層をGAP(グローバルアベレージプーリング）層で置き換えたCNN\n",
        "\n",
        "model2 からの変更点は以下の通りです。\n",
        "- 畳み込み層を２つ増やす。ただし、カーネルサイズを５から３に減らしてある。\n",
        "- 全結合層をなくし、GAP（Global Average Pooling）に置き換える。\n",
        "- 畳み込み層のノード数を大きく増やした。6,16 -> 64,128,128,128\n",
        "- 活性化関数を ReLU からFReLU に変更。\n",
        "- オプティマイザを SGD から Adam に変更\n",
        "\n",
        "## 解説\n",
        "**GAP(Global Average Pooling)**   \n",
        "１つのチャネル（例えば画像の赤色成分）を、そのチャネルに含まれるノード出力の平均値という１つの値で代表させるという処理を意味します。\n",
        "\n",
        "**プーリング**というのは、画像をNxN画素ごとに区切って、そのNxN個のノードをそれらの出力の平均値に置き換えていく操作です。その区切りサイズＮを最大限に大きくとって画像サイズに一致させた場合がGAPです。\n",
        "\n",
        "model2で示したように、CNNでは最後に全結合の層を3～4層設けるのが定番ですが、これをGAPで置き換えてもパフォーマンスは大きく損なわれないということが経験的にわかってきています。\n",
        "\n",
        "全結合層のパラメータ数は非常に膨大な数になりますが、それをGAPで置き換えるとパラメータ数は数十分の１となり、計算量を大きく削減できます。\n",
        "\n",
        "<font color=blue>次のセルを実行してください</font>\n"
      ],
      "metadata": {
        "id": "2gcvdB9AOjcI"
      }
    },
    {
      "cell_type": "code",
      "execution_count": 8,
      "metadata": {
        "colab": {
          "base_uri": "https://localhost:8080/"
        },
        "id": "vdeTbOwis7KL",
        "outputId": "ab4bd0d9-d4da-4c0f-e124-aa06abae29b8",
        "cellView": "form"
      },
      "outputs": [
        {
          "output_type": "stream",
          "name": "stdout",
          "text": [
            "----------------------------------------------------------------\n",
            "        Layer (type)               Output Shape         Param #\n",
            "================================================================\n",
            "            Conv2d-1            [-1, 6, 32, 32]             168\n",
            "            Conv2d-2            [-1, 6, 32, 32]              60\n",
            "       BatchNorm2d-3            [-1, 6, 32, 32]              12\n",
            "             FReLU-4            [-1, 6, 32, 32]               0\n",
            "            Conv2d-5           [-1, 16, 32, 32]             880\n",
            "            Conv2d-6           [-1, 16, 32, 32]             160\n",
            "       BatchNorm2d-7           [-1, 16, 32, 32]              32\n",
            "             FReLU-8           [-1, 16, 32, 32]               0\n",
            "         MaxPool2d-9           [-1, 16, 16, 16]               0\n",
            "           Conv2d-10           [-1, 64, 16, 16]           9,280\n",
            "           Conv2d-11           [-1, 64, 16, 16]             640\n",
            "      BatchNorm2d-12           [-1, 64, 16, 16]             128\n",
            "            FReLU-13           [-1, 64, 16, 16]               0\n",
            "           Conv2d-14           [-1, 64, 16, 16]          36,928\n",
            "           Conv2d-15           [-1, 64, 16, 16]             640\n",
            "      BatchNorm2d-16           [-1, 64, 16, 16]             128\n",
            "            FReLU-17           [-1, 64, 16, 16]               0\n",
            "        MaxPool2d-18             [-1, 64, 8, 8]               0\n",
            "        AvgPool2d-19             [-1, 64, 1, 1]               0\n",
            "           Linear-20                   [-1, 10]             650\n",
            "================================================================\n",
            "Total params: 49,706\n",
            "Trainable params: 49,706\n",
            "Non-trainable params: 0\n",
            "----------------------------------------------------------------\n",
            "Input size (MB): 0.01\n",
            "Forward/backward pass size (MB): 1.75\n",
            "Params size (MB): 0.19\n",
            "Estimated Total Size (MB): 1.95\n",
            "----------------------------------------------------------------\n"
          ]
        }
      ],
      "source": [
        "#@title model3\n",
        "class FReLU(nn.Module):\n",
        "    def __init__(self, in_c, k=3, s=1, p=1):\n",
        "        super().__init__()\n",
        "        self.f_conv = nn.Conv2d(in_c, in_c, kernel_size=k,stride=s, padding=p,groups=in_c)\n",
        "        self.bn = nn.BatchNorm2d(in_c)\n",
        "\n",
        "    def forward(self, x):\n",
        "        tx = self.bn(self.f_conv(x))\n",
        "        out = torch.max(x,tx)\n",
        "        return out\n",
        "\n",
        "class Model3(nn.Module):\n",
        "    def __init__(self):\n",
        "        super().__init__()\n",
        "        self.n_mid = N_MID\n",
        "        self.conv1 = nn.Conv2d(3,6, 3,padding=1, padding_mode='replicate') \n",
        "        self.frelu = FReLU(6)\n",
        "        self.conv2 = nn.Conv2d(6,16,3, padding=1,padding_mode='replicate')\n",
        "        self.frelu1 = FReLU(16)\n",
        "        self.pool = nn.MaxPool2d(2)  \n",
        "        self.conv3  = nn.Conv2d(16, self.n_mid, 3, padding=1,padding_mode='replicate')\n",
        "        self.frelu2 = FReLU(self.n_mid)\n",
        "        self.conv4  = nn.Conv2d(self.n_mid, self.n_mid, 3,padding=1, padding_mode='replicate')  \n",
        "        self.frelu3 = FReLU(self.n_mid)    \n",
        "        self.gavg = nn.AvgPool2d(8) # グローバルアベレージプーリング \n",
        "        self.layer = nn.Linear(self.n_mid, 10) \n",
        "\n",
        "    def forward(self, x):\n",
        "        x = self.conv1(x) # 3ch -> 6  3x3フィルタで畳み込み 32x32->32x32\n",
        "        x = self.frelu(x)\n",
        "        x = self.conv2(x) # 6ch -> 16  3x3フィルタで畳み込み 32x32 -> 32x32\n",
        "        x = self.frelu1(x)        \n",
        "        x = self.pool(x)  # max pooling  2x2  32x32->16x16\n",
        "        x = self.conv3(x) # 16ch -> n_mid ch 3x3フィルタで畳み込み 16x16 -> 16x16\n",
        "        x = self.frelu2(x) \n",
        "        x = self.conv4(x) # n_mid ch -> n_mid ch 3x3フィルタで畳み込み 16x16 -> 16x16\n",
        "        x = self.frelu3(x)\n",
        "        x = self.pool(x)  # max pooling  2x2  16x16->8x8\n",
        "        x = self.gavg(x)  # n_midノード\n",
        "        x = x.view(-1,self.n_mid)\n",
        "        x = self.layer(x) # n_mid->10\n",
        "        return x\n",
        "\n",
        "\n",
        "''' # 時間に余裕があるなら、こちらの方がよい結果が得られる\n",
        "class Model3(nn.Module):\n",
        "    def __init__(self):\n",
        "        super().__init__()\n",
        "        self.conv1 = nn.Conv2d(3, 64, 3,padding=1, padding_mode='replicate') \n",
        "        self.frelu = FReLU(64)\n",
        "        self.relu = nn.PReLU()\n",
        "        self.conv2 = nn.Conv2d(64,128,3, padding=1,padding_mode='replicate')\n",
        "        self.frelu1 = FReLU(128)\n",
        "        self.pool = nn.MaxPool2d(2)  \n",
        "        self.conv3  = nn.Conv2d(128, 128, 3, padding=1,padding_mode='replicate')\n",
        "        self.frelu2 = FReLU(128)\n",
        "        self.conv4  = nn.Conv2d(128, 128, 3,padding=1, padding_mode='replicate')  \n",
        "        self.frelu3 = FReLU(128)    \n",
        "        self.gavg = nn.AvgPool2d(8) # グローバルアベレージプーリング \n",
        "        self.layer = nn.Linear(128, 10) \n",
        "\n",
        "    def forward(self, x):\n",
        "        x = self.conv1(x) # 3ch -> 64ch  3x3フィルタで畳み込み 32x32->32x32\n",
        "        x = self.frelu(x)\n",
        "        x = self.conv2(x) # 64ch ->128ch  3x3フィルタで畳み込み 32x32 -> 32x32\n",
        "        x = self.frelu1(x)        \n",
        "        x = self.pool(x)  # max pooling  2x2  32x32->16x16\n",
        "        x = self.conv3(x) # 128ch -> 128ch 3x3フィルタで畳み込み 16x16 -> 16x16\n",
        "        x = self.frelu2(x) \n",
        "        x = self.conv4(x) # 128ch -> 128ch 3x3フィルタで畳み込み 16x16 -> 16x16\n",
        "        x = self.frelu3(x)\n",
        "        x = self.pool(x)  # max pooling  2x2  16x16->8x8\n",
        "        x = self.gavg(x)  # 128ノード\n",
        "        x = x.view(-1,128)\n",
        "        x = self.layer(x) # 128->10\n",
        "        return x\n",
        "'''\n",
        "\n",
        "model3 = Model3()\n",
        "model3.to(device)\n",
        "\n",
        "criterion = nn.CrossEntropyLoss() # カテゴリカルクロスエントロピー\n",
        "#optimizer3 = optim.SGD(model3.parameters(), lr=0.001, momentum=0.9) # SGD（確率的勾配降下法）\n",
        "optimizer3 = optim.Adam(model3.parameters(), lr=0.001) # \n",
        "\n",
        "# モデル概要\n",
        "summary(model3,(3,32,32))"
      ]
    },
    {
      "cell_type": "markdown",
      "source": [
        "パラメータ数はおよそ５万（CPUの設定の場合1.6万）です。モデルはmodel1,model2と比べて複雑になっていますが、パラメータ数は大差ありません。\n"
      ],
      "metadata": {
        "id": "PcgbGSU4ogt9"
      }
    },
    {
      "cell_type": "markdown",
      "source": [
        "# ４．学習\n",
        "\n",
        "## (1) model1\n",
        "\n",
        "#### 動作確認　　<font color=blue>次のセルを実行してください</font> "
      ],
      "metadata": {
        "id": "hUK7ZXV18IbK"
      }
    },
    {
      "cell_type": "code",
      "source": [
        "%%time\n",
        "print(\"動作確認\")\n",
        "train(model=model1, dataloader=trainloaderC10,optimizer=optimizer1, epochs=TESTEPOCH, label=\"model1\")"
      ],
      "metadata": {
        "id": "PtgFeNbUji1K"
      },
      "execution_count": null,
      "outputs": []
    },
    {
      "cell_type": "markdown",
      "source": [
        "**loss** 平均誤差（クロスエントロピー誤差） \n",
        "**acc** 正解率　です。    \n",
        "　<font color=blue>次のセルを実行してください</font>\n",
        "\n",
        "<font color=red>（注意）学習(train)は２度実行すると追加学習となります。やり直す場合は、モデル定義のセルからやり直してください.</font>"
      ],
      "metadata": {
        "id": "h7-IaKKekkkj"
      }
    },
    {
      "cell_type": "code",
      "execution_count": null,
      "metadata": {
        "id": "vUROkQ12huRg"
      },
      "outputs": [],
      "source": [
        "%%time\n",
        "train(model=model1, dataloader=trainloaderC10,optimizer=optimizer1, epochs=EPOCH, lastepoch=TESTEPOCH, label=\"model1\")"
      ]
    },
    {
      "cell_type": "markdown",
      "source": [
        "# model1 正解率 クロス集計\n",
        "\n",
        "### (model1-1) 訓練データに対する正解率　<font color=blue>次のセルを実行してください</font>"
      ],
      "metadata": {
        "id": "zVthVEPultRf"
      }
    },
    {
      "cell_type": "code",
      "source": [
        "%%time\n",
        "trainct1 = recognitionResult(model1,trainloaderC10,classes=classesC10)\n",
        "trainct1"
      ],
      "metadata": {
        "id": "3IvOAsEXmMc5"
      },
      "execution_count": null,
      "outputs": []
    },
    {
      "cell_type": "markdown",
      "source": [
        "結果を清書します。<font color=blue>次のセルを実行してください</font>"
      ],
      "metadata": {
        "id": "FbS4uEEz9F3p"
      }
    },
    {
      "cell_type": "code",
      "source": [
        "trainct1"
      ],
      "metadata": {
        "id": "HN0HPUye9HAt"
      },
      "execution_count": null,
      "outputs": []
    },
    {
      "cell_type": "markdown",
      "source": [
        "\n",
        "### (model1-2) テストデータに対する正解率"
      ],
      "metadata": {
        "id": "9larABpGzz66"
      }
    },
    {
      "cell_type": "code",
      "source": [
        "%%time\n",
        "testct1 = recognitionResult(model1,testloaderC10,classes=classesC10)\n",
        "#testct1"
      ],
      "metadata": {
        "id": "OD0Lp7XempAt"
      },
      "execution_count": null,
      "outputs": []
    },
    {
      "cell_type": "markdown",
      "source": [
        "結果を清書します。<font color=blue>次のセルを実行してください</font>"
      ],
      "metadata": {
        "id": "50FS4qYU9BIA"
      }
    },
    {
      "cell_type": "code",
      "source": [
        "testct1"
      ],
      "metadata": {
        "id": "9RQmej_u9CUz"
      },
      "execution_count": null,
      "outputs": []
    },
    {
      "cell_type": "markdown",
      "source": [
        "正解率は訓練データで4割後半、テストデータで4割前半ぐらいになるはずです。"
      ],
      "metadata": {
        "id": "9hSMYNW5m8eq"
      }
    },
    {
      "cell_type": "markdown",
      "source": [
        "## (2) model2\n",
        "　一気に学習させてみましょう。<font color=blue>次のセルを実行してください</font>"
      ],
      "metadata": {
        "id": "-9d5phC4pYiN"
      }
    },
    {
      "cell_type": "code",
      "source": [
        "%%time\n",
        "train(model=model2, dataloader=trainloaderC10,optimizer=optimizer2, epochs=EPOCH, lastepoch=0, label=\"model2\")"
      ],
      "metadata": {
        "id": "P8CwQeBUpXFL"
      },
      "execution_count": null,
      "outputs": []
    },
    {
      "cell_type": "markdown",
      "source": [
        "# model 2 正解率　クロス集計\n",
        "### (model2-1) 訓練データに対する正解率　\n",
        "<font color=blue>次のセルを実行してください</font>"
      ],
      "metadata": {
        "id": "fjqUanhtv68L"
      }
    },
    {
      "cell_type": "code",
      "source": [
        "%%time\n",
        "trainct2 = recognitionResult(model2,trainloaderC10,classes=classesC10)\n",
        "#trainct2"
      ],
      "metadata": {
        "id": "rxeHdBNMvOaf"
      },
      "execution_count": null,
      "outputs": []
    },
    {
      "cell_type": "markdown",
      "source": [
        "結果を清書します。<font color=blue>次のセルを実行してください</font>"
      ],
      "metadata": {
        "id": "Scel-4fX88LY"
      }
    },
    {
      "cell_type": "code",
      "source": [
        "trainct2"
      ],
      "metadata": {
        "id": "65DWLM6M89D7"
      },
      "execution_count": null,
      "outputs": []
    },
    {
      "cell_type": "markdown",
      "source": [
        "### (model2-2) テストデータに対する正解率　　\n",
        "<font color=blue>次のセルを実行してください</font>"
      ],
      "metadata": {
        "id": "vhp3n6nQv9mE"
      }
    },
    {
      "cell_type": "code",
      "source": [
        "%%time\n",
        "testct2 = recognitionResult(model2,testloaderC10,classes=classesC10)\n",
        "#testct2"
      ],
      "metadata": {
        "id": "zGoAJvQBrVKC"
      },
      "execution_count": null,
      "outputs": []
    },
    {
      "cell_type": "markdown",
      "source": [
        "結果を清書します。<font color=blue>次のセルを実行してください</font>"
      ],
      "metadata": {
        "id": "Y0kr8BjO82h4"
      }
    },
    {
      "cell_type": "code",
      "source": [
        "testct2"
      ],
      "metadata": {
        "id": "g9YGMh2C81kw"
      },
      "execution_count": null,
      "outputs": []
    },
    {
      "cell_type": "markdown",
      "source": [
        "このモデルでは正解率が訓練用、テスト用ともに６割を超えるぐらいになるはずです。\n",
        "\n",
        "## (3) model3\n",
        "<font color=blue>次のセルを実行してください</font>\n",
        "\n"
      ],
      "metadata": {
        "id": "kiUgd4mFpWzF"
      }
    },
    {
      "cell_type": "code",
      "execution_count": null,
      "metadata": {
        "id": "WhLUvWj5ehHc"
      },
      "outputs": [],
      "source": [
        "%%time\n",
        "train(model=model3, optimizer=optimizer3, dataloader=trainloaderC10, epochs=EPOCH, lastepoch=0,label=\"model3\")"
      ]
    },
    {
      "cell_type": "markdown",
      "source": [
        "# model3 正解率　クロス集計\n",
        "### (model3-1) 訓練データに対する正解率　\n",
        "<font color=blue>次のセルを実行してください</font>"
      ],
      "metadata": {
        "id": "na_FsWXRzhzY"
      }
    },
    {
      "cell_type": "code",
      "source": [
        "%%time\n",
        "trainct3 = recognitionResult(model3,trainloaderC10,classes=classesC10)\n",
        "#trainct3"
      ],
      "metadata": {
        "id": "2KQMY17Z1Az1"
      },
      "execution_count": null,
      "outputs": []
    },
    {
      "cell_type": "markdown",
      "source": [
        "結果を清書します。<font color=blue>次のセルを実行してください</font>"
      ],
      "metadata": {
        "id": "NitVLyrA8ZBD"
      }
    },
    {
      "cell_type": "code",
      "source": [
        "trainct3"
      ],
      "metadata": {
        "id": "L4CNF1xk8ZxX"
      },
      "execution_count": null,
      "outputs": []
    },
    {
      "cell_type": "markdown",
      "source": [
        "### (model3-2) テストデータに対する正解率　\n",
        "<font color=blue>次のセルを実行してください</font>\n"
      ],
      "metadata": {
        "id": "e9TPdipkzjBx"
      }
    },
    {
      "cell_type": "code",
      "execution_count": null,
      "metadata": {
        "id": "fPB4uYvgFX0e"
      },
      "outputs": [],
      "source": [
        "%%time\n",
        "testct3 = recognitionResult(model3,testloaderC10,classes=classesC10)\n",
        "#testct3"
      ]
    },
    {
      "cell_type": "markdown",
      "source": [
        "結果を清書します。<font color=blue>次のセルを実行してください</font>"
      ],
      "metadata": {
        "id": "nLC-fWl28m_O"
      }
    },
    {
      "cell_type": "code",
      "source": [
        "testct3"
      ],
      "metadata": {
        "id": "x3YQws0g8oVy"
      },
      "execution_count": null,
      "outputs": []
    },
    {
      "cell_type": "markdown",
      "source": [
        "model3 の正解率は訓練用、テスト用どちらのデータでも8割前後になります。"
      ],
      "metadata": {
        "id": "865Rqpjg1jUr"
      }
    },
    {
      "cell_type": "markdown",
      "source": [
        "# <font color=red>学習済みモデルの保存\n",
        "<font color=red>次の実験に必要となりますので、次のセルを実行して学習済みモデルを保存してください。\n",
        "\n",
        "これをやらないと、ここまでの実験をもう一度やり直さないといけなくなります。</font>"
      ],
      "metadata": {
        "id": "gZMfie_f1WhA"
      }
    },
    {
      "cell_type": "markdown",
      "source": [
        "### 手順１　Google Drive との接続\n",
        "Google Drive のマウント\n",
        "\n",
        "1. <font color='blue'>この説明の下のセルを実行する\n",
        "2. アクセス許可の確認ダイアログが出る。「Googleドライブに接続」をクリック。\n",
        "3. アカウントを選択する。\n",
        "4. アクセスリクエストのダイアログに変わる。一番下までスクロールし「許可」をクリック。"
      ],
      "metadata": {
        "id": "Ng3-h67Q6rBv"
      }
    },
    {
      "cell_type": "code",
      "source": [
        "from google.colab import drive\n",
        "drive.mount('/content/drive')"
      ],
      "metadata": {
        "colab": {
          "base_uri": "https://localhost:8080/"
        },
        "id": "LFVarHLq6eN_",
        "outputId": "048823f7-5873-454f-ac47-729812752fdb"
      },
      "execution_count": 25,
      "outputs": [
        {
          "output_type": "stream",
          "name": "stdout",
          "text": [
            "Mounted at /content/drive\n"
          ]
        }
      ]
    },
    {
      "cell_type": "markdown",
      "source": [
        "### 手順2　Google Drive内に保存\n",
        "Google Drive 内に学習済みモデルを保存します。　　[次のセルを実行してください]()"
      ],
      "metadata": {
        "id": "rUWlrOMY7sYQ"
      }
    },
    {
      "cell_type": "code",
      "source": [
        "#@title   学習済みモデルの保存\n",
        "FNAME = 'model3.pth'\n",
        "DIR = '/content/drive/MyDrive/CIFAR10'  \n",
        "GPUPATH = f\"{DIR}/gpu_{N_MID}_{FNAME}\"\n",
        "CPUPATH = f\"{DIR}/cpu_{N_MID}_{FNAME}\"\n",
        "if not os.path.exists(DIR):\n",
        "  os.makedirs(DIR)\n",
        "torch.save(model3.to('cpu').state_dict(), CPUPATH)\n",
        "if device.type == 'cuda':\n",
        "  torch.save(model3.state_dict(), GPUPATH)\n",
        "model3 = model3.to(device)"
      ],
      "metadata": {
        "id": "1ZredQirU2HQ",
        "cellView": "form"
      },
      "execution_count": 26,
      "outputs": []
    },
    {
      "cell_type": "markdown",
      "source": [
        "Google Drive の CIFAR10フォルダに\n",
        "- gpu_XX_model3.pth  - GPUが使える環境用の学習済みモデル\n",
        "- cpu_XX_model3.pth  - GPUが使えない環境用の学習済みモデル\n",
        "が保存されます。\n",
        "\n",
        "XXはGPU環境の場合は64, CPU環境の場合は32です。"
      ],
      "metadata": {
        "id": "Pf9z5tkcVFTe"
      }
    },
    {
      "cell_type": "code",
      "source": [
        "print(datetime.datetime.now())"
      ],
      "metadata": {
        "colab": {
          "base_uri": "https://localhost:8080/"
        },
        "id": "WVA5K78F_eTO",
        "outputId": "dac8a63c-1a41-4365-dea7-54cb0c4021c4"
      },
      "execution_count": 27,
      "outputs": [
        {
          "output_type": "stream",
          "name": "stdout",
          "text": [
            "2022-08-15 10:50:37.835478\n"
          ]
        }
      ]
    },
    {
      "cell_type": "markdown",
      "source": [
        "# 学習曲線の確認\n",
        "\n",
        "<font color=blue>次のセルを実行してください</font>\n",
        "\n",
        "表示には少し時間がかかります。"
      ],
      "metadata": {
        "id": "PllB1PDu2B9v"
      }
    },
    {
      "cell_type": "code",
      "source": [
        "# 学習\n",
        "# Load the TensorBoard notebook extension\n",
        "%load_ext tensorboard\n",
        "%tensorboard --logdir logs"
      ],
      "metadata": {
        "id": "7BSiBY9u1ypP"
      },
      "execution_count": null,
      "outputs": []
    },
    {
      "cell_type": "markdown",
      "source": [
        "<img width=\"442\" alt=\"5epoch\" src=\"https://user-images.githubusercontent.com/5820803/184563227-7ca463c9-766e-4a8e-8a65-aa48c314af31.png\">\n",
        "\n",
        "loss が０、acc は1が最適（全問正解）を意味します。グラフを見ると model3 は 5 EPOCHは、追加学習でもっとよくなりそうです。ちなみに、1epoch とは、全データをもれなく1度ずつ学習に使うことで、CIFAR-10なら５epochで25万回識別を試みたことになります。\n",
        "\n",
        "次の演習で model3 を使いますので、<font color=blue>時間があれば、次のセルを実行して、model3 の追加学習を行ってください。</font>"
      ],
      "metadata": {
        "id": "PbYR8r7W2pJ9"
      }
    },
    {
      "cell_type": "markdown",
      "source": [
        "# 追加学習\n",
        "\n",
        "下のコードを実行すると、model3 をもう5エポック追加学習できます。<font color=red>10分程度時間がかかります。正解率は上がりますが、途中でやめて時間をおいて続きをやるということができませんので、時間に余裕がない場合は、ここで実験を打ち切ってください。</font>\n"
      ],
      "metadata": {
        "id": "zvzUPHgSHgdr"
      }
    },
    {
      "cell_type": "code",
      "source": [
        "%%time\n",
        "model3 = model3.to(device)\n",
        "train(model=model3, optimizer=optimizer3, dataloader=trainloaderC10, epochs=EXTEPOCH, lastepoch=EPOCH,label=\"model3\")\n"
      ],
      "metadata": {
        "id": "-313TI_w3mv6"
      },
      "execution_count": null,
      "outputs": []
    },
    {
      "cell_type": "markdown",
      "source": [
        "追加学習した場合は、正解率の改善を確認しましょう"
      ],
      "metadata": {
        "id": "kl6KEt77AyuU"
      }
    },
    {
      "cell_type": "code",
      "source": [
        "trainct3 = recognitionResult(model3,trainloaderC10,classes=classesC10)\n",
        "#trainct3"
      ],
      "metadata": {
        "colab": {
          "base_uri": "https://localhost:8080/"
        },
        "id": "-lpg_XMXAmhk",
        "outputId": "4b2029c8-3aa5-4cbc-9c14-d6783dd13fde"
      },
      "execution_count": 30,
      "outputs": [
        {
          "output_type": "stream",
          "name": "stdout",
          "text": [
            "正解率は82.2%\n"
          ]
        }
      ]
    },
    {
      "cell_type": "code",
      "source": [
        "trainct3"
      ],
      "metadata": {
        "id": "2kQFLlLMAGVL"
      },
      "execution_count": null,
      "outputs": []
    },
    {
      "cell_type": "code",
      "source": [
        "testct3 = recognitionResult(model3,testloaderC10,classes=classesC10)\n",
        "#testct3"
      ],
      "metadata": {
        "colab": {
          "base_uri": "https://localhost:8080/"
        },
        "id": "6RrPN4tTAa7B",
        "outputId": "26626d4f-b16c-4da4-b1e2-604455520b9f"
      },
      "execution_count": 32,
      "outputs": [
        {
          "output_type": "stream",
          "name": "stdout",
          "text": [
            "正解率は77.0%\n"
          ]
        }
      ]
    },
    {
      "cell_type": "code",
      "source": [
        "testct3"
      ],
      "metadata": {
        "id": "MQoAP9n_AJXn"
      },
      "execution_count": null,
      "outputs": []
    },
    {
      "cell_type": "markdown",
      "source": [
        "追加学習を実施した場合は、次のセルを実行して学習済みモデルを更新して下さい。"
      ],
      "metadata": {
        "id": "mcq7f9JB7Cbp"
      }
    },
    {
      "cell_type": "code",
      "source": [
        "if not os.path.exists(DIR):\n",
        "  os.makedirs(DIR)\n",
        "torch.save(model3.to('cpu').state_dict(), CPUPATH)\n",
        "if device.type == 'cuda':\n",
        "  torch.save(model3.state_dict(), GPUPATH)\n",
        "model3 = model3.to(device)"
      ],
      "metadata": {
        "id": "qHqKhcMs7BsV"
      },
      "execution_count": 34,
      "outputs": []
    },
    {
      "cell_type": "markdown",
      "source": [
        "以上"
      ],
      "metadata": {
        "id": "D-gaQOiU9Y2e"
      }
    },
    {
      "cell_type": "code",
      "source": [
        "print(datetime.datetime.now())"
      ],
      "metadata": {
        "colab": {
          "base_uri": "https://localhost:8080/"
        },
        "id": "_XYYpLHY5_jL",
        "outputId": "fd4e586b-49cc-4876-a30b-e4c9f6e232ba"
      },
      "execution_count": 35,
      "outputs": [
        {
          "output_type": "stream",
          "name": "stdout",
          "text": [
            "2022-08-15 10:58:50.604637\n"
          ]
        }
      ]
    }
  ],
  "metadata": {
    "accelerator": "GPU",
    "colab": {
      "collapsed_sections": [],
      "name": "CIFAR10PyTorch001 ",
      "provenance": [],
      "include_colab_link": true
    },
    "gpuClass": "standard",
    "kernelspec": {
      "display_name": "Python 3",
      "name": "python3"
    },
    "widgets": {
      "application/vnd.jupyter.widget-state+json": {
        "d6131e852f30427bbdf8ae9e39d8be2a": {
          "model_module": "@jupyter-widgets/controls",
          "model_name": "HBoxModel",
          "model_module_version": "1.5.0",
          "state": {
            "_dom_classes": [],
            "_model_module": "@jupyter-widgets/controls",
            "_model_module_version": "1.5.0",
            "_model_name": "HBoxModel",
            "_view_count": null,
            "_view_module": "@jupyter-widgets/controls",
            "_view_module_version": "1.5.0",
            "_view_name": "HBoxView",
            "box_style": "",
            "children": [
              "IPY_MODEL_f173660caab84027b6d00502db9a1ed3",
              "IPY_MODEL_d6b6c1f2506b4180b81085d6a59538bf",
              "IPY_MODEL_7b9001a007bd4b0c802fe474371c0531"
            ],
            "layout": "IPY_MODEL_4b8cad7ffa184274ae196f482e145d29"
          }
        },
        "f173660caab84027b6d00502db9a1ed3": {
          "model_module": "@jupyter-widgets/controls",
          "model_name": "HTMLModel",
          "model_module_version": "1.5.0",
          "state": {
            "_dom_classes": [],
            "_model_module": "@jupyter-widgets/controls",
            "_model_module_version": "1.5.0",
            "_model_name": "HTMLModel",
            "_view_count": null,
            "_view_module": "@jupyter-widgets/controls",
            "_view_module_version": "1.5.0",
            "_view_name": "HTMLView",
            "description": "",
            "description_tooltip": null,
            "layout": "IPY_MODEL_d6be52117c2f4367838465139a9cee9c",
            "placeholder": "​",
            "style": "IPY_MODEL_98b9e629d06944c698aa07d3ac71d295",
            "value": "100%"
          }
        },
        "d6b6c1f2506b4180b81085d6a59538bf": {
          "model_module": "@jupyter-widgets/controls",
          "model_name": "FloatProgressModel",
          "model_module_version": "1.5.0",
          "state": {
            "_dom_classes": [],
            "_model_module": "@jupyter-widgets/controls",
            "_model_module_version": "1.5.0",
            "_model_name": "FloatProgressModel",
            "_view_count": null,
            "_view_module": "@jupyter-widgets/controls",
            "_view_module_version": "1.5.0",
            "_view_name": "ProgressView",
            "bar_style": "success",
            "description": "",
            "description_tooltip": null,
            "layout": "IPY_MODEL_35d3f41217cc444d87f7cc8bccd380c4",
            "max": 170498071,
            "min": 0,
            "orientation": "horizontal",
            "style": "IPY_MODEL_bc5c5665bfe942b0b2160a1f6a8a7ac4",
            "value": 170498071
          }
        },
        "7b9001a007bd4b0c802fe474371c0531": {
          "model_module": "@jupyter-widgets/controls",
          "model_name": "HTMLModel",
          "model_module_version": "1.5.0",
          "state": {
            "_dom_classes": [],
            "_model_module": "@jupyter-widgets/controls",
            "_model_module_version": "1.5.0",
            "_model_name": "HTMLModel",
            "_view_count": null,
            "_view_module": "@jupyter-widgets/controls",
            "_view_module_version": "1.5.0",
            "_view_name": "HTMLView",
            "description": "",
            "description_tooltip": null,
            "layout": "IPY_MODEL_45a515b6ab494c1c9e4fbaa95145393a",
            "placeholder": "​",
            "style": "IPY_MODEL_a660e11df22145b5891450cbfa484cf6",
            "value": " 170498071/170498071 [00:10&lt;00:00, 17263019.74it/s]"
          }
        },
        "4b8cad7ffa184274ae196f482e145d29": {
          "model_module": "@jupyter-widgets/base",
          "model_name": "LayoutModel",
          "model_module_version": "1.2.0",
          "state": {
            "_model_module": "@jupyter-widgets/base",
            "_model_module_version": "1.2.0",
            "_model_name": "LayoutModel",
            "_view_count": null,
            "_view_module": "@jupyter-widgets/base",
            "_view_module_version": "1.2.0",
            "_view_name": "LayoutView",
            "align_content": null,
            "align_items": null,
            "align_self": null,
            "border": null,
            "bottom": null,
            "display": null,
            "flex": null,
            "flex_flow": null,
            "grid_area": null,
            "grid_auto_columns": null,
            "grid_auto_flow": null,
            "grid_auto_rows": null,
            "grid_column": null,
            "grid_gap": null,
            "grid_row": null,
            "grid_template_areas": null,
            "grid_template_columns": null,
            "grid_template_rows": null,
            "height": null,
            "justify_content": null,
            "justify_items": null,
            "left": null,
            "margin": null,
            "max_height": null,
            "max_width": null,
            "min_height": null,
            "min_width": null,
            "object_fit": null,
            "object_position": null,
            "order": null,
            "overflow": null,
            "overflow_x": null,
            "overflow_y": null,
            "padding": null,
            "right": null,
            "top": null,
            "visibility": null,
            "width": null
          }
        },
        "d6be52117c2f4367838465139a9cee9c": {
          "model_module": "@jupyter-widgets/base",
          "model_name": "LayoutModel",
          "model_module_version": "1.2.0",
          "state": {
            "_model_module": "@jupyter-widgets/base",
            "_model_module_version": "1.2.0",
            "_model_name": "LayoutModel",
            "_view_count": null,
            "_view_module": "@jupyter-widgets/base",
            "_view_module_version": "1.2.0",
            "_view_name": "LayoutView",
            "align_content": null,
            "align_items": null,
            "align_self": null,
            "border": null,
            "bottom": null,
            "display": null,
            "flex": null,
            "flex_flow": null,
            "grid_area": null,
            "grid_auto_columns": null,
            "grid_auto_flow": null,
            "grid_auto_rows": null,
            "grid_column": null,
            "grid_gap": null,
            "grid_row": null,
            "grid_template_areas": null,
            "grid_template_columns": null,
            "grid_template_rows": null,
            "height": null,
            "justify_content": null,
            "justify_items": null,
            "left": null,
            "margin": null,
            "max_height": null,
            "max_width": null,
            "min_height": null,
            "min_width": null,
            "object_fit": null,
            "object_position": null,
            "order": null,
            "overflow": null,
            "overflow_x": null,
            "overflow_y": null,
            "padding": null,
            "right": null,
            "top": null,
            "visibility": null,
            "width": null
          }
        },
        "98b9e629d06944c698aa07d3ac71d295": {
          "model_module": "@jupyter-widgets/controls",
          "model_name": "DescriptionStyleModel",
          "model_module_version": "1.5.0",
          "state": {
            "_model_module": "@jupyter-widgets/controls",
            "_model_module_version": "1.5.0",
            "_model_name": "DescriptionStyleModel",
            "_view_count": null,
            "_view_module": "@jupyter-widgets/base",
            "_view_module_version": "1.2.0",
            "_view_name": "StyleView",
            "description_width": ""
          }
        },
        "35d3f41217cc444d87f7cc8bccd380c4": {
          "model_module": "@jupyter-widgets/base",
          "model_name": "LayoutModel",
          "model_module_version": "1.2.0",
          "state": {
            "_model_module": "@jupyter-widgets/base",
            "_model_module_version": "1.2.0",
            "_model_name": "LayoutModel",
            "_view_count": null,
            "_view_module": "@jupyter-widgets/base",
            "_view_module_version": "1.2.0",
            "_view_name": "LayoutView",
            "align_content": null,
            "align_items": null,
            "align_self": null,
            "border": null,
            "bottom": null,
            "display": null,
            "flex": null,
            "flex_flow": null,
            "grid_area": null,
            "grid_auto_columns": null,
            "grid_auto_flow": null,
            "grid_auto_rows": null,
            "grid_column": null,
            "grid_gap": null,
            "grid_row": null,
            "grid_template_areas": null,
            "grid_template_columns": null,
            "grid_template_rows": null,
            "height": null,
            "justify_content": null,
            "justify_items": null,
            "left": null,
            "margin": null,
            "max_height": null,
            "max_width": null,
            "min_height": null,
            "min_width": null,
            "object_fit": null,
            "object_position": null,
            "order": null,
            "overflow": null,
            "overflow_x": null,
            "overflow_y": null,
            "padding": null,
            "right": null,
            "top": null,
            "visibility": null,
            "width": null
          }
        },
        "bc5c5665bfe942b0b2160a1f6a8a7ac4": {
          "model_module": "@jupyter-widgets/controls",
          "model_name": "ProgressStyleModel",
          "model_module_version": "1.5.0",
          "state": {
            "_model_module": "@jupyter-widgets/controls",
            "_model_module_version": "1.5.0",
            "_model_name": "ProgressStyleModel",
            "_view_count": null,
            "_view_module": "@jupyter-widgets/base",
            "_view_module_version": "1.2.0",
            "_view_name": "StyleView",
            "bar_color": null,
            "description_width": ""
          }
        },
        "45a515b6ab494c1c9e4fbaa95145393a": {
          "model_module": "@jupyter-widgets/base",
          "model_name": "LayoutModel",
          "model_module_version": "1.2.0",
          "state": {
            "_model_module": "@jupyter-widgets/base",
            "_model_module_version": "1.2.0",
            "_model_name": "LayoutModel",
            "_view_count": null,
            "_view_module": "@jupyter-widgets/base",
            "_view_module_version": "1.2.0",
            "_view_name": "LayoutView",
            "align_content": null,
            "align_items": null,
            "align_self": null,
            "border": null,
            "bottom": null,
            "display": null,
            "flex": null,
            "flex_flow": null,
            "grid_area": null,
            "grid_auto_columns": null,
            "grid_auto_flow": null,
            "grid_auto_rows": null,
            "grid_column": null,
            "grid_gap": null,
            "grid_row": null,
            "grid_template_areas": null,
            "grid_template_columns": null,
            "grid_template_rows": null,
            "height": null,
            "justify_content": null,
            "justify_items": null,
            "left": null,
            "margin": null,
            "max_height": null,
            "max_width": null,
            "min_height": null,
            "min_width": null,
            "object_fit": null,
            "object_position": null,
            "order": null,
            "overflow": null,
            "overflow_x": null,
            "overflow_y": null,
            "padding": null,
            "right": null,
            "top": null,
            "visibility": null,
            "width": null
          }
        },
        "a660e11df22145b5891450cbfa484cf6": {
          "model_module": "@jupyter-widgets/controls",
          "model_name": "DescriptionStyleModel",
          "model_module_version": "1.5.0",
          "state": {
            "_model_module": "@jupyter-widgets/controls",
            "_model_module_version": "1.5.0",
            "_model_name": "DescriptionStyleModel",
            "_view_count": null,
            "_view_module": "@jupyter-widgets/base",
            "_view_module_version": "1.2.0",
            "_view_name": "StyleView",
            "description_width": ""
          }
        }
      }
    }
  },
  "nbformat": 4,
  "nbformat_minor": 0
}
