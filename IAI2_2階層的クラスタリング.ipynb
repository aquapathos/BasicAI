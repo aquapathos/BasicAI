{
  "nbformat": 4,
  "nbformat_minor": 0,
  "metadata": {
    "colab": {
      "name": "IAI2-2階層的クラスタリング",
      "provenance": [],
      "authorship_tag": "ABX9TyOpEICEGYwtTBf2G4EZafOq",
      "include_colab_link": true
    },
    "kernelspec": {
      "name": "python3",
      "display_name": "Python 3"
    },
    "language_info": {
      "name": "python"
    }
  },
  "cells": [
    {
      "cell_type": "markdown",
      "metadata": {
        "id": "view-in-github",
        "colab_type": "text"
      },
      "source": [
        "<a href=\"https://colab.research.google.com/github/aquapathos/BasicAI/blob/master/IAI2_2%E9%9A%8E%E5%B1%A4%E7%9A%84%E3%82%AF%E3%83%A9%E3%82%B9%E3%82%BF%E3%83%AA%E3%83%B3%E3%82%B0.ipynb\" target=\"_parent\"><img src=\"https://colab.research.google.com/assets/colab-badge.svg\" alt=\"Open In Colab\"/></a>"
      ]
    },
    {
      "cell_type": "markdown",
      "metadata": {
        "id": "Lnog0kOMhk4l"
      },
      "source": [
        "# ライブラリの読み込み\n",
        "\n",
        "次のセルは実行しても何も起こりませんが、最初に1度必ず実行してください。2度実行する必要はありません。"
      ]
    },
    {
      "cell_type": "code",
      "metadata": {
        "id": "hU4Ba3F0hZ_u"
      },
      "source": [
        "from scipy.cluster.hierarchy import linkage, dendrogram\n",
        "from scipy.spatial.distance import pdist\n",
        "from scipy.cluster import hierarchy\n",
        "from scipy.spatial.distance import squareform\n",
        "import numpy as np\n",
        "import matplotlib.pyplot as plt\n",
        "!pip -q install japanize-matplotlib\n",
        "import japanize_matplotlib "
      ],
      "execution_count": 11,
      "outputs": []
    },
    {
      "cell_type": "markdown",
      "metadata": {
        "id": "qAt9JndX0CqM"
      },
      "source": [
        "# 階層的クラスタリングの例\n",
        "\n",
        "データ 1,2,4,5,9,12,14,15 を最短距離を基準として階層的クラスタリングし、デンドログラムを描画するプログラムは次のように書ける。"
      ]
    },
    {
      "cell_type": "code",
      "metadata": {
        "colab": {
          "base_uri": "https://localhost:8080/",
          "height": 343
        },
        "id": "rG73PNVxiBb-",
        "outputId": "eb5d68ed-5712-4eb9-f396-1f78e79d795d"
      },
      "source": [
        "ラベル=[1,2,4,5,9,12,14,15]\n",
        "データ=[[1],[2],[4],[5],[9],[12],[14],[15]]\n",
        "距離行列 = pdist(データ)\n",
        "距離基準 = 'single' # 最短距離\n",
        "階層的クラスタリング結果 = linkage(距離行列,method=距離基準) \n",
        "plt.figure(num=None, figsize=(4, 3), dpi=100)\n",
        "デンドログラム = dendrogram(階層的クラスタリング結果,labels=ラベル,truncate_mode='lastp')\n",
        "plt.title(\"図1 階層的クラスタリングの例\", y=-0.3)"
      ],
      "execution_count": 15,
      "outputs": [
        {
          "output_type": "execute_result",
          "data": {
            "text/plain": [
              "Text(0.5, -0.3, '図1 階層的クラスタリングの例')"
            ]
          },
          "metadata": {
            "tags": []
          },
          "execution_count": 15
        },
        {
          "output_type": "display_data",
          "data": {
            "image/png": "[encoded data removed]",
            "text/plain": [
              "<Figure size 400x300 with 1 Axes>"
            ]
          },
          "metadata": {
            "tags": [],
            "needs_background": "light"
          }
        }
      ]
    },
    {
      "cell_type": "markdown",
      "metadata": {
        "id": "MuuZEkfy2pFA"
      },
      "source": [
        "# 解説\n",
        "## 距離行列の算出  (3行目)\n",
        "\n",
        "`  　距離行列 = pdist(データ)`\n",
        "\n",
        "\n",
        "\n",
        "データのすべての組み合わせについて求めた距離を並べた行列を計算しています。  \n",
        "どんな行列なのか、表示してみます。"
      ]
    },
    {
      "cell_type": "code",
      "metadata": {
        "colab": {
          "base_uri": "https://localhost:8080/"
        },
        "id": "i2zKt6fpxy5g",
        "outputId": "c7cb32ef-f501-4c58-c9eb-81fc77d51c6d"
      },
      "source": [
        "# 距離行列\n",
        "print(距離行列)\n",
        "print(squareform(距離行列))"
      ],
      "execution_count": 16,
      "outputs": [
        {
          "output_type": "stream",
          "text": [
            "[ 1.  3.  4.  8. 11. 13. 14.  2.  3.  7. 10. 12. 13.  1.  5.  8. 10. 11.\n",
            "  4.  7.  9. 10.  3.  5.  6.  2.  3.  1.]\n",
            "[[ 0.  1.  3.  4.  8. 11. 13. 14.]\n",
            " [ 1.  0.  2.  3.  7. 10. 12. 13.]\n",
            " [ 3.  2.  0.  1.  5.  8. 10. 11.]\n",
            " [ 4.  3.  1.  0.  4.  7.  9. 10.]\n",
            " [ 8.  7.  5.  4.  0.  3.  5.  6.]\n",
            " [11. 10.  8.  7.  3.  0.  2.  3.]\n",
            " [13. 12. 10.  9.  5.  2.  0.  1.]\n",
            " [14. 13. 11. 10.  6.  3.  1.  0.]]\n"
          ],
          "name": "stdout"
        }
      ]
    },
    {
      "cell_type": "markdown",
      "metadata": {
        "id": "_EoMzY5S7KYx"
      },
      "source": [
        "## 階層的クラスタリングの実行\n",
        "```距離基準 = 'single' # 最短距離```   \n",
        "```階層的クラスタリング結果 = linkage(距離行列,method=距離基準)```\n",
        "\n"
      ]
    },
    {
      "cell_type": "code",
      "metadata": {
        "colab": {
          "base_uri": "https://localhost:8080/"
        },
        "id": "yAHQem5WvBGQ",
        "outputId": "9961d90f-fda8-4615-fcd8-ed768c607267"
      },
      "source": [
        "pd = linkage(D,method='single') # 最短距離\n",
        "pd"
      ],
      "execution_count": 29,
      "outputs": [
        {
          "output_type": "execute_result",
          "data": {
            "text/plain": [
              "array([[ 0.,  1.,  1.,  2.],\n",
              "       [ 2.,  3.,  1.,  2.],\n",
              "       [ 6.,  7.,  1.,  2.],\n",
              "       [ 8.,  9.,  2.,  4.],\n",
              "       [ 5., 10.,  2.,  3.],\n",
              "       [ 4., 12.,  3.,  4.],\n",
              "       [11., 13.,  4.,  8.]])"
            ]
          },
          "metadata": {
            "tags": []
          },
          "execution_count": 29
        }
      ]
    },
    {
      "cell_type": "code",
      "metadata": {
        "colab": {
          "base_uri": "https://localhost:8080/",
          "height": 268
        },
        "id": "d98bc2Voh9aq",
        "outputId": "6a123201-2eb0-4926-f383-9f4f823f3a27"
      },
      "source": [
        "pd = linkage(D,method='single') # 最短距離\n",
        "dendro = dendrogram(pd,labels=labels,truncate_mode='lastp')"
      ],
      "execution_count": null,
      "outputs": [
        {
          "output_type": "display_data",
          "data": {
            "image/png": "[encoded data removed]",
            "text/plain": [
              "<Figure size 432x288 with 1 Axes>"
            ]
          },
          "metadata": {
            "tags": [],
            "needs_background": "light"
          }
        }
      ]
    },
    {
      "cell_type": "code",
      "metadata": {
        "id": "nHUoikkRtgrk"
      },
      "source": [
        "pd = linkage(D,method='') # 最短距離\n",
        "dendro = dendrogram(pd,labels=labels,truncate_mode='lastp')"
      ],
      "execution_count": null,
      "outputs": []
    },
    {
      "cell_type": "code",
      "metadata": {
        "id": "h7-Ps1e0tgnk"
      },
      "source": [
        ""
      ],
      "execution_count": null,
      "outputs": []
    },
    {
      "cell_type": "code",
      "metadata": {
        "id": "WDDVtzh2tgko"
      },
      "source": [
        ""
      ],
      "execution_count": null,
      "outputs": []
    },
    {
      "cell_type": "markdown",
      "metadata": {
        "id": "c4KZgjldtgQs"
      },
      "source": [
        ""
      ]
    },
    {
      "cell_type": "markdown",
      "metadata": {
        "id": "ABn2dsCOivum"
      },
      "source": [
        ""
      ]
    },
    {
      "cell_type": "code",
      "metadata": {
        "colab": {
          "base_uri": "https://localhost:8080/"
        },
        "id": "A7jVcPaxhjBI",
        "outputId": "062d0399-3620-4d0f-dbf4-857fea15aaa4"
      },
      "source": [
        "X = np.array([x for x in set(np.round(100*np.random.rand(100)).astype('int'))])\n",
        "X = X[:8]\n",
        "X"
      ],
      "execution_count": null,
      "outputs": [
        {
          "output_type": "execute_result",
          "data": {
            "text/plain": [
              "array([ 1,  2,  3,  5,  6, 12, 14, 15])"
            ]
          },
          "metadata": {
            "tags": []
          },
          "execution_count": 3
        }
      ]
    },
    {
      "cell_type": "code",
      "metadata": {
        "id": "1HHW-4myjNgn"
      },
      "source": [
        ""
      ],
      "execution_count": null,
      "outputs": []
    }
  ]
}