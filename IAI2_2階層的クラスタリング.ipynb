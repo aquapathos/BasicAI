{
  "nbformat": 4,
  "nbformat_minor": 0,
  "metadata": {
    "colab": {
      "name": "IAI2_2階層的クラスタリング.ipynb",
      "provenance": [],
      "collapsed_sections": [
        "utQnRMGs7NpH"
      ],
      "include_colab_link": true
    },
    "kernelspec": {
      "name": "python3",
      "display_name": "Python 3"
    },
    "language_info": {
      "name": "python"
    }
  },
  "cells": [
    {
      "cell_type": "markdown",
      "metadata": {
        "id": "view-in-github",
        "colab_type": "text"
      },
      "source": [
        "<a href=\"https://colab.research.google.com/github/aquapathos/BasicAI/blob/master/IAI2_2%E9%9A%8E%E5%B1%A4%E7%9A%84%E3%82%AF%E3%83%A9%E3%82%B9%E3%82%BF%E3%83%AA%E3%83%B3%E3%82%B0.ipynb\" target=\"_parent\"><img src=\"https://colab.research.google.com/assets/colab-badge.svg\" alt=\"Open In Colab\"/></a>"
      ]
    },
    {
      "cell_type": "markdown",
      "metadata": {
        "id": "Lnog0kOMhk4l"
      },
      "source": [
        "# ライブラリの読み込み\n",
        "\n",
        "次のセルは実行しても何も起こりませんが、最初に1度必ず実行してください。2度実行する必要はありません。"
      ]
    },
    {
      "cell_type": "code",
      "metadata": {
        "id": "hU4Ba3F0hZ_u"
      },
      "source": [
        "from scipy.cluster.hierarchy import linkage, dendrogram\n",
        "from scipy.spatial.distance import pdist\n",
        "import pandas as pd\n",
        "from scipy.cluster import hierarchy\n",
        "from scipy.spatial.distance import squareform\n",
        "import numpy as np\n",
        "import matplotlib.pyplot as plt\n",
        "!pip -q install japanize-matplotlib\n",
        "import japanize_matplotlib "
      ],
      "execution_count": null,
      "outputs": []
    },
    {
      "cell_type": "markdown",
      "metadata": {
        "id": "qAt9JndX0CqM"
      },
      "source": [
        "# 階層的クラスタリングの例\n",
        "\n",
        "<img src=\"https://user-images.githubusercontent.com/5820803/128136705-5d2f4f43-a16e-4880-8e30-347b0284fbde.png\" width=600>\n",
        "\n",
        "データ 1,2,4,5,9,12,14,15 を最短距離を基準として階層的クラスタリングし、デンドログラムを描画するプログラムは次のように書けます。"
      ]
    },
    {
      "cell_type": "code",
      "metadata": {
        "id": "1Un80TocqWW4"
      },
      "source": [
        "# データ定義\n",
        "ラベル=[\"A(1)\",\"B(2)\",\"C(4)\",\"D(5)\",\"E(9)\",\"F(12)\",\"G(14)\",\"H(15)\"]\n",
        "data=[[1],[2],[4],[5],[9],[12],[14],[15]]\n",
        "\n",
        "# 階層的クラスタリングの実行\n",
        "clusters = linkage(data,method='single') # 'single' # single:最短距離,  ward:ウォード法、centroid:重心法\n",
        "\n",
        "# 描画\n",
        "plt.figure(num=None, figsize=(4, 3), dpi=100)\n",
        "dendrogram(clusters,labels=ラベル,orientation='right',leaf_rotation=15, leaf_font_size=12)\n",
        "plt.title(\"図1 階層的クラスタリングの例（最短距離法）\", y=-0.25)\n",
        "plt.savefig(\"fig1\") # 結果画像の保存,"
      ],
      "execution_count": null,
      "outputs": []
    },
    {
      "cell_type": "markdown",
      "metadata": {
        "id": "_EoMzY5S7KYx"
      },
      "source": [
        "# 解説\n",
        "## **linkage()**   階層的クラスタリングの実行\n",
        "```\n",
        "clusters = linkage(data,method='single')\n",
        "```\n",
        "\n",
        "この1行だけで階層的クラスタリングが実行できてしまいます。\n",
        "\n",
        "### パラメータ\n",
        "**data**  \n",
        "データのリスト、もしくは距離配列（この演習では扱わないので説明略）\n",
        "\n",
        "上の例は１次元のデータの場合ですが、多次元なら、[(3,4),(1,-4),...]、あるいは、[0,1,2],[2,1,5],...,] のような、リストのリストまたはタプルのリストの形にします。\n",
        "\n",
        "**method** \n",
        "- 'single' : 　最短距離   \n",
        "- 'complete' : 　最長距離   \n",
        "- 'ward' :  ウォード法\n",
        "- 'centroid' ： 重心法\n",
        "- 'average' : 群平均\n",
        "- 'median' : メディアン法   \n",
        "\n",
        "が指定できます。\n",
        "\n",
        "**返り値**    \n",
        "\n",
        "リンケージマトリクスと呼ばれる、クラスタリング情報\n",
        "\n",
        "変数 clusters を表示して、リンケージマトリクスを確認してみましょう。次のセルを実行してください。"
      ]
    },
    {
      "cell_type": "code",
      "metadata": {
        "id": "UL4jiFjpUKzt"
      },
      "source": [
        "clusters"
      ],
      "execution_count": null,
      "outputs": []
    },
    {
      "cell_type": "markdown",
      "metadata": {
        "id": "PbTEdbJEVKIH"
      },
      "source": [
        "Nチームで行われるトーナメント試合は、全部で何試合でしょうか？　  \n",
        "**答**　N-1試合です。優勝チーム以外は必ず１回負けるのですから、当然そうなります。\n",
        "\n",
        "デンドログラムがトーナメント表のようになることから分かると思いますが、Ｎ個のデータをもとに階層的クラスタリングを実施すると、クラスタの統合はＮー１回発生します。先の例はデータが８個でしたから、統合は７回です。上の結果の7行は、その７回に対応しています。\n",
        "\n",
        "```\n",
        "[0., 1., 1., 2.]\n",
        "```\n",
        "を例に挙げて、意味を説明します。\n",
        "\n",
        "最初の0，1は、０番のクラスタ(A)と１番のクラスタ(B)をまとめる、ということを表しています。\n",
        "\n",
        "リストの３つ目の数字１は、それらの距離が１であったこと、最後の２は統合されてできたクラスタに含まれるデータの数が全部で２個であることを意味します。\n",
        "\n",
        "統合されてできたクラスタには、８番～１４番まで、統合順に連番がつけられます。（もし、元のデータが10個なら10番からです）\n",
        "\n",
        "８番[ 0.,  1.,  1.,  2.]　A（0番）とB（1番）をまとめたクラスタ、距離は１  \n",
        "９番[ 2.,  3.,  1.,  2.]　C（2番）とD（3番）をまとめたクラスタ、距離は１  \n",
        "10番[ 6.,  7.,  1.,  2.]　G（6番）とH（7番）をまとめたクラスタ、距離は１   \n",
        "11番[ 8.,  9.,  2.,  4.]　AB（8番）とCD（9番）をまとめたクラスタ、距離は２   \n",
        "12番[ 5., 10.,  2.,  3.]　F（5番）とGH(10番）をまとめたクラスタ、距離は２   \n",
        "13番[ 4., 12.,  3.,  4.]　E（4番）とFGH(12番）をまとめたクラスタ、距離は３   \n",
        "14番[11., 13.,  4.,  8.]　ACBD（11番）とEFGH(13番）まとめたクラスタ、距離は４   \n"
      ]
    },
    {
      "cell_type": "markdown",
      "metadata": {
        "id": "utQnRMGs7NpH"
      },
      "source": [
        "# **dendrogram()** デンドログラムの描画\n",
        "\n",
        "```\n",
        "dendrogram(clusters,labels=ラベル,orientation='right',leaf_rotation=15, leaf_font_size=12)\n",
        "```\n",
        "\n",
        "#### パラメータ\n",
        "**clusters**  リンケージマトリクス  \n",
        "\n",
        "**labels**  デンドログラムに表示するデータラベル  省略した場合は連番\n",
        "\n",
        "**orientation** デンドログラムの描画方向 　top, bottom, right, left が選べる。省略した場合は top。\n",
        "\n",
        "**leaf_rotation** ラベルの描画角度　単位は 度数（省略可）\n",
        "\n",
        "**leaf_font_size**  フォントサイズ（省略可）\n",
        "\n",
        "**color_threshold**  色分けのしきい値　省略した場合は最大値の70% \n"
      ]
    },
    {
      "cell_type": "markdown",
      "metadata": {
        "id": "5ZYngR82d7ik"
      },
      "source": [
        "# 別の例\n",
        "\n",
        "\n",
        "![kadai.png](data:image/png;base64,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)\n",
        "\n",
        "\n",
        "講義で出てきた階層的クラスタリングの例題をプログラムでやってみましょう。\n",
        "\n"
      ]
    },
    {
      "cell_type": "code",
      "metadata": {
        "id": "rG73PNVxiBb-"
      },
      "source": [
        "# データ定義\n",
        "data=[(0,2),(1,3),(2,0),(3,0),(3,3),(4,1),(6,1),(6,2)]\n",
        "ラベル=[l+\"\\n\"+str(d) for l,d in zip(\"ABCDEFGH\",data)]\n",
        "\n",
        "# 階層的クラスタリングの実行\n",
        "clusters = linkage(data,method='single') # 'single' # single:最短距離,  ward:ウォード法、centroid:重心法\n",
        "\n",
        "# 描画\n",
        "plt.figure(num=None, figsize=(4, 3), dpi=100)\n",
        "dendrogram(clusters,labels=ラベル)\n",
        "plt.title(\"図2 2次元データの階層的クラスタリング\", y=-0.35)\n",
        "plt.savefig(\"fig2\") # 結果画像の保存,"
      ],
      "execution_count": null,
      "outputs": []
    },
    {
      "cell_type": "markdown",
      "metadata": {
        "id": "okvZoAeXpaqj"
      },
      "source": [
        "クラスタリング結果を確認しておきます。"
      ]
    },
    {
      "cell_type": "code",
      "metadata": {
        "id": "ALr6ADOZnJby"
      },
      "source": [
        "clusters"
      ],
      "execution_count": null,
      "outputs": []
    },
    {
      "cell_type": "markdown",
      "metadata": {
        "id": "WyDa7aqRBqCe"
      },
      "source": [
        "$1.414=\\sqrt2, \\hspace{5mm} 2.236=\\sqrt5$です。デンドログラムの横棒の高さが距離と一致するように描かれていることを確認してください。"
      ]
    },
    {
      "cell_type": "markdown",
      "metadata": {
        "id": "AbB6PTIBHrb1"
      },
      "source": [
        "# 練習　\n",
        "(1) 重心法(method=**centroid**)を使ってD={0,2,5,9,12,14} のデンドログラムを作成しなさい。  \n",
        "(2) 二次元平面上に {(0,0), (0,1), (0,2),(4,0), (4,1), (4,2)}の６点の点集合がある． これらの点をウォード法(method=**ward**) を使って階層クラスタリングせよ。\n"
      ]
    },
    {
      "cell_type": "code",
      "metadata": {
        "id": "kMIgor_gpV9L"
      },
      "source": [
        ""
      ],
      "execution_count": null,
      "outputs": []
    },
    {
      "cell_type": "code",
      "metadata": {
        "id": "AIMWbEYKK_D8"
      },
      "source": [
        ""
      ],
      "execution_count": null,
      "outputs": []
    },
    {
      "cell_type": "markdown",
      "metadata": {
        "id": "MfCugoHMLAUb"
      },
      "source": [
        "# 応用\n",
        "\n",
        "添付ファイル、**jinkodata.csv** をアップロードしてください。"
      ]
    },
    {
      "cell_type": "code",
      "metadata": {
        "id": "eTs_rxsNLIun"
      },
      "source": [
        "from google.colab import files\n",
        "uploaded = files.upload()\n",
        "file_name = list(uploaded.keys())[0]"
      ],
      "execution_count": null,
      "outputs": []
    },
    {
      "cell_type": "code",
      "metadata": {
        "id": "eSVeS9f8bIj8"
      },
      "source": [
        "file_name = list(uploaded.keys())[0]\n",
        "# df_raw = pd.read_csv(file_name, delimiter=\",\", encoding=\"cp932\",index_col=0)  # Windows版 Excelなど、 Shift-JISコードの csv ファイルの場合\n",
        "df_raw = pd.read_csv(file_name, delimiter=\",\", encoding=\"utf-8\",index_col=0)  # UTF- csvファイルの場合\n",
        "df_raw.head(10) # データの上から10個を表示"
      ],
      "execution_count": null,
      "outputs": []
    },
    {
      "cell_type": "markdown",
      "metadata": {
        "id": "QqKNHXNzs4dJ"
      },
      "source": [
        "個別の項目でのクラスタリング\n",
        "\n",
        "データの３つの属性、「人口」「面積」「人口密度」をそれぞれ単独で使ってクラスタリングしてみます。\n",
        "\n"
      ]
    },
    {
      "cell_type": "code",
      "metadata": {
        "id": "mCDlhCfQbjup"
      },
      "source": [
        "# 人口による階層的クラスタリング\n",
        "data = df_raw[['人口']] # クラスタリング対象データ\n",
        "ラベル = df_raw.index # 都道府県名\n",
        "\n",
        "# 階層的クラスタリングの実行\n",
        "clusters = linkage(data,method='ward') # 'single' # single:最短距離,  ward:ウォード法、centroid:重心法\n",
        "\n",
        "# 描画\n",
        "plt.figure(num=None, figsize=(8, 4), dpi=100)\n",
        "dendrogram(clusters,labels=np.array(ラベル),orientation='top',leaf_font_size=8)\n",
        "plt.title(\"図３ 人口データのクラスタリング\", y=-0.3)\n",
        "plt.savefig(\"fig3\") # 結果画像の保存,"
      ],
      "execution_count": null,
      "outputs": []
    },
    {
      "cell_type": "code",
      "metadata": {
        "id": "B7CLhy82YmLe"
      },
      "source": [
        "# 面積による階層的クラスタリング\n",
        "data = df_raw[['面積']] # クラスタリング対象データ\n",
        "ラベル = df_raw.index # 都道府県名\n",
        "\n",
        "# 階層的クラスタリングの実行\n",
        "clusters = linkage(data,method='ward') # 'single' # single:最短距離,  ward:ウォード法、centroid:重心法\n",
        "\n",
        "# 描画\n",
        "plt.figure(num=None, figsize=(8, 4), dpi=100)\n",
        "dendrogram(clusters,labels=np.array(ラベル),orientation='top',leaf_font_size=8,color_threshold=20000)\n",
        "plt.title(\"図４ 面積データのクラスタリング\", y=-0.3)\n",
        "plt.savefig(\"fig4\") # 結果画像の保存,"
      ],
      "execution_count": null,
      "outputs": []
    },
    {
      "cell_type": "code",
      "metadata": {
        "id": "Q6t3pzkAb2mo"
      },
      "source": [
        "# 人口密度による階層的クラスタリング\n",
        "data = df_raw[['人口密度']] # クラスタリング対象データ\n",
        "ラベル = df_raw.index # 都道府県名\n",
        "\n",
        "# 階層的クラスタリングの実行\n",
        "clusters = linkage(data,method='ward') # 'single' # single:最短距離,  ward:ウォード法、centroid:重心法\n",
        "\n",
        "# 描画\n",
        "plt.figure(num=None, figsize=(8, 4), dpi=100)\n",
        "dendrogram(clusters,labels=np.array(ラベル),orientation='top',leaf_font_size=8,color_threshold=2000)\n",
        "plt.title(\"図５ 人口密度データのクラスタリング\", y=-0.3)\n",
        "plt.savefig(\"fig5\") # 結果画像の保存,"
      ],
      "execution_count": null,
      "outputs": []
    },
    {
      "cell_type": "markdown",
      "metadata": {
        "id": "z1gnIRzfUQ7o"
      },
      "source": [
        "# 結果の分析\n",
        "（１）「人口」によるクラスタ分析\n",
        "\n",
        "<img src=\"https://user-images.githubusercontent.com/5820803/128314305-4fcc582d-6be3-4771-ac35-ec27807457c2.png\" width=600>\n",
        "\n",
        "結果としてできたクラスタ階層は、データを大きく２つ分けると、「東京、千葉、兵庫、北海道、福岡、埼玉、愛知、神奈川、大阪」（赤色）とそれ以外の府県（緑色）に分かれるということを示しています。\n",
        "\n",
        "赤字はわれわれの、”大都市圏を要する都道府県”の概念にきれいに一致しています。\n",
        "\n",
        "（２）「面積」によるクラスタ分析\n",
        "\n",
        "<img src=\"https://user-images.githubusercontent.com/5820803/128317733-ff8ba0a4-97fb-4619-a84f-7ad4224f1a54.png\" width=300>\n",
        "\n",
        "「都道府県では、北海道の面積が突出している」という常識通り、もっとも上のレベルでは、北海道とそれ以外というクラスタ分けができています。次のレベルでは、北海道以外が「岐阜、秋田、新潟、岩手、福島、長野」とそれ以外にクラスタ分けされており、ここに上がっている６県が北海道以外では、面積上位であることがわかります。\n",
        "\n",
        "(３)「人口密度」によるクラスタ分析\n",
        "\n",
        "人口密度では、やはり東京、大阪、神奈川が他とは一線を画しており、この3都府県では東京が１段上であることがわかります。その次に、「埼玉、愛知、千葉、福岡」の４県が続きます。人口で上位クラスタにランキングしていた北海道と兵庫が人口密度では上位に挙がっていないので、この両県は人口も多いが、面積が大きいのだということが分かります。\n",
        "\n",
        "## 「人口、面積」RAWデータでのクラスタリング\n",
        "\n",
        "次に属性データの組み合わせでクラスタリングしてみる。「人口密度」は「人口」と「面積」と独立ではないので除外し、「人口」と「面積」の素データのペアをクラスタリングしてみます。\n",
        "\n"
      ]
    },
    {
      "cell_type": "code",
      "metadata": {
        "id": "eVGDZ8SreU17"
      },
      "source": [
        "# RAWデータのままでの階層的クラスタリング\n",
        "data = df_raw[['人口','面積']]  # クラスタリング対象データ\n",
        "ラベル = df_raw.index # 都道府県名\n",
        "\n",
        "# 階層的クラスタリングの実行\n",
        "clusters = linkage(data,method='ward') # 'single' # single:最短距離,  ward:ウォード法、centroid:重心法\n",
        "\n",
        "# 描画\n",
        "plt.figure(num=None, figsize=(8, 4), dpi=100)\n",
        "dendrogram(clusters,labels=np.array(ラベル),orientation='top',leaf_font_size=8,color_threshold=1e7)\n",
        "plt.title(\"図６ RAWデータ（人口と面積）でのクラスタリング\", y=-0.3)\n",
        "plt.savefig(\"fig\") # 結果画像の保存,"
      ],
      "execution_count": null,
      "outputs": []
    },
    {
      "cell_type": "markdown",
      "metadata": {
        "id": "qyZa_egutAZb"
      },
      "source": [
        "結果は、人口のみでの結果と非常に類似しています。これは、人口のデータの桁数が、面積と比べて３桁ほど大きいため、ほぼ人口だけで結果が決まってしまうからです。\n",
        "\n",
        "# データの標準化\n",
        "\n",
        "属性間の尺度の違いを吸収し、比較尺度として対等にするために、各属性値を平均０、標準偏差が１になるように変換することを、**標準化**と言います。\n",
        "\n",
        "次のプログラムにより、データセット df_raw から標準化したデータセット df_std を生成することができます。実行してみてください。"
      ]
    },
    {
      "cell_type": "code",
      "metadata": {
        "id": "n1e2LgRpblt0"
      },
      "source": [
        "# データの標準化\n",
        "from sklearn.preprocessing import StandardScaler\n",
        "sc = StandardScaler()\n",
        "sc.fit(df_raw)\n",
        "df_std = pd.DataFrame( data=sc.transform(df_raw), index=df_raw.index,columns=df_raw.columns)"
      ],
      "execution_count": null,
      "outputs": []
    },
    {
      "cell_type": "markdown",
      "metadata": {
        "id": "Ud_gET03n-Xq"
      },
      "source": [
        "# 標準化したデータセットにもとづくクラスタリング"
      ]
    },
    {
      "cell_type": "code",
      "metadata": {
        "id": "2CzyYmQWqvmy"
      },
      "source": [
        "data = df_std[['人口','面積']] # クラスタリング対象データ\n",
        "ラベル = df_raw.index # 都道府県名\n",
        "\n",
        "# 階層的クラスタリングの実行\n",
        "clusters = linkage(data,method='ward') # 'single' # single:最短距離,  ward:ウォード法、centroid:重心法\n",
        "\n",
        "# 描画\n",
        "plt.figure(num=None, figsize=(8, 4), dpi=100)\n",
        "dendrogram(clusters,labels=np.array(ラベル),orientation='top')\n",
        "plt.title(\"図７ 標準化データの階層的クラスタリング\", y=-0.35)\n",
        "plt.savefig(\"fig7\") # 結果画像の保存,"
      ],
      "execution_count": null,
      "outputs": []
    },
    {
      "cell_type": "markdown",
      "metadata": {
        "id": "kfZE09T1qM6h"
      },
      "source": [
        "# 標準化データのクラスタリング結果の分析\n",
        "\n",
        "(1) トップレベルの２クラスタ分割では、北海道とそれ以外という分割となっている。\n",
        "東京の人口の突出度よりも、北海道の面積の突出度の方がより大きいということを意味する。\n",
        "(2) 次の階層では、いわゆる大都市圏を持つ都道府県「東京、大阪、神奈川、愛知、埼玉、千葉、兵庫、福岡」とそれ以外という分割が起こっている。\n",
        "\n",
        "(3) 残りの府県では、右のほうに「岩手、岐阜、新潟、福島、長野」というクラスタがあるが、これは比較的面積の多い県のクラスタであろう。\n",
        "\n",
        "\n"
      ]
    },
    {
      "cell_type": "markdown",
      "metadata": {
        "id": "DfEcw7xljJVR"
      },
      "source": [
        "# <font color='red'>課題</font>\n",
        "\n",
        "「人口・面積・人口密度」のデータを使ったクラスタ解析を真似て、クラスタ解析を行ってみてください。\n",
        "\n",
        "## 手順\n",
        "(1) ネット上から任意の統計データを入手し、Excel でデータ用の csv ファイルを作る。手順が分からない人は、 [オープンな統計データの利用](https://drive.google.com/file/d/1KiTaNOg5Z7c3WStqRqA-kGMTOrOAe-5J/view) を参考にしてください。    \n",
        "(2) 属性を２つ選んで、それぞれの属性で階層的クラスタリングを実行しましょう。    \n",
        "(3) データの標準化を行い、複数の属性の組み合わせで階層的クラスタリングを実行してみてください。    \n",
        "(4) 以上の結果をレポートにまとめて提出してください。    \n",
        "- データの内容、入手先を記載。\n",
        "- どのようなデータなのか、先頭から数個ぐらいはレポートに記載する。\n",
        "- クラスタリング結果の画像、何を基準にしたのかをきちんと記述すること。\n",
        "- 分析、考察\n",
        "\n",
        "\n"
      ]
    },
    {
      "cell_type": "code",
      "metadata": {
        "id": "lplhmK5Ymh_W"
      },
      "source": [
        ""
      ],
      "execution_count": null,
      "outputs": []
    },
    {
      "cell_type": "code",
      "metadata": {
        "id": "VLSpMZ02mheF"
      },
      "source": [
        ""
      ],
      "execution_count": null,
      "outputs": []
    },
    {
      "cell_type": "code",
      "metadata": {
        "id": "PtQkFWuamhZE"
      },
      "source": [
        ""
      ],
      "execution_count": null,
      "outputs": []
    },
    {
      "cell_type": "code",
      "metadata": {
        "id": "4kK18UWrmhN4"
      },
      "source": [
        ""
      ],
      "execution_count": null,
      "outputs": []
    },
    {
      "cell_type": "markdown",
      "metadata": {
        "id": "cxek1rpeMjpc"
      },
      "source": [
        "--- \n",
        "以下に k-means 法を使った分析の例を紹介しておきます。\n",
        "\n",
        "# k平均法\n",
        "\n",
        "同じデータを、k平均法でクラスタリングしてみます。以下のプログラムを実行していてください。"
      ]
    },
    {
      "cell_type": "code",
      "metadata": {
        "id": "T250EjMLutEr"
      },
      "source": [
        "from sklearn.cluster import KMeans\n",
        "\n",
        "# データ定義\n",
        "df=df_std[['面積','人口']]\n",
        "data = df\n",
        "dx,dy= np.array(df['面積']),np.array(df['人口'])\n",
        "\n",
        "# k-means 法実行メソッド　 ｋ:　クラス数、 itr: クラスタ更新回数  \n",
        "cols = [\"green\",\"blue\",\"orange\",\"purple\",\"red\"]\n",
        "def go(k,itr):\n",
        "    global result\n",
        "    km = KMeans(n_clusters=k,init='random',n_init=1,max_iter=itr,random_state=1,precompute_distances=False)\n",
        "    result = km.fit(data)\n",
        "    # fig = plt.figure()\n",
        "    plt.figure(num=None, figsize=(8, 6), dpi=100)\n",
        "    plt.gca().set_aspect('equal')\n",
        "    print(u\"クラスタ重心\\n\",np.round([km.cluster_centers_[:,0],km.cluster_centers_[:,1]],2))\n",
        "    plt.scatter(km.cluster_centers_[:,0],km.cluster_centers_[:,1],marker='X',c='black')\n",
        "    for i,(x,y,s) in enumerate(zip(dx,dy,df_raw.index)):\n",
        "        plt.text(x-0.1,y+0.1,s,c=cols[result.labels_[i]],fontsize=6)\n",
        "    plt.scatter(dx[result.labels_==0.0], dy[result.labels_==0.0], marker = '.',c=\"green\")\n",
        "    plt.scatter(dx[result.labels_==1.0], dy[result.labels_==1.0], marker = '.',c=\"blue\")\n",
        "    plt.scatter(dx[result.labels_==2.0], dy[result.labels_==2.0],marker = '.',c=\"orange\")\n",
        "    plt.scatter(dx[result.labels_==3.0], dy[result.labels_==3.0],marker = '.',c=\"purple\")\n",
        "    plt.scatter(dx[result.labels_==4.0], dy[result.labels_==4.0],marker = '.',c=\"red\") \n",
        "    plt.ylabel(\"人口\")\n",
        "    plt.xlabel(\"面積\")\n",
        "    plt.show()\n",
        "    return km"
      ],
      "execution_count": null,
      "outputs": []
    },
    {
      "cell_type": "markdown",
      "metadata": {
        "id": "i2UrUto_NJT3"
      },
      "source": [
        "## k=3 （3クラスタへの分割）\n",
        "\n",
        "k-平均法は、漸近的にクラスタを最適化していく方法ですので、繰り返しが必要になります。\n",
        "\n",
        "上で定義した関数 **go(k,itr)** は、k が指定クラスタ数、itr が最大繰り返し回数です。本当は適当に大きな数を itr で指定して、一発で結果が出るのですが、k平均法の動作を理解するために、itr を１ずつ大きくしていって、分割状態の変化を観察してみます。"
      ]
    },
    {
      "cell_type": "code",
      "metadata": {
        "id": "fYYAJH2a4GWL"
      },
      "source": [
        "go(3,1);\n",
        "go(3,2);\n",
        "km=go(3,3);"
      ],
      "execution_count": null,
      "outputs": []
    },
    {
      "cell_type": "markdown",
      "metadata": {
        "id": "1FLFEtO4nKVf"
      },
      "source": [
        "繰り返し３回で終わってしまうので、あまり変化がありませんが、１回目のときに紫だった長野県と緑だったいくつかの県が最終的には黄色のその他のクラスタに変わります。\n",
        "\n",
        "最終的には、   \n",
        "0 大都市圏（東京、神奈川、大阪、愛知、埼玉、千葉、兵庫、福岡）   \n",
        "1 北海道   \n",
        "2 その他の府県  \n",
        "という風に分割されました。\n",
        "\n",
        "２次元にプロットされているので、データ同士の距離が視覚的に分かり易いです。\n",
        "\n",
        "\n",
        "\n",
        "次に、クラスタの特徴を可視化してみます。\n"
      ]
    },
    {
      "cell_type": "markdown",
      "metadata": {
        "id": "dt9gSu9RgQ9p"
      },
      "source": [
        "# クラスタの特徴の可視化"
      ]
    },
    {
      "cell_type": "code",
      "metadata": {
        "id": "7gePUhz4akff"
      },
      "source": [
        "# 可視化（積み上げ棒グラフ）\n",
        "cust_array = np.array([dx,dy]).T\n",
        "df_raw['クラスタ']=df['クラスタ']=km.fit_predict(cust_array)\n",
        "\n",
        "clusterinfo = pd.DataFrame()\n",
        "for i in range(3):\n",
        "    clusterinfo['クラスタ' + str(i)] = df[df['クラスタ'] == i].mean()\n",
        "clusterinfo = clusterinfo.drop('クラスタ')\n",
        " \n",
        "my_plot = clusterinfo.T.plot(kind='bar', stacked=True, title=\"３つのクラスタの特徴\")\n",
        "my_plot.set_xticklabels(my_plot.xaxis.get_majorticklabels(), rotation=0)"
      ],
      "execution_count": null,
      "outputs": []
    },
    {
      "cell_type": "markdown",
      "metadata": {
        "id": "8b4ysEnSgG33"
      },
      "source": [
        "クラスタ０は、人口と面積とでは人口の大きさが特徴であるということがわかります。クラスタ１、つまり北海道は面積が特徴で、人口もクラスタ0ほどではないけれど、クラスタ２の各県より多い、という特徴があることがわかります。クラスタ２は人口が平均より－であるというのが特徴だということがわかります。\n",
        "\n",
        "\n",
        "\n",
        "\n",
        "最後に、クラスタ判定の結果を表にして清書しておきます。"
      ]
    },
    {
      "cell_type": "code",
      "metadata": {
        "id": "cimkkdxac33k"
      },
      "source": [
        "df_raw"
      ],
      "execution_count": null,
      "outputs": []
    }
  ]
}