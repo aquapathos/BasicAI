{
  "nbformat": 4,
  "nbformat_minor": 0,
  "metadata": {
    "colab": {
      "name": "IAI2-2階層的クラスタリング",
      "provenance": [],
      "authorship_tag": "ABX9TyMNTY/ZJ240b2m+C91/IlPv",
      "include_colab_link": true
    },
    "kernelspec": {
      "name": "python3",
      "display_name": "Python 3"
    },
    "language_info": {
      "name": "python"
    }
  },
  "cells": [
    {
      "cell_type": "markdown",
      "metadata": {
        "id": "view-in-github",
        "colab_type": "text"
      },
      "source": [
        "<a href=\"https://colab.research.google.com/github/aquapathos/BasicAI/blob/master/IAI2_2%E9%9A%8E%E5%B1%A4%E7%9A%84%E3%82%AF%E3%83%A9%E3%82%B9%E3%82%BF%E3%83%AA%E3%83%B3%E3%82%B0.ipynb\" target=\"_parent\"><img src=\"https://colab.research.google.com/assets/colab-badge.svg\" alt=\"Open In Colab\"/></a>"
      ]
    },
    {
      "cell_type": "markdown",
      "metadata": {
        "id": "Lnog0kOMhk4l"
      },
      "source": [
        "# ライブラリの読み込み\n",
        "\n",
        "次のセルは実行しても何も起こりませんが、最初に1度必ず実行してください。2度実行する必要はありません。"
      ]
    },
    {
      "cell_type": "code",
      "metadata": {
        "id": "hU4Ba3F0hZ_u"
      },
      "source": [
        "from scipy.cluster.hierarchy import linkage, dendrogram\n",
        "from scipy.spatial.distance import pdist\n",
        "from scipy.cluster import hierarchy\n",
        "from scipy.spatial.distance import squareform\n",
        "import numpy as np\n",
        "import matplotlib.pyplot as plt\n",
        "!pip -q install japanize-matplotlib\n",
        "import japanize_matplotlib "
      ],
      "execution_count": 99,
      "outputs": []
    },
    {
      "cell_type": "markdown",
      "metadata": {
        "id": "qAt9JndX0CqM"
      },
      "source": [
        "# 階層的クラスタリングの例\n",
        "\n",
        "![kaisotekiclustering](https://user-images.githubusercontent.com/5820803/128136705-5d2f4f43-a16e-4880-8e30-347b0284fbde.png)\n",
        "\n",
        "データ 1,2,4,5,9,12,14,15 を最短距離を基準として階層的クラスタリングし、デンドログラムを描画するプログラムは次のように書ける。"
      ]
    },
    {
      "cell_type": "code",
      "metadata": {
        "colab": {
          "base_uri": "https://localhost:8080/",
          "height": 326
        },
        "id": "1Un80TocqWW4",
        "outputId": "b8bfbe04-92a1-4468-9a6f-bc0b9f6c86bc"
      },
      "source": [
        "ラベル=[1,2,4,5,9,12,14,15]\n",
        "データ=[[1],[2],[4],[5],[9],[12],[14],[15]]\n",
        "階層的クラスタリング結果 = linkage(距離行列,method='single') # 'single' # single:最短距離,  ward:ウォード法、centroid:重心法\n",
        "plt.figure(num=None, figsize=(4, 3), dpi=100)\n",
        "デンドログラム = dendrogram(階層的クラスタリング結果,labels=ラベル,orientation='right', truncate_mode='lastp')\n",
        "plt.title(\"図1 階層的クラスタリングの例（最短距離法）\", y=-0.3)\n",
        "plt.savefig(\"fig1\")"
      ],
      "execution_count": 156,
      "outputs": [
        {
          "output_type": "display_data",
          "data": {
            "image/png": "[encoded data removed]",
            "text/plain": [
              "<Figure size 400x300 with 1 Axes>"
            ]
          },
          "metadata": {
            "tags": [],
            "needs_background": "light"
          }
        }
      ]
    },
    {
      "cell_type": "markdown",
      "metadata": {
        "id": "MuuZEkfy2pFA"
      },
      "source": [
        "# 解説"
      ]
    },
    {
      "cell_type": "markdown",
      "metadata": {
        "id": "_EoMzY5S7KYx"
      },
      "source": [
        "## 階層的クラスタリングの実行\n",
        "```\n",
        "階層的クラスタリング結果 = linkage(データ,method='single')\n",
        "```\n",
        "\n",
        "この1行だけで階層的クラスタリングが実行できてしまいます。\n",
        "\n",
        "**method** は\n",
        "- 'single' : 　最短距離   \n",
        "- 'complete' : 　最長距離   \n",
        "- 'ward' :  ウォード法\n",
        "- 'centroid' ： 重心法\n",
        "- 'average' : 群平均\n",
        "- 'median' : メディアン(中央値)法    \n",
        "\n",
        "が指定できます。\n",
        "\n",
        "「階層的クラスタリング結果」という変数に何が格納されてのかを確認してみましょう。それには、次のセルを実行します。"
      ]
    },
    {
      "cell_type": "code",
      "metadata": {
        "colab": {
          "base_uri": "https://localhost:8080/"
        },
        "id": "UL4jiFjpUKzt",
        "outputId": "eae81c0c-f18d-4382-d426-ae9e14b9a5b5"
      },
      "source": [
        "階層的クラスタリング結果"
      ],
      "execution_count": 103,
      "outputs": [
        {
          "output_type": "execute_result",
          "data": {
            "text/plain": [
              "array([[ 0.,  1.,  1.,  2.],\n",
              "       [ 2.,  3.,  1.,  2.],\n",
              "       [ 6.,  7.,  1.,  2.],\n",
              "       [ 8.,  9.,  2.,  4.],\n",
              "       [ 5., 10.,  2.,  3.],\n",
              "       [ 4., 12.,  3.,  4.],\n",
              "       [11., 13.,  4.,  8.]])"
            ]
          },
          "metadata": {
            "tags": []
          },
          "execution_count": 103
        }
      ]
    },
    {
      "cell_type": "markdown",
      "metadata": {
        "id": "PbTEdbJEVKIH"
      },
      "source": [
        "Nチームで行われるトーナメント試合は、全部で何試合でしょうか？　  \n",
        "**答**　N-1試合です。優勝チーム以外は必ず１回負けるのですから、当然そうなります。\n",
        "\n",
        "デンドログラムがトーナメント表のようになることから分かると思いますが、Ｎ個のデータをもとに階層的クラスタリングを実施すると、クラスタへの統合はＮー１回発生します。先の例はデータが８個でしたから、統合は７回です。上の結果の7行は、その７回に対応しています。\n",
        "\n",
        "```\n",
        "[0,1,1,2]\n",
        "```\n",
        "を例に挙げて、意味を説明します。\n",
        "\n",
        "最初の０，１は、最初の統合は、０番目のクラスタと１番目のクラスタをまとめる、ということを表しています。\n",
        "\n",
        "３番目の数字の１は、それらの距離が１であったこと、最後の２は統合されてできたクラスタに含まれるデータの数が全部で２個であることを意味します。\n",
        "\n",
        "統合されてできた新しいクラスタには、もとからあった０～７番のクラスタ続きで、８番～１４番まで、統合順に連番がつけられます。\n",
        "\n"
      ]
    },
    {
      "cell_type": "markdown",
      "metadata": {
        "id": "5ZYngR82d7ik"
      },
      "source": [
        "# 別の例\n",
        "\n",
        "同じデータをウォード法でクラスタリングし、デンドログラムの向きを横向きにしてみます。\n",
        "\n",
        "同じデータを使うので、\n",
        "\n",
        "```\n",
        "ラベル=[1,2,4,5,9,12,14,15]\n",
        "データ=[[1],[2],[4],[5],[9],[12],[14],[15]]\n",
        "```\n",
        "は不要です。\n",
        "\n",
        "- ウォード法を使う　→　**method='ward'**\n",
        "- デンドログラムを左から右に描く　→  **orientation='right'** と指定\n",
        "\n"
      ]
    },
    {
      "cell_type": "code",
      "metadata": {
        "colab": {
          "base_uri": "https://localhost:8080/",
          "height": 326
        },
        "id": "rG73PNVxiBb-",
        "outputId": "ba64a881-24e6-4616-cc8a-789acfb2e691"
      },
      "source": [
        "階層的クラスタリング結果 = linkage(距離行列,method='ward') # 'single' # single:最短距離,  ward:ウォード法、centroid:重心法\n",
        "plt.figure(num=None, figsize=(4, 3), dpi=100)\n",
        "デンドログラム=dendrogram(階層的クラスタリング結果,labels=ラベル,orientation='right',truncate_mode='lastp')\n",
        "plt.title(\"図2 階層的クラスタリングの例（ウォード法）\", y=-0.3)\n",
        "plt.savefig(\"fig2\")"
      ],
      "execution_count": 154,
      "outputs": [
        {
          "output_type": "display_data",
          "data": {
            "image/png": "[encoded data removed]",
            "text/plain": [
              "<Figure size 400x300 with 1 Axes>"
            ]
          },
          "metadata": {
            "tags": [],
            "needs_background": "light"
          }
        }
      ]
    },
    {
      "cell_type": "markdown",
      "metadata": {
        "id": "okvZoAeXpaqj"
      },
      "source": [
        "クラスタリング結果を確認しておきます。"
      ]
    },
    {
      "cell_type": "code",
      "metadata": {
        "colab": {
          "base_uri": "https://localhost:8080/"
        },
        "id": "ALr6ADOZnJby",
        "outputId": "08dae597-9d4e-4457-95dd-2870b06aae88"
      },
      "source": [
        "階層的クラスタリング結果"
      ],
      "execution_count": 149,
      "outputs": [
        {
          "output_type": "execute_result",
          "data": {
            "text/plain": [
              "array([[ 0.        ,  1.        ,  1.        ,  2.        ],\n",
              "       [ 2.        ,  3.        ,  1.        ,  2.        ],\n",
              "       [ 6.        ,  7.        ,  1.        ,  2.        ],\n",
              "       [ 5.        , 10.        ,  2.88675135,  3.        ],\n",
              "       [ 8.        ,  9.        ,  4.24264069,  4.        ],\n",
              "       [ 4.        , 11.        ,  5.71547607,  4.        ],\n",
              "       [12.        , 13.        , 19.        ,  8.        ]])"
            ]
          },
          "metadata": {
            "tags": []
          },
          "execution_count": 149
        }
      ]
    },
    {
      "cell_type": "code",
      "metadata": {
        "id": "kMIgor_gpV9L"
      },
      "source": [
        ""
      ],
      "execution_count": null,
      "outputs": []
    }
  ]
}